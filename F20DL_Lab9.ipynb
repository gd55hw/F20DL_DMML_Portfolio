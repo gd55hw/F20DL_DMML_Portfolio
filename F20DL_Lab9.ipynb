{
 "cells": [
  {
   "cell_type": "markdown",
   "id": "760849d6",
   "metadata": {},
   "source": [
    "# F20DL Lab 9"
   ]
  },
  {
   "cell_type": "markdown",
   "id": "0030e03c",
   "metadata": {},
   "source": [
    "## Setup"
   ]
  },
  {
   "cell_type": "code",
   "execution_count": 1,
   "id": "ab56a10a",
   "metadata": {},
   "outputs": [],
   "source": [
    "# Python ≥3.5 is required\n",
    "import sys\n",
    "assert sys.version_info >= (3, 5)\n",
    "\n",
    "# Scikit-Learn ≥0.20 is required\n",
    "import sklearn\n",
    "assert sklearn.__version__ >= \"0.20\"\n",
    "\n",
    "# Common imports\n",
    "import numpy as np\n",
    "import os\n",
    "import pandas as pd\n",
    "import math\n",
    "\n",
    "# to make this notebook's output stable across runs\n",
    "np.random.seed(42)\n",
    "\n",
    "# To plot pretty figures\n",
    "%matplotlib inline\n",
    "import matplotlib as mpl\n",
    "import matplotlib.pyplot as plt\n",
    "\n",
    "# Ignore useless warnings (see SciPy issue #5998)\n",
    "import warnings\n",
    "warnings.filterwarnings(action=\"ignore\", message=\"^internal gelsd\")\n",
    "\n",
    "# Ignore convergence warnings\n",
    "from sklearn.exceptions import ConvergenceWarning\n",
    "warnings.filterwarnings(action=\"ignore\", category=ConvergenceWarning)"
   ]
  },
  {
   "cell_type": "code",
   "execution_count": 2,
   "id": "b7c1c488",
   "metadata": {},
   "outputs": [],
   "source": [
    "# Load the dataset into numpy arrays\n",
    "images = np.load(\"./datasets/smiley_X.npy\")\n",
    "labels = np.load(\"./datasets/smiley_Y.npy\")"
   ]
  },
  {
   "cell_type": "code",
   "execution_count": 3,
   "id": "0e5514f6",
   "metadata": {},
   "outputs": [],
   "source": [
    "# Flatten image data and convert values to int\n",
    "X = np.asarray([x.flatten() for x in images]).astype(int)\n",
    "y = labels.astype(int)"
   ]
  },
  {
   "cell_type": "code",
   "execution_count": 4,
   "id": "0b805ec8",
   "metadata": {},
   "outputs": [],
   "source": [
    "# data is an array of all images. Images are represented as a flattened row of pixel values.\n",
    "# To get pixel (r, c) of image i, use data[i-1][9*(r-1) + (c-1)] \n",
    "# Or use images[i][r-1][c-1][0]\n",
    "\n",
    "# data[0] returns a row of pixel values representing the 1st image.\n",
    "# data[0][24] and images[0][2][6][0] return the value of the pixel in the 3rd row and 7th column of the 1st image \n",
    "# (r=3, c=7).\n",
    "# target[0] returns the label for the 1st image."
   ]
  },
  {
   "cell_type": "code",
   "execution_count": 5,
   "id": "83923f8c",
   "metadata": {},
   "outputs": [],
   "source": [
    "# Shows smiley as an image. 'smiley' should be an element in 'images'\n",
    "def show_smiley(smiley):\n",
    "    plt.figure(figsize=(2,2))\n",
    "    plt.imshow(smiley, cmap=\"Greys\")"
   ]
  },
  {
   "cell_type": "markdown",
   "id": "4eac22de",
   "metadata": {},
   "source": [
    "## SGD Classifier"
   ]
  },
  {
   "cell_type": "code",
   "execution_count": 6,
   "id": "a6840221",
   "metadata": {},
   "outputs": [],
   "source": [
    "from sklearn.model_selection import train_test_split\n",
    "X_train, X_test, y_train, y_test = train_test_split(X, y, test_size=0.9, random_state=0) # 10% training, 90% testing"
   ]
  },
  {
   "cell_type": "code",
   "execution_count": 7,
   "id": "7c9633a5",
   "metadata": {},
   "outputs": [
    {
     "name": "stdout",
     "output_type": "stream",
     "text": [
      "MSE on training set: 0.0\n"
     ]
    }
   ],
   "source": [
    "from sklearn.linear_model import SGDClassifier\n",
    "from sklearn.metrics import mean_squared_error\n",
    "\n",
    "clf_SGD = SGDClassifier(random_state=0)\n",
    "clf_SGD.fit(X_train, y_train)\n",
    "\n",
    "# Get error on training set\n",
    "y_pred = clf_SGD.predict(X_train)\n",
    "train_error = mean_squared_error(y_train, y_pred)\n",
    "print(\"MSE on training set: {0}\".format(train_error))"
   ]
  },
  {
   "cell_type": "code",
   "execution_count": 8,
   "id": "2a02e6a2",
   "metadata": {},
   "outputs": [
    {
     "name": "stdout",
     "output_type": "stream",
     "text": [
      "MSE on testing set: 0.2076923076923077\n"
     ]
    }
   ],
   "source": [
    "# Get error on testing set\n",
    "y_pred = clf_SGD.predict(X_test)\n",
    "test_error = mean_squared_error(y_test, y_pred)\n",
    "print(\"MSE on testing set: {0}\".format(test_error))"
   ]
  },
  {
   "cell_type": "markdown",
   "id": "a1a41d6b",
   "metadata": {},
   "source": [
    "## Logistic Regression"
   ]
  },
  {
   "cell_type": "code",
   "execution_count": 9,
   "id": "b16fe4e0",
   "metadata": {},
   "outputs": [],
   "source": [
    "from sklearn.linear_model import LogisticRegression\n",
    "# Create Logistic Regression\n",
    "model = LogisticRegression(solver='liblinear', random_state=0)\n",
    "\n",
    "# Train Logistic Regression Model\n",
    "model = model.fit(X_train,y_train)\n",
    "\n",
    "#Predict the response for test dataset\n",
    "y_pred = model.predict(X_train)"
   ]
  },
  {
   "cell_type": "code",
   "execution_count": 10,
   "id": "17bcf415",
   "metadata": {},
   "outputs": [
    {
     "name": "stdout",
     "output_type": "stream",
     "text": [
      "MSE on training set: 0.0\n"
     ]
    }
   ],
   "source": [
    "# Get error on training set\n",
    "train_error = mean_squared_error(y_train, y_pred)\n",
    "print(\"MSE on training set: {0}\".format(train_error))"
   ]
  },
  {
   "cell_type": "markdown",
   "id": "a0d9f730",
   "metadata": {},
   "source": [
    "## Experiments with Hyperparameters"
   ]
  },
  {
   "cell_type": "markdown",
   "id": "5268ad3b",
   "metadata": {},
   "source": [
    "### No. of Iterations"
   ]
  },
  {
   "cell_type": "code",
   "execution_count": 11,
   "id": "c9e09bf4",
   "metadata": {},
   "outputs": [
    {
     "data": {
      "text/plain": [
       "[<matplotlib.lines.Line2D at 0x1eb25817850>]"
      ]
     },
     "execution_count": 11,
     "metadata": {},
     "output_type": "execute_result"
    },
    {
     "data": {
      "image/png": "[encoded data removed]",
      "text/plain": [
       "<Figure size 640x480 with 1 Axes>"
      ]
     },
     "metadata": {},
     "output_type": "display_data"
    }
   ],
   "source": [
    "iterations = list(range(1, 9))\n",
    "errors = []\n",
    "\n",
    "for iter in iterations:\n",
    "    clf = SGDClassifier(max_iter=iter, random_state=0)\n",
    "    clf.fit(X_train, y_train)\n",
    "    y_pred = clf.predict(X_test)\n",
    "    error = mean_squared_error(y_test, y_pred)\n",
    "    errors.append(error)\n",
    "\n",
    "plt.plot(iterations, errors)"
   ]
  },
  {
   "cell_type": "markdown",
   "id": "8dbf800f",
   "metadata": {},
   "source": [
    "### Learning Rate"
   ]
  },
  {
   "cell_type": "code",
   "execution_count": 12,
   "id": "2008c30f",
   "metadata": {},
   "outputs": [
    {
     "data": {
      "text/plain": [
       "(0.0, 0.4, 0.0, 0.6)"
      ]
     },
     "execution_count": 12,
     "metadata": {},
     "output_type": "execute_result"
    },
    {
     "data": {
      "image/png": "[encoded data removed]",
      "text/plain": [
       "<Figure size 640x480 with 1 Axes>"
      ]
     },
     "metadata": {},
     "output_type": "display_data"
    }
   ],
   "source": [
    "learning_rate = [0.0001, 0.001, 0.01, 0.1, 0.2, 0.3, 0.4]\n",
    "errors = []\n",
    "\n",
    "for lr in learning_rate:\n",
    "    clf = SGDClassifier(eta0=lr, learning_rate=\"constant\", max_iter=10, random_state=0)\n",
    "    clf.fit(X_train, y_train)\n",
    "    y_pred = clf.predict(X_test)\n",
    "    error = mean_squared_error(y_test, y_pred)\n",
    "    errors.append(error)\n",
    "\n",
    "plt.plot(learning_rate, errors)\n",
    "plt.axis([0, 0.4, 0, 0.6])"
   ]
  },
  {
   "cell_type": "markdown",
   "id": "e96844c6",
   "metadata": {},
   "source": [
    "### Batch Size"
   ]
  },
  {
   "cell_type": "code",
   "execution_count": 13,
   "id": "2b862bce",
   "metadata": {},
   "outputs": [
    {
     "data": {
      "text/plain": [
       "[<matplotlib.lines.Line2D at 0x1eb261861a0>]"
      ]
     },
     "execution_count": 13,
     "metadata": {},
     "output_type": "execute_result"
    },
    {
     "data": {
      "image/png": "[encoded data removed]",
      "text/plain": [
       "<Figure size 640x480 with 1 Axes>"
      ]
     },
     "metadata": {},
     "output_type": "display_data"
    }
   ],
   "source": [
    "batch_sizes = list(range(1, 13))\n",
    "errors = []\n",
    "\n",
    "for batch_size in batch_sizes:\n",
    "    # Prepare batches\n",
    "    batch_count = math.ceil(X_train.shape[0] / batch_size)\n",
    "    x_batches = []\n",
    "    y_batches = []\n",
    "    for i in range(batch_count):\n",
    "        start_index = batch_size * i\n",
    "        end_index = start_index + batch_size\n",
    "        \n",
    "        # If batch size > no. of remaining samples, set end index to last sample\n",
    "        if end_index > X_train.shape[0]: \n",
    "            end_index = -1\n",
    "        \n",
    "        x_batches.append(X_train[start_index : end_index])\n",
    "        y_batches.append(y_train[start_index : end_index])\n",
    "    \n",
    "\n",
    "    # Training\n",
    "    clf = SGDClassifier(eta0=0.2, learning_rate=\"constant\", random_state=0)\n",
    "    for iter in range(10):\n",
    "        for batch_no in range(batch_count):\n",
    "            clf.partial_fit(x_batches[batch_no], y_batches[batch_no], classes=[0, 1])\n",
    "        \n",
    "    # Prediction\n",
    "    y_pred = clf.predict(X_test)\n",
    "    error = mean_squared_error(y_test, y_pred)\n",
    "    errors.append(error)\n",
    "\n",
    "\n",
    "plt.plot(batch_sizes, errors)"
   ]
  }
 ],
 "metadata": {
  "kernelspec": {
   "display_name": "Python 3 (ipykernel)",
   "language": "python",
   "name": "python3"
  },
  "language_info": {
   "codemirror_mode": {
    "name": "ipython",
    "version": 3
   },
   "file_extension": ".py",
   "mimetype": "text/x-python",
   "name": "python",
   "nbconvert_exporter": "python",
   "pygments_lexer": "ipython3",
   "version": "3.10.4"
  }
 },
 "nbformat": 4,
 "nbformat_minor": 5
}
