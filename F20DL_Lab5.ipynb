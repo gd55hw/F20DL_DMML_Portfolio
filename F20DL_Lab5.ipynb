{
 "cells": [
  {
   "cell_type": "markdown",
   "id": "9490c10e",
   "metadata": {},
   "source": [
    "# F20DL Lab 5"
   ]
  },
  {
   "cell_type": "markdown",
   "id": "ad7d01c1",
   "metadata": {},
   "source": [
    "## Setup"
   ]
  },
  {
   "cell_type": "code",
   "execution_count": 1,
   "id": "f7c6bd7d",
   "metadata": {},
   "outputs": [],
   "source": [
    "# Python ≥3.5 is required\n",
    "import sys\n",
    "assert sys.version_info >= (3, 5)\n",
    "\n",
    "# Scikit-Learn ≥0.20 is required\n",
    "import sklearn\n",
    "assert sklearn.__version__ >= \"0.20\"\n",
    "\n",
    "# Common imports\n",
    "import numpy as np\n",
    "import os\n",
    "import pandas as pd\n",
    "\n",
    "# To plot pretty figures\n",
    "%matplotlib inline\n",
    "import matplotlib as mpl\n",
    "import matplotlib.pyplot as plt"
   ]
  },
  {
   "cell_type": "code",
   "execution_count": 2,
   "id": "b81d79e9",
   "metadata": {},
   "outputs": [],
   "source": [
    "# Load the dataset into a pandas dataframe\n",
    "ds = pd.read_csv(\"./datasets/Dry_Bean_Dataset.csv\")"
   ]
  },
  {
   "cell_type": "code",
   "execution_count": 3,
   "id": "6f871866",
   "metadata": {},
   "outputs": [],
   "source": [
    "data = ds[ds.columns.difference([\"Class\"])]    # Original dataset without 'Class' attribute\n",
    "target = ds[\"Class\"]"
   ]
  },
  {
   "cell_type": "markdown",
   "id": "809f2712",
   "metadata": {},
   "source": [
    "## Classifiers"
   ]
  },
  {
   "cell_type": "markdown",
   "id": "a8e013b8",
   "metadata": {},
   "source": [
    "### Multinomial Naive Bayes"
   ]
  },
  {
   "cell_type": "code",
   "execution_count": 4,
   "id": "26df7ac4",
   "metadata": {},
   "outputs": [],
   "source": [
    "from sklearn.preprocessing import KBinsDiscretizer\n",
    "disc = KBinsDiscretizer(n_bins=5, strategy = \"quantile\", encode = \"ordinal\")\n",
    "dmnb = disc.fit_transform(data)"
   ]
  },
  {
   "cell_type": "code",
   "execution_count": 5,
   "id": "65693948",
   "metadata": {},
   "outputs": [],
   "source": [
    "from sklearn.model_selection import train_test_split\n",
    "\n",
    "data_train, data_test, target_train, target_test = train_test_split(dmnb, target, random_state=6)    # Original"
   ]
  },
  {
   "cell_type": "code",
   "execution_count": 6,
   "id": "fde73193",
   "metadata": {},
   "outputs": [
    {
     "data": {
      "text/plain": [
       "0.8527769615045548"
      ]
     },
     "execution_count": 6,
     "metadata": {},
     "output_type": "execute_result"
    }
   ],
   "source": [
    "from sklearn.naive_bayes import MultinomialNB\n",
    "\n",
    "classifier = MultinomialNB(alpha=1.0, class_prior=None)\n",
    "classifier.fit(data_train, target_train)\n",
    "prediction = classifier.predict(data_test)\n",
    "classifier.score(data_test, target_test)   # Original dataset"
   ]
  },
  {
   "cell_type": "markdown",
   "id": "6afd62ce",
   "metadata": {},
   "source": [
    "### Gaussian Naive Bayes"
   ]
  },
  {
   "cell_type": "markdown",
   "id": "f4018f73",
   "metadata": {},
   "source": [
    "from sklearn.preprocessing import KBinsDiscretizer\n",
    "disc = KBinsDiscretizer(n_bins=5, strategy = \"uniform\", encode = \"ordinal\")\n",
    "dmnb = disc.fit_transform(data)"
   ]
  },
  {
   "cell_type": "markdown",
   "id": "8a6404bd",
   "metadata": {},
   "source": [
    "from sklearn.model_selection import train_test_split\n",
    "\n",
    "data_train, data_test, target_train, target_test = train_test_split(dmnb, target, random_state=6)    # Original"
   ]
  },
  {
   "cell_type": "markdown",
   "id": "582e55d7",
   "metadata": {},
   "source": [
    "from sklearn.naive_bayes import GaussianNB\n",
    "\n",
    "classifier = GaussianNB()\n",
    "prediction = classifier.fit(data_train, target_train).predict(data_test)\n",
    "\n",
    "#(total number of points, number of mislabled points)\n",
    "(data_test.shape[0], (target_test != prediction).sum())"
   ]
  },
  {
   "cell_type": "markdown",
   "id": "1e061876",
   "metadata": {},
   "source": [
    "### Complement Naive Bayes"
   ]
  },
  {
   "cell_type": "markdown",
   "id": "a092dfd7",
   "metadata": {},
   "source": [
    "from sklearn.preprocessing import KBinsDiscretizer\n",
    "disc = KBinsDiscretizer(n_bins=3, strategy = \"uniform\", encode = \"ordinal\")\n",
    "dmnb = disc.fit_transform(data)"
   ]
  },
  {
   "cell_type": "markdown",
   "id": "5569b11b",
   "metadata": {},
   "source": [
    "from sklearn.model_selection import train_test_split\n",
    "\n",
    "data_train, data_test, target_train, target_test = train_test_split(dmnb, target, random_state=6)    # Original"
   ]
  },
  {
   "cell_type": "markdown",
   "id": "b18204a7",
   "metadata": {},
   "source": [
    "from sklearn.metrics import accuracy_score, classification_report\n",
    "from sklearn.naive_bayes import ComplementNB\n",
    "\n",
    "classifier = ComplementNB()\n",
    "classifier.fit(data_train, target_train)\n",
    "\n",
    "prediction = classifier.predict(data_test)\n",
    "\n",
    "print(f\"Test Set Accuracy : {accuracy_score(target_test, prediction) * 100} % \\n\\n\")\n",
    "print(f\"Classifier Report : \\n\\n {classification_report(target_test, prediction)}\")"
   ]
  },
  {
   "cell_type": "markdown",
   "id": "7ee12d9e",
   "metadata": {},
   "source": [
    "### Bernoulli Naive Bayes"
   ]
  },
  {
   "cell_type": "markdown",
   "id": "6699a2d4",
   "metadata": {},
   "source": [
    "from sklearn.preprocessing import KBinsDiscretizer\n",
    "\n",
    "disc = KBinsDiscretizer(n_bins=2, strategy=\"quantile\", encode=\"ordinal\")\n",
    "bnb_data = disc.fit_transform(data)\n",
    "bnb_data"
   ]
  },
  {
   "cell_type": "markdown",
   "id": "5c16c4e0",
   "metadata": {},
   "source": [
    "from sklearn.model_selection import train_test_split\n",
    "\n",
    "data_train, data_test, target_train, target_test = train_test_split(bnb_data, target, random_state=6)"
   ]
  },
  {
   "cell_type": "markdown",
   "id": "81b97d80",
   "metadata": {},
   "source": [
    "from sklearn.naive_bayes import BernoulliNB\n",
    "\n",
    "classifier = BernoulliNB()\n",
    "classifier.fit(data_train, target_train)\n",
    "prediction = classifier.predict(data_test)\n",
    "classifier.score(data_test, target_test)"
   ]
  },
  {
   "cell_type": "markdown",
   "id": "065361b6",
   "metadata": {},
   "source": [
    "### Categorical Naive Bayes"
   ]
  },
  {
   "cell_type": "markdown",
   "id": "2ec3a224",
   "metadata": {},
   "source": [
    "Categorical Naive Bayes is a classifer for discrete categorical features. The features in our dataset, however, are mostly continuous. Therefore, to use CategoricalNB (the scikit-learn implementation of Categorical Naive Bayes) we must first place all of our continuous values into categories."
   ]
  },
  {
   "cell_type": "markdown",
   "id": "335f9170",
   "metadata": {},
   "source": [
    "from sklearn.preprocessing import KBinsDiscretizer\n",
    "disc = KBinsDiscretizer(n_bins=3, strategy = \"uniform\", encode = \"ordinal\")\n",
    "dmnb = disc.fit_transform(data)"
   ]
  },
  {
   "cell_type": "markdown",
   "id": "eb79d88f",
   "metadata": {},
   "source": [
    "from sklearn.model_selection import train_test_split\n",
    "\n",
    "data_train, data_test, target_train, target_test = train_test_split(dmnb, target, random_state=6)    # Original"
   ]
  },
  {
   "cell_type": "markdown",
   "id": "2509e0ee",
   "metadata": {},
   "source": [
    "Fitting our newly-categorised features and the corresponding labels to a CategoricalNB model gives us a model with a score of 77.8%."
   ]
  },
  {
   "cell_type": "markdown",
   "id": "dfa56c5b",
   "metadata": {},
   "source": [
    "from sklearn.naive_bayes import CategoricalNB\n",
    "\n",
    "classifier = CategoricalNB()\n",
    "classifier.fit(data_train, target_train)\n",
    "print(classifier.score(data_test, target_test))"
   ]
  },
  {
   "cell_type": "markdown",
   "id": "5eba81eb",
   "metadata": {},
   "source": [
    "prediction = classifier.predict(data_test)"
   ]
  },
  {
   "cell_type": "markdown",
   "id": "de9d158b",
   "metadata": {},
   "source": [
    "## Metrics"
   ]
  },
  {
   "cell_type": "code",
   "execution_count": 7,
   "id": "c719c01c",
   "metadata": {},
   "outputs": [
    {
     "data": {
      "text/plain": [
       "0.8527769615045548"
      ]
     },
     "execution_count": 7,
     "metadata": {},
     "output_type": "execute_result"
    }
   ],
   "source": [
    "from sklearn.metrics import accuracy_score\n",
    "accuracy_score(target_test, prediction)"
   ]
  },
  {
   "cell_type": "code",
   "execution_count": 8,
   "id": "4526eb50",
   "metadata": {},
   "outputs": [
    {
     "data": {
      "text/plain": [
       "<sklearn.metrics._plot.confusion_matrix.ConfusionMatrixDisplay at 0x239a3971510>"
      ]
     },
     "execution_count": 8,
     "metadata": {},
     "output_type": "execute_result"
    },
    {
     "data": {
      "image/png": "[encoded data removed]",
      "text/plain": [
       "<Figure size 640x480 with 2 Axes>"
      ]
     },
     "metadata": {},
     "output_type": "display_data"
    }
   ],
   "source": [
    "from sklearn.metrics import confusion_matrix\n",
    "from sklearn.metrics import ConfusionMatrixDisplay\n",
    "cm = confusion_matrix(target_test, prediction, labels=classifier.classes_)\n",
    "\n",
    "disp = ConfusionMatrixDisplay(confusion_matrix=cm, display_labels=classifier.classes_)\n",
    "disp.plot()"
   ]
  },
  {
   "cell_type": "code",
   "execution_count": 9,
   "id": "f53e49d3",
   "metadata": {},
   "outputs": [
    {
     "data": {
      "text/plain": [
       "(0.8152492668621701, 0.06063947078280044)"
      ]
     },
     "execution_count": 9,
     "metadata": {},
     "output_type": "execute_result"
    }
   ],
   "source": [
    "FP = cm.sum(axis=0) - np.diag(cm)  \n",
    "FN = cm.sum(axis=1) - np.diag(cm)\n",
    "TP = np.diag(cm)\n",
    "TN = cm.sum() - (FP + FN + TP)\n",
    "\n",
    "# For SIRA\n",
    "fp = FP[6]\n",
    "fn = FN[6]\n",
    "tp = TP[6]\n",
    "tn = TN[6]\n",
    "\n",
    "# True positive rate\n",
    "siraTPR = tp/(tp+fn)\n",
    "# False positive rate\n",
    "siraFPR = fp/(fp+tn)\n",
    "\n",
    "# Accuracy for SIRA\n",
    "\n",
    "(siraTPR, siraFPR)"
   ]
  },
  {
   "cell_type": "code",
   "execution_count": 10,
   "id": "8a01d12c",
   "metadata": {},
   "outputs": [
    {
     "data": {
      "text/plain": [
       "(0.9224952741020794, 0.017745302713987474)"
      ]
     },
     "execution_count": 10,
     "metadata": {},
     "output_type": "execute_result"
    }
   ],
   "source": [
    "# For SEKER\n",
    "fpSek = FP[5]\n",
    "fnSek = FN[5]\n",
    "tpSek = TP[5]\n",
    "tnSek = TN[5]\n",
    "\n",
    "# True positive rate\n",
    "sekerTPR = tpSek/(tpSek+fnSek)\n",
    "# False positive rate\n",
    "sekerFPR = fpSek/(fpSek+tnSek)\n",
    "\n",
    "(sekerTPR, sekerFPR)"
   ]
  },
  {
   "cell_type": "code",
   "execution_count": 11,
   "id": "8bf5271d",
   "metadata": {},
   "outputs": [
    {
     "data": {
      "text/plain": [
       "(0.9504950495049505, 0.021048999309868876)"
      ]
     },
     "execution_count": 11,
     "metadata": {},
     "output_type": "execute_result"
    }
   ],
   "source": [
    "# For HOROZ\n",
    "fpHor = FP[4]\n",
    "fnHor = FN[4]\n",
    "tpHor = TP[4]\n",
    "tnHor = TN[4]\n",
    "\n",
    "# True positive rate\n",
    "horozTPR = tpHor/(tpHor+fnHor)\n",
    "# False positive rate\n",
    "horozFPR = fpHor/(fpHor+tnHor)\n",
    "\n",
    "(horozTPR, horozFPR)"
   ]
  },
  {
   "cell_type": "code",
   "execution_count": 12,
   "id": "4b22ac41",
   "metadata": {},
   "outputs": [
    {
     "data": {
      "text/plain": [
       "(0.8492343934040048, 0.030540328895849646)"
      ]
     },
     "execution_count": 12,
     "metadata": {},
     "output_type": "execute_result"
    }
   ],
   "source": [
    "# For DERMASON\n",
    "fpDer = FP[3]\n",
    "fnDer = FN[3]\n",
    "tpDer = TP[3]\n",
    "tnDer = TN[3]\n",
    "\n",
    "# True positive rate\n",
    "dermasonTPR = tpDer/(tpDer+fnDer)\n",
    "# False positive rate\n",
    "dermasonFPR = fpDer/(fpDer+tnDer)\n",
    "\n",
    "(dermasonTPR, dermasonFPR)"
   ]
  },
  {
   "cell_type": "code",
   "execution_count": 13,
   "id": "433e93ee",
   "metadata": {},
   "outputs": [
    {
     "data": {
      "text/plain": [
       "(0.8382352941176471, 0.04006677796327212)"
      ]
     },
     "execution_count": 13,
     "metadata": {},
     "output_type": "execute_result"
    }
   ],
   "source": [
    "# For CALI\n",
    "fpCal = FP[2]\n",
    "fnCal = FN[2]\n",
    "tpCal = TP[2]\n",
    "tnCal = TN[2]\n",
    "\n",
    "# True positive rate\n",
    "caliTPR = tpCal/(tpCal+fnCal)\n",
    "# False positive rate\n",
    "caliFPR = fpCal/(fpCal+tnCal)\n",
    "\n",
    "(caliTPR, caliFPR)"
   ]
  },
  {
   "cell_type": "code",
   "execution_count": 14,
   "id": "d32a5b3e",
   "metadata": {},
   "outputs": [
    {
     "data": {
      "text/plain": [
       "(0.5377358490566038, 0.0021231422505307855)"
      ]
     },
     "execution_count": 14,
     "metadata": {},
     "output_type": "execute_result"
    }
   ],
   "source": [
    "# For BOMBAY\n",
    "fpBom = FP[1]\n",
    "fnBom = FN[1]\n",
    "tpBom = TP[1]\n",
    "tnBom = TN[1]\n",
    "\n",
    "# True positive rate\n",
    "bombayTPR = tpBom/(tpBom+fnBom)\n",
    "# False positive rate\n",
    "bombayFPR = fpBom/(fpBom+tnBom)\n",
    "\n",
    "(bombayTPR, bombayFPR)"
   ]
  },
  {
   "cell_type": "code",
   "execution_count": 15,
   "id": "1da54459",
   "metadata": {},
   "outputs": [
    {
     "data": {
      "text/plain": [
       "(0.7962962962962963, 0.006170834686586554)"
      ]
     },
     "execution_count": 15,
     "metadata": {},
     "output_type": "execute_result"
    }
   ],
   "source": [
    "# For BARBUNYA\n",
    "fpBar = FP[0]\n",
    "fnBar = FN[0]\n",
    "tpBar = TP[0]\n",
    "tnBar = TN[0]\n",
    "\n",
    "# True positive rate\n",
    "barbunyaTPR = tpBar/(tpBar+fnBar)\n",
    "# False positive rate\n",
    "barbunyaFPR = fpBar/(fpBar+tnBar)\n",
    "\n",
    "(barbunyaTPR, barbunyaFPR)"
   ]
  },
  {
   "cell_type": "code",
   "execution_count": 16,
   "id": "056dbb93",
   "metadata": {},
   "outputs": [
    {
     "data": {
      "text/plain": [
       "(0.7711511789181692, 0.8152492668621701, 0.7925873129009267)"
      ]
     },
     "execution_count": 16,
     "metadata": {},
     "output_type": "execute_result"
    }
   ],
   "source": [
    "#Lab 4 part 3\n",
    "\n",
    "#Precision\n",
    "precision = tp/(tp+fp)\n",
    "\n",
    "#Recall\n",
    "recall = tp/(tp+fn)\n",
    "\n",
    "#F-measure\n",
    "Fmeasure = (2 * recall * precision) / (recall + precision)\n",
    "\n",
    "#Display\n",
    "(precision, recall, Fmeasure)"
   ]
  },
  {
   "cell_type": "markdown",
   "id": "9b037106",
   "metadata": {},
   "source": [
    "## ROC Curve"
   ]
  },
  {
   "cell_type": "code",
   "execution_count": 17,
   "id": "f3aca0fd",
   "metadata": {},
   "outputs": [],
   "source": [
    "# Convert target class to be true for bean type \"SIRA\" and false otherwise\n",
    "target_train_sira = (target_train == \"SIRA\")\n",
    "target_test_sira = (target_test == \"SIRA\")"
   ]
  },
  {
   "cell_type": "code",
   "execution_count": 18,
   "id": "2347022c",
   "metadata": {},
   "outputs": [
    {
     "data": {
      "text/plain": [
       "array([0.12212472, 0.11247768, 0.26804328, ..., 0.23023276, 0.1643748 ,\n",
       "       0.07788512])"
      ]
     },
     "execution_count": 18,
     "metadata": {},
     "output_type": "execute_result"
    }
   ],
   "source": [
    "from sklearn.model_selection import cross_val_predict\n",
    "\n",
    "target_score = cross_val_predict(classifier, data_train, target_train_sira, cv=5, method=\"predict_proba\")\n",
    "target_score = target_score[:,1]\n",
    "target_score"
   ]
  },
  {
   "cell_type": "code",
   "execution_count": 19,
   "id": "96169e96",
   "metadata": {},
   "outputs": [],
   "source": [
    "from sklearn.metrics import roc_curve\n",
    "\n",
    "# Get fpr and tpr values for roc curve\n",
    "fpr, tpr, threshold = roc_curve(target_train_sira, target_score)"
   ]
  },
  {
   "cell_type": "code",
   "execution_count": 20,
   "id": "22a83ee6",
   "metadata": {},
   "outputs": [],
   "source": [
    "from sklearn.metrics import roc_auc_score\n",
    "\n",
    "# Calculate area under roc curve\n",
    "roc_area = roc_auc_score(target_train_sira, target_score)"
   ]
  },
  {
   "cell_type": "code",
   "execution_count": 21,
   "id": "9ef21ec0",
   "metadata": {},
   "outputs": [
    {
     "data": {
      "image/png": "[encoded data removed]",
      "text/plain": [
       "<Figure size 640x480 with 1 Axes>"
      ]
     },
     "metadata": {},
     "output_type": "display_data"
    }
   ],
   "source": [
    "# Plot roc curve\n",
    "plt.figure()\n",
    "plt.plot(fpr, tpr, linewidth=5, label=\"ROC Curve (area = {:.2f})\".format(roc_area))\n",
    "plt.plot([0, 1], [0, 1], 'k--') # dashed diagonal\n",
    "plt.axis([0, 1, 0, 1])                                    # Not shown in the book\n",
    "plt.xlabel('False Positive Rate (Fall-Out)', fontsize=12) # Not shown\n",
    "plt.ylabel('True Positive Rate (Recall)', fontsize=12)    # Not shown\n",
    "plt.grid(True)                                            # Not shown\n",
    "plt.legend(loc=\"lower right\")\n",
    "plt.show()"
   ]
  },
  {
   "cell_type": "code",
   "execution_count": null,
   "id": "ccd18d6c",
   "metadata": {},
   "outputs": [],
   "source": []
  }
 ],
 "metadata": {
  "kernelspec": {
   "display_name": "Python 3 (ipykernel)",
   "language": "python",
   "name": "python3"
  },
  "language_info": {
   "codemirror_mode": {
    "name": "ipython",
    "version": 3
   },
   "file_extension": ".py",
   "mimetype": "text/x-python",
   "name": "python",
   "nbconvert_exporter": "python",
   "pygments_lexer": "ipython3",
   "version": "3.10.4"
  }
 },
 "nbformat": 4,
 "nbformat_minor": 5
}
