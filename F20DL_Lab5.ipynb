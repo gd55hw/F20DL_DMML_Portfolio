{
 "cells": [
  {
   "cell_type": "markdown",
   "id": "9490c10e",
   "metadata": {},
   "source": [
    "# F20DL Lab 3"
   ]
  },
  {
   "cell_type": "markdown",
   "id": "ad7d01c1",
   "metadata": {},
   "source": [
    "## Setup"
   ]
  },
  {
   "cell_type": "code",
   "execution_count": 1,
   "id": "f7c6bd7d",
   "metadata": {},
   "outputs": [],
   "source": [
    "# Python ≥3.5 is required\n",
    "import sys\n",
    "assert sys.version_info >= (3, 5)\n",
    "\n",
    "# Scikit-Learn ≥0.20 is required\n",
    "import sklearn\n",
    "assert sklearn.__version__ >= \"0.20\"\n",
    "\n",
    "# Common imports\n",
    "import numpy as np\n",
    "import os\n",
    "import pandas as pd\n",
    "\n",
    "# To plot pretty figures\n",
    "%matplotlib inline\n",
    "import matplotlib as mpl\n",
    "import matplotlib.pyplot as plt"
   ]
  },
  {
   "cell_type": "code",
   "execution_count": 2,
   "id": "b81d79e9",
   "metadata": {},
   "outputs": [],
   "source": [
    "# Load the dataset into a pandas dataframe\n",
    "ds = pd.read_csv(\"./datasets/Dry_Bean_Dataset.csv\")"
   ]
  },
  {
   "cell_type": "code",
   "execution_count": 3,
   "id": "259646a3",
   "metadata": {},
   "outputs": [],
   "source": [
    "from sklearn.model_selection import train_test_split\n",
    "from sklearn.neighbors import KNeighborsClassifier"
   ]
  },
  {
   "cell_type": "markdown",
   "id": "6c5e37fa",
   "metadata": {},
   "source": [
    "## Parsing dataset"
   ]
  },
  {
   "cell_type": "markdown",
   "id": "ab88797e",
   "metadata": {},
   "source": [
    "The dataset is stored in a local CSV file. This is read and the target feature (Class) is separated from the other features."
   ]
  },
  {
   "cell_type": "code",
   "execution_count": 4,
   "id": "4fe8ebb5",
   "metadata": {},
   "outputs": [],
   "source": [
    "dataset = pd.read_csv(\"./datasets/Dry_Bean_Dataset.csv\")\n",
    "\n",
    "X = dataset.drop(\"Class\", axis=1)\n",
    "y = dataset[\"Class\"]"
   ]
  },
  {
   "cell_type": "markdown",
   "id": "4372caba",
   "metadata": {},
   "source": [
    "The rows are then scrambled to create the training and the test data. 25% of the rows are put aside as test data."
   ]
  },
  {
   "cell_type": "code",
   "execution_count": 5,
   "id": "2623a66e",
   "metadata": {},
   "outputs": [
    {
     "data": {
      "text/html": [
       "<div>\n",
       "<style scoped>\n",
       "    .dataframe tbody tr th:only-of-type {\n",
       "        vertical-align: middle;\n",
       "    }\n",
       "\n",
       "    .dataframe tbody tr th {\n",
       "        vertical-align: top;\n",
       "    }\n",
       "\n",
       "    .dataframe thead th {\n",
       "        text-align: right;\n",
       "    }\n",
       "</style>\n",
       "<table border=\"1\" class=\"dataframe\">\n",
       "  <thead>\n",
       "    <tr style=\"text-align: right;\">\n",
       "      <th></th>\n",
       "      <th>Area</th>\n",
       "      <th>Perimeter</th>\n",
       "      <th>MajorAxisLength</th>\n",
       "      <th>MinorAxisLength</th>\n",
       "      <th>AspectRation</th>\n",
       "      <th>Eccentricity</th>\n",
       "      <th>ConvexArea</th>\n",
       "      <th>EquivDiameter</th>\n",
       "      <th>Extent</th>\n",
       "      <th>Solidity</th>\n",
       "      <th>roundness</th>\n",
       "      <th>Compactness</th>\n",
       "      <th>ShapeFactor1</th>\n",
       "      <th>ShapeFactor2</th>\n",
       "      <th>ShapeFactor3</th>\n",
       "      <th>ShapeFactor4</th>\n",
       "    </tr>\n",
       "  </thead>\n",
       "  <tbody>\n",
       "    <tr>\n",
       "      <th>10129</th>\n",
       "      <td>23307</td>\n",
       "      <td>559.695</td>\n",
       "      <td>199.893862</td>\n",
       "      <td>148.644396</td>\n",
       "      <td>1.344779</td>\n",
       "      <td>0.668606</td>\n",
       "      <td>23654</td>\n",
       "      <td>172.265476</td>\n",
       "      <td>0.728868</td>\n",
       "      <td>0.985330</td>\n",
       "      <td>0.934961</td>\n",
       "      <td>0.861785</td>\n",
       "      <td>0.008577</td>\n",
       "      <td>0.002918</td>\n",
       "      <td>0.742673</td>\n",
       "      <td>0.998731</td>\n",
       "    </tr>\n",
       "    <tr>\n",
       "      <th>13479</th>\n",
       "      <td>40544</td>\n",
       "      <td>759.063</td>\n",
       "      <td>285.088347</td>\n",
       "      <td>181.520839</td>\n",
       "      <td>1.570554</td>\n",
       "      <td>0.771097</td>\n",
       "      <td>41076</td>\n",
       "      <td>227.205247</td>\n",
       "      <td>0.775873</td>\n",
       "      <td>0.987048</td>\n",
       "      <td>0.884262</td>\n",
       "      <td>0.796964</td>\n",
       "      <td>0.007032</td>\n",
       "      <td>0.001750</td>\n",
       "      <td>0.635152</td>\n",
       "      <td>0.997541</td>\n",
       "    </tr>\n",
       "    <tr>\n",
       "      <th>3240</th>\n",
       "      <td>84221</td>\n",
       "      <td>1205.045</td>\n",
       "      <td>397.284229</td>\n",
       "      <td>271.956410</td>\n",
       "      <td>1.460838</td>\n",
       "      <td>0.728977</td>\n",
       "      <td>86303</td>\n",
       "      <td>327.465277</td>\n",
       "      <td>0.705014</td>\n",
       "      <td>0.975876</td>\n",
       "      <td>0.728826</td>\n",
       "      <td>0.824259</td>\n",
       "      <td>0.004717</td>\n",
       "      <td>0.001343</td>\n",
       "      <td>0.679404</td>\n",
       "      <td>0.992499</td>\n",
       "    </tr>\n",
       "    <tr>\n",
       "      <th>10162</th>\n",
       "      <td>23797</td>\n",
       "      <td>570.158</td>\n",
       "      <td>204.581107</td>\n",
       "      <td>148.752383</td>\n",
       "      <td>1.375313</td>\n",
       "      <td>0.686524</td>\n",
       "      <td>24089</td>\n",
       "      <td>174.066888</td>\n",
       "      <td>0.705891</td>\n",
       "      <td>0.987878</td>\n",
       "      <td>0.919902</td>\n",
       "      <td>0.850845</td>\n",
       "      <td>0.008597</td>\n",
       "      <td>0.002779</td>\n",
       "      <td>0.723938</td>\n",
       "      <td>0.995641</td>\n",
       "    </tr>\n",
       "    <tr>\n",
       "      <th>1413</th>\n",
       "      <td>41864</td>\n",
       "      <td>739.821</td>\n",
       "      <td>253.736601</td>\n",
       "      <td>210.595361</td>\n",
       "      <td>1.204854</td>\n",
       "      <td>0.557799</td>\n",
       "      <td>42166</td>\n",
       "      <td>230.874209</td>\n",
       "      <td>0.774542</td>\n",
       "      <td>0.992838</td>\n",
       "      <td>0.961164</td>\n",
       "      <td>0.909897</td>\n",
       "      <td>0.006061</td>\n",
       "      <td>0.002563</td>\n",
       "      <td>0.827913</td>\n",
       "      <td>0.997514</td>\n",
       "    </tr>\n",
       "  </tbody>\n",
       "</table>\n",
       "</div>"
      ],
      "text/plain": [
       "        Area  Perimeter  MajorAxisLength  MinorAxisLength  AspectRation  \\\n",
       "10129  23307    559.695       199.893862       148.644396      1.344779   \n",
       "13479  40544    759.063       285.088347       181.520839      1.570554   \n",
       "3240   84221   1205.045       397.284229       271.956410      1.460838   \n",
       "10162  23797    570.158       204.581107       148.752383      1.375313   \n",
       "1413   41864    739.821       253.736601       210.595361      1.204854   \n",
       "\n",
       "       Eccentricity  ConvexArea  EquivDiameter    Extent  Solidity  roundness  \\\n",
       "10129      0.668606       23654     172.265476  0.728868  0.985330   0.934961   \n",
       "13479      0.771097       41076     227.205247  0.775873  0.987048   0.884262   \n",
       "3240       0.728977       86303     327.465277  0.705014  0.975876   0.728826   \n",
       "10162      0.686524       24089     174.066888  0.705891  0.987878   0.919902   \n",
       "1413       0.557799       42166     230.874209  0.774542  0.992838   0.961164   \n",
       "\n",
       "       Compactness  ShapeFactor1  ShapeFactor2  ShapeFactor3  ShapeFactor4  \n",
       "10129     0.861785      0.008577      0.002918      0.742673      0.998731  \n",
       "13479     0.796964      0.007032      0.001750      0.635152      0.997541  \n",
       "3240      0.824259      0.004717      0.001343      0.679404      0.992499  \n",
       "10162     0.850845      0.008597      0.002779      0.723938      0.995641  \n",
       "1413      0.909897      0.006061      0.002563      0.827913      0.997514  "
      ]
     },
     "execution_count": 5,
     "metadata": {},
     "output_type": "execute_result"
    }
   ],
   "source": [
    "X_train, X_test, y_train, y_test = train_test_split(X, y, random_state = 10, train_size = 0.75)\n",
    "\n",
    "X_train.head()"
   ]
  },
  {
   "cell_type": "markdown",
   "id": "9d353255",
   "metadata": {},
   "source": [
    "## K-Nearest Neighbours"
   ]
  },
  {
   "cell_type": "markdown",
   "id": "9aad8603",
   "metadata": {},
   "source": [
    "The dataset can be fit to a k-nearest neighbours model with number of neighbours as 3."
   ]
  },
  {
   "cell_type": "code",
   "execution_count": 6,
   "id": "2612dea3",
   "metadata": {},
   "outputs": [
    {
     "data": {
      "text/plain": [
       "KNeighborsClassifier(n_neighbors=3)"
      ]
     },
     "execution_count": 6,
     "metadata": {},
     "output_type": "execute_result"
    }
   ],
   "source": [
    "knn = KNeighborsClassifier(n_neighbors = 3)\n",
    "\n",
    "knn.fit(X_train, y_train)"
   ]
  },
  {
   "cell_type": "code",
   "execution_count": 7,
   "id": "52f4c36a",
   "metadata": {},
   "outputs": [
    {
     "name": "stdout",
     "output_type": "stream",
     "text": [
      "Accuracy: 0.727\n"
     ]
    }
   ],
   "source": [
    "print(\"Accuracy: {:.3f}\".format(knn.score(X_test, y_test)))"
   ]
  },
  {
   "cell_type": "markdown",
   "id": "2a5b29f8",
   "metadata": {},
   "source": [
    "## Classifier"
   ]
  },
  {
   "cell_type": "code",
   "execution_count": 8,
   "id": "6f871866",
   "metadata": {},
   "outputs": [],
   "source": [
    "ds0 = ds[ds.columns.difference([\"Class\"])]    # Original dataset without 'Class' attribute\n",
    "target = ds[\"Class\"]"
   ]
  },
  {
   "cell_type": "code",
   "execution_count": 9,
   "id": "4606f483",
   "metadata": {},
   "outputs": [],
   "source": [
    "from sklearn.neighbors import KNeighborsClassifier\n",
    "knn = KNeighborsClassifier(n_neighbors=3)          # 3-nn classifier"
   ]
  },
  {
   "cell_type": "code",
   "execution_count": 10,
   "id": "82fd0c94",
   "metadata": {},
   "outputs": [],
   "source": [
    "from sklearn.model_selection import train_test_split\n",
    "\n",
    "data_train0, data_test0, target_train0, target_test0 = train_test_split(ds0, target, random_state=6)    # Original"
   ]
  },
  {
   "cell_type": "code",
   "execution_count": 11,
   "id": "41d4f8c6",
   "metadata": {},
   "outputs": [
    {
     "data": {
      "text/plain": [
       "0.7202468410226271"
      ]
     },
     "execution_count": 11,
     "metadata": {},
     "output_type": "execute_result"
    }
   ],
   "source": [
    "knn.fit(data_train0, target_train0)\n",
    "prediction = knn.predict(data_test0)\n",
    "knn.score(data_test0, target_test0)   # Original dataset"
   ]
  },
  {
   "cell_type": "markdown",
   "id": "de9d158b",
   "metadata": {},
   "source": [
    "Lab4 Part 2: \n",
    "Accuracy"
   ]
  },
  {
   "cell_type": "code",
   "execution_count": 12,
   "id": "c719c01c",
   "metadata": {},
   "outputs": [
    {
     "data": {
      "text/plain": [
       "0.7202468410226271"
      ]
     },
     "execution_count": 12,
     "metadata": {},
     "output_type": "execute_result"
    }
   ],
   "source": [
    "from sklearn.metrics import accuracy_score\n",
    "accuracy_score(target_test0, prediction)"
   ]
  },
  {
   "cell_type": "markdown",
   "id": "dac44d39",
   "metadata": {},
   "source": [
    "Lab4 Part 2: \n",
    "TP"
   ]
  },
  {
   "cell_type": "code",
   "execution_count": 13,
   "id": "4526eb50",
   "metadata": {},
   "outputs": [
    {
     "data": {
      "text/plain": [
       "<sklearn.metrics._plot.confusion_matrix.ConfusionMatrixDisplay at 0x160002a4eb0>"
      ]
     },
     "execution_count": 13,
     "metadata": {},
     "output_type": "execute_result"
    },
    {
     "data": {
      "image/png": "[encoded data removed]",
      "text/plain": [
       "<Figure size 432x288 with 2 Axes>"
      ]
     },
     "metadata": {
      "needs_background": "light"
     },
     "output_type": "display_data"
    }
   ],
   "source": [
    "from sklearn.metrics import confusion_matrix\n",
    "from sklearn.metrics import ConfusionMatrixDisplay\n",
    "cm = confusion_matrix(target_test0, prediction, labels=knn.classes_)\n",
    "\n",
    "knn.fit(data_train0, target_train0)\n",
    "prediction = knn.predict(data_test0)\n",
    "knn.score(data_test0, target_test0)   # Original dataset\n",
    "\n",
    "disp = ConfusionMatrixDisplay(confusion_matrix=cm, display_labels=knn.classes_)\n",
    "disp.plot()"
   ]
  },
  {
   "cell_type": "code",
   "execution_count": 14,
   "id": "f53e49d3",
   "metadata": {},
   "outputs": [
    {
     "data": {
      "text/plain": [
       "(0.7228739002932552, 0.0804851157662624)"
      ]
     },
     "execution_count": 14,
     "metadata": {},
     "output_type": "execute_result"
    }
   ],
   "source": [
    "FP = cm.sum(axis=0) - np.diag(cm)  \n",
    "FN = cm.sum(axis=1) - np.diag(cm)\n",
    "TP = np.diag(cm)\n",
    "TN = cm.sum() - (FP + FN + TP)\n",
    "\n",
    "# For SIRA\n",
    "fp = FP[6]\n",
    "fn = FN[6]\n",
    "tp = TP[6]\n",
    "tn = TN[6]\n",
    "\n",
    "# True positive rate\n",
    "siraTPR = tp/(tp+fn)\n",
    "# False positive rate\n",
    "siraFPR = fp/(fp+tn)\n",
    "\n",
    "# Accuracy for SIRA\n",
    "\n",
    "(siraTPR, siraFPR)"
   ]
  },
  {
   "cell_type": "code",
   "execution_count": 15,
   "id": "8a01d12c",
   "metadata": {},
   "outputs": [
    {
     "data": {
      "text/plain": [
       "(0.6200378071833649, 0.024356297842727904)"
      ]
     },
     "execution_count": 15,
     "metadata": {},
     "output_type": "execute_result"
    }
   ],
   "source": [
    "# For SEKER\n",
    "fpSek = FP[5]\n",
    "fnSek = FN[5]\n",
    "tpSek = TP[5]\n",
    "tnSek = TN[5]\n",
    "\n",
    "# True positive rate\n",
    "sekerTPR = tpSek/(tpSek+fnSek)\n",
    "# False positive rate\n",
    "sekerFPR = fpSek/(fpSek+tnSek)\n",
    "\n",
    "(sekerTPR, sekerFPR)"
   ]
  },
  {
   "cell_type": "code",
   "execution_count": 16,
   "id": "8bf5271d",
   "metadata": {},
   "outputs": [
    {
     "data": {
      "text/plain": [
       "(0.691089108910891, 0.04175293305728088)"
      ]
     },
     "execution_count": 16,
     "metadata": {},
     "output_type": "execute_result"
    }
   ],
   "source": [
    "# For HOROZ\n",
    "fpHor = FP[4]\n",
    "fnHor = FN[4]\n",
    "tpHor = TP[4]\n",
    "tnHor = TN[4]\n",
    "\n",
    "# True positive rate\n",
    "horozTPR = tpHor/(tpHor+fnHor)\n",
    "# False positive rate\n",
    "horozFPR = fpHor/(fpHor+tnHor)\n",
    "\n",
    "(horozTPR, horozFPR)"
   ]
  },
  {
   "cell_type": "code",
   "execution_count": 17,
   "id": "4b22ac41",
   "metadata": {},
   "outputs": [
    {
     "data": {
      "text/plain": [
       "(0.8987043580683156, 0.08692247454972592)"
      ]
     },
     "execution_count": 17,
     "metadata": {},
     "output_type": "execute_result"
    }
   ],
   "source": [
    "# For DERMASON\n",
    "fpDer = FP[3]\n",
    "fnDer = FN[3]\n",
    "tpDer = TP[3]\n",
    "tnDer = TN[3]\n",
    "\n",
    "# True positive rate\n",
    "dermasonTPR = tpDer/(tpDer+fnDer)\n",
    "# False positive rate\n",
    "dermasonFPR = fpDer/(fpDer+tnDer)\n",
    "\n",
    "(dermasonTPR, dermasonFPR)"
   ]
  },
  {
   "cell_type": "code",
   "execution_count": 18,
   "id": "433e93ee",
   "metadata": {},
   "outputs": [
    {
     "data": {
      "text/plain": [
       "(0.6151960784313726, 0.04440734557595993)"
      ]
     },
     "execution_count": 18,
     "metadata": {},
     "output_type": "execute_result"
    }
   ],
   "source": [
    "# For CALI\n",
    "fpCal = FP[2]\n",
    "fnCal = FN[2]\n",
    "tpCal = TP[2]\n",
    "tnCal = TN[2]\n",
    "\n",
    "# True positive rate\n",
    "caliTPR = tpCal/(tpCal+fnCal)\n",
    "# False positive rate\n",
    "caliFPR = fpCal/(fpCal+tnCal)\n",
    "\n",
    "(caliTPR, caliFPR)"
   ]
  },
  {
   "cell_type": "code",
   "execution_count": 19,
   "id": "d32a5b3e",
   "metadata": {},
   "outputs": [
    {
     "data": {
      "text/plain": [
       "(1.0, 0.0)"
      ]
     },
     "execution_count": 19,
     "metadata": {},
     "output_type": "execute_result"
    }
   ],
   "source": [
    "# For BOMBAY\n",
    "fpBom = FP[1]\n",
    "fnBom = FN[1]\n",
    "tpBom = TP[1]\n",
    "tnBom = TN[1]\n",
    "\n",
    "# True positive rate\n",
    "bombayTPR = tpBom/(tpBom+fnBom)\n",
    "# False positive rate\n",
    "bombayFPR = fpBom/(fpBom+tnBom)\n",
    "\n",
    "(bombayTPR, bombayFPR)"
   ]
  },
  {
   "cell_type": "code",
   "execution_count": 20,
   "id": "1da54459",
   "metadata": {},
   "outputs": [
    {
     "data": {
      "text/plain": [
       "(0.49691358024691357, 0.06073400454693082)"
      ]
     },
     "execution_count": 20,
     "metadata": {},
     "output_type": "execute_result"
    }
   ],
   "source": [
    "# For BARBUNYA\n",
    "fpBar = FP[0]\n",
    "fnBar = FN[0]\n",
    "tpBar = TP[0]\n",
    "tnBar = TN[0]\n",
    "\n",
    "# True positive rate\n",
    "barbunyaTPR = tpBar/(tpBar+fnBar)\n",
    "# False positive rate\n",
    "barbunyaFPR = fpBar/(fpBar+tnBar)\n",
    "\n",
    "(barbunyaTPR, barbunyaFPR)"
   ]
  },
  {
   "cell_type": "code",
   "execution_count": 21,
   "id": "056dbb93",
   "metadata": {},
   "outputs": [
    {
     "data": {
      "text/plain": [
       "(0.6924157303370787, 0.7228739002932552, 0.7073170731707318)"
      ]
     },
     "execution_count": 21,
     "metadata": {},
     "output_type": "execute_result"
    }
   ],
   "source": [
    "#Lab 4 part 3\n",
    "\n",
    "#Precision\n",
    "precision = tp/(tp+fp)\n",
    "\n",
    "#Recall\n",
    "recall = tp/(tp+fn)\n",
    "\n",
    "#F-measure\n",
    "Fmeasure = (2 * recall * precision) / (recall + precision)\n",
    "\n",
    "#Display\n",
    "(precision, recall, Fmeasure)"
   ]
  },
  {
   "cell_type": "markdown",
   "id": "9b037106",
   "metadata": {},
   "source": [
    "## ROC Curve"
   ]
  },
  {
   "cell_type": "code",
   "execution_count": 22,
   "id": "f3aca0fd",
   "metadata": {},
   "outputs": [],
   "source": [
    "# Convert target class to be true for bean type \"SIRA\" and false otherwise\n",
    "target_train_sira = (target_train0 == \"SIRA\")\n",
    "target_test_sira = (target_test0 == \"SIRA\")"
   ]
  },
  {
   "cell_type": "code",
   "execution_count": 23,
   "id": "2347022c",
   "metadata": {},
   "outputs": [
    {
     "data": {
      "text/plain": [
       "array([0.07, 0.  , 0.04, ..., 0.  , 1.  , 0.  ])"
      ]
     },
     "execution_count": 23,
     "metadata": {},
     "output_type": "execute_result"
    }
   ],
   "source": [
    "from sklearn.ensemble import RandomForestClassifier\n",
    "from sklearn.model_selection import cross_val_predict\n",
    "\n",
    "# Predicted probability score using Random Forest Classifier\n",
    "rfc = RandomForestClassifier(n_estimators=100, random_state=6)\n",
    "target_score = cross_val_predict(rfc, data_train0, target_train_sira, cv=5, method=\"predict_proba\")\n",
    "target_score = target_score[:,1]\n",
    "target_score"
   ]
  },
  {
   "cell_type": "code",
   "execution_count": 24,
   "id": "96169e96",
   "metadata": {},
   "outputs": [],
   "source": [
    "from sklearn.metrics import roc_curve\n",
    "\n",
    "# Get fpr and tpr values for roc curve\n",
    "fpr, tpr, threshold = roc_curve(target_train_sira, target_score)"
   ]
  },
  {
   "cell_type": "code",
   "execution_count": 25,
   "id": "22a83ee6",
   "metadata": {},
   "outputs": [],
   "source": [
    "from sklearn.metrics import roc_auc_score\n",
    "\n",
    "# Calculate area under roc curve\n",
    "roc_area = roc_auc_score(target_train_sira, target_score)"
   ]
  },
  {
   "cell_type": "code",
   "execution_count": 26,
   "id": "9ef21ec0",
   "metadata": {},
   "outputs": [
    {
     "data": {
      "image/png": "[encoded data removed]",
      "text/plain": [
       "<Figure size 432x288 with 1 Axes>"
      ]
     },
     "metadata": {
      "needs_background": "light"
     },
     "output_type": "display_data"
    }
   ],
   "source": [
    "# Plot roc curve\n",
    "plt.figure()\n",
    "plt.plot(fpr, tpr, linewidth=5, label=\"ROC Curve (area = {:.2f})\".format(roc_area))\n",
    "plt.plot([0, 1], [0, 1], 'k--') # dashed diagonal\n",
    "plt.axis([0, 1, 0, 1])                                    # Not shown in the book\n",
    "plt.xlabel('False Positive Rate (Fall-Out)', fontsize=12) # Not shown\n",
    "plt.ylabel('True Positive Rate (Recall)', fontsize=12)    # Not shown\n",
    "plt.grid(True)                                            # Not shown\n",
    "plt.legend(loc=\"lower right\")\n",
    "plt.show()"
   ]
  },
  {
   "cell_type": "code",
   "execution_count": 28,
   "id": "53a9b7ba",
   "metadata": {},
   "outputs": [
    {
     "data": {
      "text/plain": [
       "(3403, 796)"
      ]
     },
     "execution_count": 28,
     "metadata": {},
     "output_type": "execute_result"
    }
   ],
   "source": [
    "from sklearn.naive_bayes import GaussianNB\n",
    "gaussianModel = GaussianNB()\n",
    "\n",
    "y_pred = gaussianModel.fit(X_train, y_train).predict(X_test)\n",
    "\n",
    "#(total number of points, number of mislabled points)\n",
    "(X_test.shape[0], (y_test != y_pred).sum())"
   ]
  },
  {
   "cell_type": "code",
   "execution_count": null,
   "id": "d4100ad6",
   "metadata": {},
   "outputs": [],
   "source": []
  }
 ],
 "metadata": {
  "kernelspec": {
   "display_name": "Python 3 (ipykernel)",
   "language": "python",
   "name": "python3"
  },
  "language_info": {
   "codemirror_mode": {
    "name": "ipython",
    "version": 3
   },
   "file_extension": ".py",
   "mimetype": "text/x-python",
   "name": "python",
   "nbconvert_exporter": "python",
   "pygments_lexer": "ipython3",
   "version": "3.9.12"
  }
 },
 "nbformat": 4,
 "nbformat_minor": 5
}
