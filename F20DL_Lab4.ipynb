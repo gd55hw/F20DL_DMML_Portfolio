{
 "cells": [
  {
   "cell_type": "markdown",
   "id": "9490c10e",
   "metadata": {},
   "source": [
    "# F20DL Lab 3"
   ]
  },
  {
   "cell_type": "markdown",
   "id": "ad7d01c1",
   "metadata": {},
   "source": [
    "## Setup"
   ]
  },
  {
   "cell_type": "code",
   "execution_count": 1,
   "id": "f7c6bd7d",
   "metadata": {},
   "outputs": [],
   "source": [
    "# Python ≥3.5 is required\n",
    "import sys\n",
    "assert sys.version_info >= (3, 5)\n",
    "\n",
    "# Scikit-Learn ≥0.20 is required\n",
    "import sklearn\n",
    "assert sklearn.__version__ >= \"0.20\"\n",
    "\n",
    "# Common imports\n",
    "import numpy as np\n",
    "import os\n",
    "import pandas as pd\n",
    "\n",
    "# To plot pretty figures\n",
    "%matplotlib inline\n",
    "import matplotlib as mpl\n",
    "import matplotlib.pyplot as plt"
   ]
  },
  {
   "cell_type": "code",
   "execution_count": 2,
   "id": "b81d79e9",
   "metadata": {},
   "outputs": [],
   "source": [
    "# Load the dataset into a pandas dataframe\n",
    "ds = pd.read_csv(\"./datasets/Dry_Bean_Dataset.csv\")"
   ]
  },
  {
   "cell_type": "markdown",
   "id": "219736e7",
   "metadata": {},
   "source": [
    "## New Datasets from Original Dataset"
   ]
  },
  {
   "cell_type": "code",
   "execution_count": 3,
   "id": "008cc343",
   "metadata": {
    "scrolled": false
   },
   "outputs": [
    {
     "name": "stdout",
     "output_type": "stream",
     "text": [
      "[ 0.93183359  0.55033477 -0.56837707  0.93260701  0.54197162  0.96173336\n",
      " -0.07806191  0.82605155  0.97733775 -0.77360867 -0.85923764 -0.5681848\n",
      " -0.48252718 -0.28430228 -0.59635758]\n"
     ]
    }
   ],
   "source": [
    "from sklearn.feature_selection import r_regression, SelectKBest\n",
    "\n",
    "data = ds[ds.columns.difference([\"Class\", \"MajorAxisLength\"])]\n",
    "target = ds[\"MajorAxisLength\"]\n",
    "\n",
    "print(r_regression(data, target))    # Pearson's r coefficient for all features against MajorAxisLength"
   ]
  },
  {
   "cell_type": "code",
   "execution_count": 4,
   "id": "8f6e4f8a",
   "metadata": {},
   "outputs": [
    {
     "data": {
      "text/plain": [
       "array(['EquivDiameter', 'Perimeter'], dtype=object)"
      ]
     },
     "execution_count": 4,
     "metadata": {},
     "output_type": "execute_result"
    }
   ],
   "source": [
    "# Dataset 1 - 2 features, 1 class\n",
    "ds1Est = SelectKBest(r_regression, k=2)    # Estimator for selecting most correlated features\n",
    "ds1Est.fit(data, target)\n",
    "ds1Features = ds1Est.get_feature_names_out()\n",
    "ds1Features    # Selected attributes"
   ]
  },
  {
   "cell_type": "code",
   "execution_count": 5,
   "id": "2e69d47e",
   "metadata": {},
   "outputs": [
    {
     "data": {
      "text/plain": [
       "array(['Area', 'ConvexArea', 'EquivDiameter', 'Perimeter'], dtype=object)"
      ]
     },
     "execution_count": 5,
     "metadata": {},
     "output_type": "execute_result"
    }
   ],
   "source": [
    "# Dataset 2 - 4 features, 1 class\n",
    "ds2Est = SelectKBest(r_regression, k=4)    # Estimator for selecting most correlated features\n",
    "ds2Est.fit(data, target)\n",
    "ds2Features = ds2Est.get_feature_names_out()\n",
    "ds2Features    # Selected attributes"
   ]
  },
  {
   "cell_type": "code",
   "execution_count": 6,
   "id": "2d97f2b2",
   "metadata": {},
   "outputs": [
    {
     "data": {
      "text/plain": [
       "array(['Area', 'AspectRation', 'ConvexArea', 'EquivDiameter',\n",
       "       'MinorAxisLength', 'Perimeter'], dtype=object)"
      ]
     },
     "execution_count": 6,
     "metadata": {},
     "output_type": "execute_result"
    }
   ],
   "source": [
    "# Dataset 3 - 6 features, 1 class\n",
    "ds3Est = SelectKBest(r_regression, k=6)    # Estimator for selecting most correlated features\n",
    "ds3Est.fit(data, target)\n",
    "ds3Features = ds3Est.get_feature_names_out()\n",
    "ds3Features    # Selected attributes"
   ]
  },
  {
   "cell_type": "code",
   "execution_count": 7,
   "id": "bb5fed21",
   "metadata": {},
   "outputs": [],
   "source": [
    "ds1 = ds1Est.transform(data)\n",
    "ds2 = ds2Est.transform(data)\n",
    "ds3 = ds3Est.transform(data)"
   ]
  },
  {
   "cell_type": "markdown",
   "id": "98551787",
   "metadata": {},
   "source": [
    "## Saving New Datasets"
   ]
  },
  {
   "cell_type": "code",
   "execution_count": 8,
   "id": "3d0d8539",
   "metadata": {
    "scrolled": true
   },
   "outputs": [
    {
     "data": {
      "text/html": [
       "<div>\n",
       "<style scoped>\n",
       "    .dataframe tbody tr th:only-of-type {\n",
       "        vertical-align: middle;\n",
       "    }\n",
       "\n",
       "    .dataframe tbody tr th {\n",
       "        vertical-align: top;\n",
       "    }\n",
       "\n",
       "    .dataframe thead th {\n",
       "        text-align: right;\n",
       "    }\n",
       "</style>\n",
       "<table border=\"1\" class=\"dataframe\">\n",
       "  <thead>\n",
       "    <tr style=\"text-align: right;\">\n",
       "      <th></th>\n",
       "      <th>EquivDiameter</th>\n",
       "      <th>Perimeter</th>\n",
       "    </tr>\n",
       "  </thead>\n",
       "  <tbody>\n",
       "    <tr>\n",
       "      <th>0</th>\n",
       "      <td>190.141097</td>\n",
       "      <td>610.291</td>\n",
       "    </tr>\n",
       "    <tr>\n",
       "      <th>1</th>\n",
       "      <td>191.272751</td>\n",
       "      <td>638.018</td>\n",
       "    </tr>\n",
       "    <tr>\n",
       "      <th>2</th>\n",
       "      <td>193.410904</td>\n",
       "      <td>624.110</td>\n",
       "    </tr>\n",
       "    <tr>\n",
       "      <th>3</th>\n",
       "      <td>195.467062</td>\n",
       "      <td>645.884</td>\n",
       "    </tr>\n",
       "    <tr>\n",
       "      <th>4</th>\n",
       "      <td>195.896503</td>\n",
       "      <td>620.134</td>\n",
       "    </tr>\n",
       "  </tbody>\n",
       "</table>\n",
       "</div>"
      ],
      "text/plain": [
       "   EquivDiameter  Perimeter\n",
       "0     190.141097    610.291\n",
       "1     191.272751    638.018\n",
       "2     193.410904    624.110\n",
       "3     195.467062    645.884\n",
       "4     195.896503    620.134"
      ]
     },
     "execution_count": 8,
     "metadata": {},
     "output_type": "execute_result"
    }
   ],
   "source": [
    "ds1DF = pd.DataFrame(data=ds1, columns=ds1Features)\n",
    "ds2DF = pd.DataFrame(data=ds2, columns=ds2Features)\n",
    "ds3DF = pd.DataFrame(data=ds3, columns=ds3Features)\n",
    "ds1DF.head()"
   ]
  },
  {
   "cell_type": "code",
   "execution_count": 9,
   "id": "3b5cd713",
   "metadata": {},
   "outputs": [],
   "source": [
    "# Commented to avoid making duplicate saves when running\n",
    "#ds1DF.to_csv(\"datasets/dataset1.csv\", index=False)\n",
    "#ds2DF.to_csv(\"datasets/dataset2.csv\", index=False)\n",
    "#ds3DF.to_csv(\"datasets/dataset3.csv\", index=False)"
   ]
  },
  {
   "cell_type": "markdown",
   "id": "2a5b29f8",
   "metadata": {},
   "source": [
    "## Classifier"
   ]
  },
  {
   "cell_type": "code",
   "execution_count": 10,
   "id": "6f871866",
   "metadata": {},
   "outputs": [],
   "source": [
    "ds0 = ds[ds.columns.difference([\"Class\"])]    # Original dataset without 'Class' attribute\n",
    "target = ds[\"Class\"]"
   ]
  },
  {
   "cell_type": "code",
   "execution_count": 11,
   "id": "4606f483",
   "metadata": {},
   "outputs": [],
   "source": [
    "from sklearn.neighbors import KNeighborsClassifier\n",
    "knn = KNeighborsClassifier(n_neighbors=3)          # 3-nn classifier"
   ]
  },
  {
   "cell_type": "code",
   "execution_count": 12,
   "id": "82fd0c94",
   "metadata": {},
   "outputs": [],
   "source": [
    "from sklearn.model_selection import train_test_split\n",
    "\n",
    "data_train0, data_test0, target_train0, target_test0 = train_test_split(ds0, target, random_state=6)    # Original"
   ]
  },
  {
   "cell_type": "code",
   "execution_count": 13,
   "id": "41d4f8c6",
   "metadata": {},
   "outputs": [
    {
     "data": {
      "text/plain": [
       "0.7202468410226271"
      ]
     },
     "execution_count": 13,
     "metadata": {},
     "output_type": "execute_result"
    }
   ],
   "source": [
    "knn.fit(data_train0, target_train0)\n",
    "prediction = knn.predict(data_test0)\n",
    "knn.score(data_test0, target_test0)   # Original dataset"
   ]
  },
  {
   "cell_type": "markdown",
   "id": "de9d158b",
   "metadata": {},
   "source": [
    "Lab4 Part 2: \n",
    "Accuracy"
   ]
  },
  {
   "cell_type": "code",
   "execution_count": 14,
   "id": "c719c01c",
   "metadata": {},
   "outputs": [
    {
     "data": {
      "text/plain": [
       "0.7202468410226271"
      ]
     },
     "execution_count": 14,
     "metadata": {},
     "output_type": "execute_result"
    }
   ],
   "source": [
    "from sklearn.metrics import accuracy_score\n",
    "accuracy_score(target_test0, prediction)"
   ]
  },
  {
   "cell_type": "markdown",
   "id": "dac44d39",
   "metadata": {},
   "source": [
    "Lab4 Part 2: \n",
    "TP"
   ]
  },
  {
   "cell_type": "code",
   "execution_count": 32,
   "id": "4526eb50",
   "metadata": {},
   "outputs": [
    {
     "data": {
      "text/plain": [
       "<sklearn.metrics._plot.confusion_matrix.ConfusionMatrixDisplay at 0x23c3fde2610>"
      ]
     },
     "execution_count": 32,
     "metadata": {},
     "output_type": "execute_result"
    },
    {
     "data": {
      "image/png": "[encoded data removed]",
      "text/plain": [
       "<Figure size 432x288 with 2 Axes>"
      ]
     },
     "metadata": {
      "needs_background": "light"
     },
     "output_type": "display_data"
    }
   ],
   "source": [
    "from sklearn.metrics import confusion_matrix\n",
    "from sklearn.metrics import ConfusionMatrixDisplay\n",
    "cm = confusion_matrix(target_test0, prediction, labels=knn.classes_)\n",
    "\n",
    "knn.fit(data_train0, target_train0)\n",
    "prediction = knn.predict(data_test0)\n",
    "knn.score(data_test0, target_test0)   # Original dataset\n",
    "\n",
    "disp = ConfusionMatrixDisplay(confusion_matrix=cm, display_labels=knn.classes_)\n",
    "disp.plot()"
   ]
  },
  {
   "cell_type": "code",
   "execution_count": 48,
   "id": "f53e49d3",
   "metadata": {},
   "outputs": [
    {
     "data": {
      "text/plain": [
       "(0.7202468410226271, 0.046625526496228815)"
      ]
     },
     "execution_count": 48,
     "metadata": {},
     "output_type": "execute_result"
    }
   ],
   "source": [
    "FP = cm.sum(axis=0) - np.diag(cm)  \n",
    "FN = cm.sum(axis=1) - np.diag(cm)\n",
    "TP = np.diag(cm)\n",
    "TN = cm.sum() - (FP + FN + TP)\n",
    "\n",
    "fp = 0\n",
    "tp = 0\n",
    "\n",
    "for i in range(7):\n",
    "    fp+=FP[i]\n",
    "    tp+=TP[i]\n",
    "\n",
    "# True positive rate\n",
    "TPR = tp/(tp+fn)\n",
    "# False positive rate\n",
    "FPR = fp/(fp+tn)\n",
    "\n",
    "# Overall accuracy\n",
    "\n",
    "(TPR, FPR)"
   ]
  },
  {
   "cell_type": "code",
   "execution_count": null,
   "id": "056dbb93",
   "metadata": {},
   "outputs": [],
   "source": [
    "#Lab 4 part 3\n",
    "\n",
    "#Precision\n",
    "precision = TP/(TP+FP)\n",
    "\n",
    "#Recall\n",
    "recall = TP/(TP+FN)\n",
    "\n",
    "#F-measure\n",
    "Fmeasure = (2 * recall * precision) / (recall + precision)\n",
    "\n",
    "#Display\n",
    "(precision, recall, Fmeasure)"
   ]
  }
 ],
 "metadata": {
  "kernelspec": {
   "display_name": "Python 3 (ipykernel)",
   "language": "python",
   "name": "python3"
  },
  "language_info": {
   "codemirror_mode": {
    "name": "ipython",
    "version": 3
   },
   "file_extension": ".py",
   "mimetype": "text/x-python",
   "name": "python",
   "nbconvert_exporter": "python",
   "pygments_lexer": "ipython3",
   "version": "3.9.12"
  }
 },
 "nbformat": 4,
 "nbformat_minor": 5
}
