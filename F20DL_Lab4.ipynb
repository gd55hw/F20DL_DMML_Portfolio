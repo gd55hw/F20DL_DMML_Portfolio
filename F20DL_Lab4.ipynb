{
 "cells": [
  {
   "cell_type": "markdown",
   "id": "9490c10e",
   "metadata": {},
   "source": [
    "# F20DL Lab 3"
   ]
  },
  {
   "cell_type": "markdown",
   "id": "ad7d01c1",
   "metadata": {},
   "source": [
    "## Setup"
   ]
  },
  {
   "cell_type": "code",
   "execution_count": 1,
   "id": "f7c6bd7d",
   "metadata": {},
   "outputs": [],
   "source": [
    "# Python ≥3.5 is required\n",
    "import sys\n",
    "assert sys.version_info >= (3, 5)\n",
    "\n",
    "# Scikit-Learn ≥0.20 is required\n",
    "import sklearn\n",
    "assert sklearn.__version__ >= \"0.20\"\n",
    "\n",
    "# Common imports\n",
    "import numpy as np\n",
    "import os\n",
    "import pandas as pd\n",
    "\n",
    "# To plot pretty figures\n",
    "%matplotlib inline\n",
    "import matplotlib as mpl\n",
    "import matplotlib.pyplot as plt"
   ]
  },
  {
   "cell_type": "code",
   "execution_count": 2,
   "id": "b81d79e9",
   "metadata": {},
   "outputs": [],
   "source": [
    "# Load the dataset into a pandas dataframe\n",
    "ds = pd.read_csv(\"./datasets/Dry_Bean_Dataset.csv\")"
   ]
  },
  {
   "cell_type": "code",
   "execution_count": 3,
   "id": "259646a3",
   "metadata": {},
   "outputs": [],
   "source": [
    "from sklearn.model_selection import train_test_split\n",
    "from sklearn.neighbors import KNeighborsClassifier"
   ]
  },
  {
   "cell_type": "markdown",
   "id": "6c5e37fa",
   "metadata": {},
   "source": [
    "## Parsing dataset"
   ]
  },
  {
   "cell_type": "markdown",
   "id": "ab88797e",
   "metadata": {},
   "source": [
    "The dataset is stored in a local CSV file. This is read and the target feature (Class) is separated from the other features."
   ]
  },
  {
   "cell_type": "code",
   "execution_count": 4,
   "id": "4fe8ebb5",
   "metadata": {},
   "outputs": [],
   "source": [
    "dataset = pd.read_csv(\"./datasets/Dry_Bean_Dataset.csv\")\n",
    "\n",
    "X = dataset.drop(\"Class\", axis=1)\n",
    "y = dataset[\"Class\"]"
   ]
  },
  {
   "cell_type": "markdown",
   "id": "4372caba",
   "metadata": {},
   "source": [
    "The rows are then scrambled to create the training and the test data. 25% of the rows are put aside as test data."
   ]
  },
  {
   "cell_type": "code",
   "execution_count": 5,
   "id": "2623a66e",
   "metadata": {},
   "outputs": [
    {
     "data": {
      "text/html": [
       "<div>\n",
       "<style scoped>\n",
       "    .dataframe tbody tr th:only-of-type {\n",
       "        vertical-align: middle;\n",
       "    }\n",
       "\n",
       "    .dataframe tbody tr th {\n",
       "        vertical-align: top;\n",
       "    }\n",
       "\n",
       "    .dataframe thead th {\n",
       "        text-align: right;\n",
       "    }\n",
       "</style>\n",
       "<table border=\"1\" class=\"dataframe\">\n",
       "  <thead>\n",
       "    <tr style=\"text-align: right;\">\n",
       "      <th></th>\n",
       "      <th>Area</th>\n",
       "      <th>Perimeter</th>\n",
       "      <th>MajorAxisLength</th>\n",
       "      <th>MinorAxisLength</th>\n",
       "      <th>AspectRation</th>\n",
       "      <th>Eccentricity</th>\n",
       "      <th>ConvexArea</th>\n",
       "      <th>EquivDiameter</th>\n",
       "      <th>Extent</th>\n",
       "      <th>Solidity</th>\n",
       "      <th>roundness</th>\n",
       "      <th>Compactness</th>\n",
       "      <th>ShapeFactor1</th>\n",
       "      <th>ShapeFactor2</th>\n",
       "      <th>ShapeFactor3</th>\n",
       "      <th>ShapeFactor4</th>\n",
       "    </tr>\n",
       "  </thead>\n",
       "  <tbody>\n",
       "    <tr>\n",
       "      <th>10129</th>\n",
       "      <td>23307</td>\n",
       "      <td>559.695</td>\n",
       "      <td>199.893862</td>\n",
       "      <td>148.644396</td>\n",
       "      <td>1.344779</td>\n",
       "      <td>0.668606</td>\n",
       "      <td>23654</td>\n",
       "      <td>172.265476</td>\n",
       "      <td>0.728868</td>\n",
       "      <td>0.985330</td>\n",
       "      <td>0.934961</td>\n",
       "      <td>0.861785</td>\n",
       "      <td>0.008577</td>\n",
       "      <td>0.002918</td>\n",
       "      <td>0.742673</td>\n",
       "      <td>0.998731</td>\n",
       "    </tr>\n",
       "    <tr>\n",
       "      <th>13479</th>\n",
       "      <td>40544</td>\n",
       "      <td>759.063</td>\n",
       "      <td>285.088347</td>\n",
       "      <td>181.520839</td>\n",
       "      <td>1.570554</td>\n",
       "      <td>0.771097</td>\n",
       "      <td>41076</td>\n",
       "      <td>227.205247</td>\n",
       "      <td>0.775873</td>\n",
       "      <td>0.987048</td>\n",
       "      <td>0.884262</td>\n",
       "      <td>0.796964</td>\n",
       "      <td>0.007032</td>\n",
       "      <td>0.001750</td>\n",
       "      <td>0.635152</td>\n",
       "      <td>0.997541</td>\n",
       "    </tr>\n",
       "    <tr>\n",
       "      <th>3240</th>\n",
       "      <td>84221</td>\n",
       "      <td>1205.045</td>\n",
       "      <td>397.284229</td>\n",
       "      <td>271.956410</td>\n",
       "      <td>1.460838</td>\n",
       "      <td>0.728977</td>\n",
       "      <td>86303</td>\n",
       "      <td>327.465277</td>\n",
       "      <td>0.705014</td>\n",
       "      <td>0.975876</td>\n",
       "      <td>0.728826</td>\n",
       "      <td>0.824259</td>\n",
       "      <td>0.004717</td>\n",
       "      <td>0.001343</td>\n",
       "      <td>0.679404</td>\n",
       "      <td>0.992499</td>\n",
       "    </tr>\n",
       "    <tr>\n",
       "      <th>10162</th>\n",
       "      <td>23797</td>\n",
       "      <td>570.158</td>\n",
       "      <td>204.581107</td>\n",
       "      <td>148.752383</td>\n",
       "      <td>1.375313</td>\n",
       "      <td>0.686524</td>\n",
       "      <td>24089</td>\n",
       "      <td>174.066888</td>\n",
       "      <td>0.705891</td>\n",
       "      <td>0.987878</td>\n",
       "      <td>0.919902</td>\n",
       "      <td>0.850845</td>\n",
       "      <td>0.008597</td>\n",
       "      <td>0.002779</td>\n",
       "      <td>0.723938</td>\n",
       "      <td>0.995641</td>\n",
       "    </tr>\n",
       "    <tr>\n",
       "      <th>1413</th>\n",
       "      <td>41864</td>\n",
       "      <td>739.821</td>\n",
       "      <td>253.736601</td>\n",
       "      <td>210.595361</td>\n",
       "      <td>1.204854</td>\n",
       "      <td>0.557799</td>\n",
       "      <td>42166</td>\n",
       "      <td>230.874209</td>\n",
       "      <td>0.774542</td>\n",
       "      <td>0.992838</td>\n",
       "      <td>0.961164</td>\n",
       "      <td>0.909897</td>\n",
       "      <td>0.006061</td>\n",
       "      <td>0.002563</td>\n",
       "      <td>0.827913</td>\n",
       "      <td>0.997514</td>\n",
       "    </tr>\n",
       "  </tbody>\n",
       "</table>\n",
       "</div>"
      ],
      "text/plain": [
       "        Area  Perimeter  MajorAxisLength  MinorAxisLength  AspectRation  \\\n",
       "10129  23307    559.695       199.893862       148.644396      1.344779   \n",
       "13479  40544    759.063       285.088347       181.520839      1.570554   \n",
       "3240   84221   1205.045       397.284229       271.956410      1.460838   \n",
       "10162  23797    570.158       204.581107       148.752383      1.375313   \n",
       "1413   41864    739.821       253.736601       210.595361      1.204854   \n",
       "\n",
       "       Eccentricity  ConvexArea  EquivDiameter    Extent  Solidity  roundness  \\\n",
       "10129      0.668606       23654     172.265476  0.728868  0.985330   0.934961   \n",
       "13479      0.771097       41076     227.205247  0.775873  0.987048   0.884262   \n",
       "3240       0.728977       86303     327.465277  0.705014  0.975876   0.728826   \n",
       "10162      0.686524       24089     174.066888  0.705891  0.987878   0.919902   \n",
       "1413       0.557799       42166     230.874209  0.774542  0.992838   0.961164   \n",
       "\n",
       "       Compactness  ShapeFactor1  ShapeFactor2  ShapeFactor3  ShapeFactor4  \n",
       "10129     0.861785      0.008577      0.002918      0.742673      0.998731  \n",
       "13479     0.796964      0.007032      0.001750      0.635152      0.997541  \n",
       "3240      0.824259      0.004717      0.001343      0.679404      0.992499  \n",
       "10162     0.850845      0.008597      0.002779      0.723938      0.995641  \n",
       "1413      0.909897      0.006061      0.002563      0.827913      0.997514  "
      ]
     },
     "execution_count": 5,
     "metadata": {},
     "output_type": "execute_result"
    }
   ],
   "source": [
    "X_train, X_test, y_train, y_test = train_test_split(X, y, random_state = 10, train_size = 0.75)\n",
    "\n",
    "X_train.head()"
   ]
  },
  {
   "cell_type": "markdown",
   "id": "9d353255",
   "metadata": {},
   "source": [
    "## K-Nearest Neighbours"
   ]
  },
  {
   "cell_type": "markdown",
   "id": "9aad8603",
   "metadata": {},
   "source": [
    "The dataset can be fit to a k-nearest neighbours model with number of neighbours as 3."
   ]
  },
  {
   "cell_type": "code",
   "execution_count": 6,
   "id": "2612dea3",
   "metadata": {},
   "outputs": [
    {
     "data": {
      "text/html": [
       "<style>#sk-container-id-1 {color: black;background-color: white;}#sk-container-id-1 pre{padding: 0;}#sk-container-id-1 div.sk-toggleable {background-color: white;}#sk-container-id-1 label.sk-toggleable__label {cursor: pointer;display: block;width: 100%;margin-bottom: 0;padding: 0.3em;box-sizing: border-box;text-align: center;}#sk-container-id-1 label.sk-toggleable__label-arrow:before {content: \"▸\";float: left;margin-right: 0.25em;color: #696969;}#sk-container-id-1 label.sk-toggleable__label-arrow:hover:before {color: black;}#sk-container-id-1 div.sk-estimator:hover label.sk-toggleable__label-arrow:before {color: black;}#sk-container-id-1 div.sk-toggleable__content {max-height: 0;max-width: 0;overflow: hidden;text-align: left;background-color: #f0f8ff;}#sk-container-id-1 div.sk-toggleable__content pre {margin: 0.2em;color: black;border-radius: 0.25em;background-color: #f0f8ff;}#sk-container-id-1 input.sk-toggleable__control:checked~div.sk-toggleable__content {max-height: 200px;max-width: 100%;overflow: auto;}#sk-container-id-1 input.sk-toggleable__control:checked~label.sk-toggleable__label-arrow:before {content: \"▾\";}#sk-container-id-1 div.sk-estimator input.sk-toggleable__control:checked~label.sk-toggleable__label {background-color: #d4ebff;}#sk-container-id-1 div.sk-label input.sk-toggleable__control:checked~label.sk-toggleable__label {background-color: #d4ebff;}#sk-container-id-1 input.sk-hidden--visually {border: 0;clip: rect(1px 1px 1px 1px);clip: rect(1px, 1px, 1px, 1px);height: 1px;margin: -1px;overflow: hidden;padding: 0;position: absolute;width: 1px;}#sk-container-id-1 div.sk-estimator {font-family: monospace;background-color: #f0f8ff;border: 1px dotted black;border-radius: 0.25em;box-sizing: border-box;margin-bottom: 0.5em;}#sk-container-id-1 div.sk-estimator:hover {background-color: #d4ebff;}#sk-container-id-1 div.sk-parallel-item::after {content: \"\";width: 100%;border-bottom: 1px solid gray;flex-grow: 1;}#sk-container-id-1 div.sk-label:hover label.sk-toggleable__label {background-color: #d4ebff;}#sk-container-id-1 div.sk-serial::before {content: \"\";position: absolute;border-left: 1px solid gray;box-sizing: border-box;top: 0;bottom: 0;left: 50%;z-index: 0;}#sk-container-id-1 div.sk-serial {display: flex;flex-direction: column;align-items: center;background-color: white;padding-right: 0.2em;padding-left: 0.2em;position: relative;}#sk-container-id-1 div.sk-item {position: relative;z-index: 1;}#sk-container-id-1 div.sk-parallel {display: flex;align-items: stretch;justify-content: center;background-color: white;position: relative;}#sk-container-id-1 div.sk-item::before, #sk-container-id-1 div.sk-parallel-item::before {content: \"\";position: absolute;border-left: 1px solid gray;box-sizing: border-box;top: 0;bottom: 0;left: 50%;z-index: -1;}#sk-container-id-1 div.sk-parallel-item {display: flex;flex-direction: column;z-index: 1;position: relative;background-color: white;}#sk-container-id-1 div.sk-parallel-item:first-child::after {align-self: flex-end;width: 50%;}#sk-container-id-1 div.sk-parallel-item:last-child::after {align-self: flex-start;width: 50%;}#sk-container-id-1 div.sk-parallel-item:only-child::after {width: 0;}#sk-container-id-1 div.sk-dashed-wrapped {border: 1px dashed gray;margin: 0 0.4em 0.5em 0.4em;box-sizing: border-box;padding-bottom: 0.4em;background-color: white;}#sk-container-id-1 div.sk-label label {font-family: monospace;font-weight: bold;display: inline-block;line-height: 1.2em;}#sk-container-id-1 div.sk-label-container {text-align: center;}#sk-container-id-1 div.sk-container {/* jupyter's `normalize.less` sets `[hidden] { display: none; }` but bootstrap.min.css set `[hidden] { display: none !important; }` so we also need the `!important` here to be able to override the default hidden behavior on the sphinx rendered scikit-learn.org. See: https://github.com/scikit-learn/scikit-learn/issues/21755 */display: inline-block !important;position: relative;}#sk-container-id-1 div.sk-text-repr-fallback {display: none;}</style><div id=\"sk-container-id-1\" class=\"sk-top-container\"><div class=\"sk-text-repr-fallback\"><pre>KNeighborsClassifier(n_neighbors=3)</pre><b>In a Jupyter environment, please rerun this cell to show the HTML representation or trust the notebook. <br />On GitHub, the HTML representation is unable to render, please try loading this page with nbviewer.org.</b></div><div class=\"sk-container\" hidden><div class=\"sk-item\"><div class=\"sk-estimator sk-toggleable\"><input class=\"sk-toggleable__control sk-hidden--visually\" id=\"sk-estimator-id-1\" type=\"checkbox\" checked><label for=\"sk-estimator-id-1\" class=\"sk-toggleable__label sk-toggleable__label-arrow\">KNeighborsClassifier</label><div class=\"sk-toggleable__content\"><pre>KNeighborsClassifier(n_neighbors=3)</pre></div></div></div></div></div>"
      ],
      "text/plain": [
       "KNeighborsClassifier(n_neighbors=3)"
      ]
     },
     "execution_count": 6,
     "metadata": {},
     "output_type": "execute_result"
    }
   ],
   "source": [
    "knn = KNeighborsClassifier(n_neighbors = 3)\n",
    "\n",
    "knn.fit(X_train, y_train)"
   ]
  },
  {
   "cell_type": "code",
   "execution_count": 7,
   "id": "52f4c36a",
   "metadata": {},
   "outputs": [
    {
     "name": "stdout",
     "output_type": "stream",
     "text": [
      "Accuracy: 0.727\n"
     ]
    }
   ],
   "source": [
    "print(\"Accuracy: {:.3f}\".format(knn.score(X_test, y_test)))"
   ]
  },
  {
   "cell_type": "markdown",
   "id": "2a5b29f8",
   "metadata": {},
   "source": [
    "## Classifier"
   ]
  },
  {
   "cell_type": "code",
   "execution_count": 8,
   "id": "6f871866",
   "metadata": {},
   "outputs": [],
   "source": [
    "ds0 = ds[ds.columns.difference([\"Class\"])]    # Original dataset without 'Class' attribute\n",
    "target = ds[\"Class\"]"
   ]
  },
  {
   "cell_type": "code",
   "execution_count": 9,
   "id": "4606f483",
   "metadata": {},
   "outputs": [],
   "source": [
    "from sklearn.neighbors import KNeighborsClassifier\n",
    "knn = KNeighborsClassifier(n_neighbors=3)          # 3-nn classifier"
   ]
  },
  {
   "cell_type": "code",
   "execution_count": 10,
   "id": "82fd0c94",
   "metadata": {},
   "outputs": [],
   "source": [
    "from sklearn.model_selection import train_test_split\n",
    "\n",
    "data_train0, data_test0, target_train0, target_test0 = train_test_split(ds0, target, random_state=6)    # Original"
   ]
  },
  {
   "cell_type": "code",
   "execution_count": 11,
   "id": "41d4f8c6",
   "metadata": {},
   "outputs": [
    {
     "data": {
      "text/plain": [
       "0.7202468410226271"
      ]
     },
     "execution_count": 11,
     "metadata": {},
     "output_type": "execute_result"
    }
   ],
   "source": [
    "knn.fit(data_train0, target_train0)\n",
    "prediction = knn.predict(data_test0)\n",
    "knn.score(data_test0, target_test0)   # Original dataset"
   ]
  },
  {
   "cell_type": "markdown",
   "id": "de9d158b",
   "metadata": {},
   "source": [
    "Lab4 Part 2: \n",
    "Accuracy"
   ]
  },
  {
   "cell_type": "code",
   "execution_count": 12,
   "id": "c719c01c",
   "metadata": {},
   "outputs": [
    {
     "data": {
      "text/plain": [
       "0.7202468410226271"
      ]
     },
     "execution_count": 12,
     "metadata": {},
     "output_type": "execute_result"
    }
   ],
   "source": [
    "from sklearn.metrics import accuracy_score\n",
    "accuracy_score(target_test0, prediction)"
   ]
  },
  {
   "cell_type": "markdown",
   "id": "dac44d39",
   "metadata": {},
   "source": [
    "Lab4 Part 2: \n",
    "TP"
   ]
  },
  {
   "cell_type": "code",
   "execution_count": 13,
   "id": "4526eb50",
   "metadata": {},
   "outputs": [
    {
     "data": {
      "text/plain": [
       "<sklearn.metrics._plot.confusion_matrix.ConfusionMatrixDisplay at 0x2a020edf250>"
      ]
     },
     "execution_count": 13,
     "metadata": {},
     "output_type": "execute_result"
    },
    {
     "data": {
      "image/png": "[encoded data removed]",
      "text/plain": [
       "<Figure size 640x480 with 2 Axes>"
      ]
     },
     "metadata": {},
     "output_type": "display_data"
    }
   ],
   "source": [
    "from sklearn.metrics import confusion_matrix\n",
    "from sklearn.metrics import ConfusionMatrixDisplay\n",
    "cm = confusion_matrix(target_test0, prediction, labels=knn.classes_)\n",
    "\n",
    "knn.fit(data_train0, target_train0)\n",
    "prediction = knn.predict(data_test0)\n",
    "knn.score(data_test0, target_test0)   # Original dataset\n",
    "\n",
    "disp = ConfusionMatrixDisplay(confusion_matrix=cm, display_labels=knn.classes_)\n",
    "disp.plot()"
   ]
  },
  {
   "cell_type": "code",
   "execution_count": 14,
   "id": "f53e49d3",
   "metadata": {},
   "outputs": [
    {
     "data": {
      "text/plain": [
       "(0.7228739002932552, 0.0804851157662624)"
      ]
     },
     "execution_count": 14,
     "metadata": {},
     "output_type": "execute_result"
    }
   ],
   "source": [
    "FP = cm.sum(axis=0) - np.diag(cm)  \n",
    "FN = cm.sum(axis=1) - np.diag(cm)\n",
    "TP = np.diag(cm)\n",
    "TN = cm.sum() - (FP + FN + TP)\n",
    "\n",
    "# For SIRA\n",
    "fp = FP[6]\n",
    "fn = FN[6]\n",
    "tp = TP[6]\n",
    "tn = TN[6]\n",
    "\n",
    "# True positive rate\n",
    "TPR = tp/(tp+fn)\n",
    "# False positive rate\n",
    "FPR = fp/(fp+tn)\n",
    "\n",
    "# Accuracy for SIRA\n",
    "\n",
    "(TPR, FPR)"
   ]
  },
  {
   "cell_type": "code",
   "execution_count": 15,
   "id": "056dbb93",
   "metadata": {},
   "outputs": [
    {
     "data": {
      "text/plain": [
       "(0.6924157303370787, 0.7228739002932552, 0.7073170731707318)"
      ]
     },
     "execution_count": 15,
     "metadata": {},
     "output_type": "execute_result"
    }
   ],
   "source": [
    "#Lab 4 part 3\n",
    "\n",
    "#Precision\n",
    "precision = tp/(tp+fp)\n",
    "\n",
    "#Recall\n",
    "recall = tp/(tp+fn)\n",
    "\n",
    "#F-measure\n",
    "Fmeasure = (2 * recall * precision) / (recall + precision)\n",
    "\n",
    "#Display\n",
    "(precision, recall, Fmeasure)"
   ]
  },
  {
   "cell_type": "markdown",
   "id": "9b037106",
   "metadata": {},
   "source": [
    "## ROC Curve"
   ]
  },
  {
   "cell_type": "code",
   "execution_count": 16,
   "id": "f3aca0fd",
   "metadata": {},
   "outputs": [],
   "source": [
    "# Convert target class to be true for bean type \"SIRA\" and false otherwise\n",
    "target_train_sira = (target_train0 == \"SIRA\")\n",
    "target_test_sira = (target_test0 == \"SIRA\")"
   ]
  },
  {
   "cell_type": "code",
   "execution_count": 17,
   "id": "2347022c",
   "metadata": {},
   "outputs": [
    {
     "data": {
      "text/plain": [
       "array([0.07, 0.  , 0.04, ..., 0.  , 1.  , 0.  ])"
      ]
     },
     "execution_count": 17,
     "metadata": {},
     "output_type": "execute_result"
    }
   ],
   "source": [
    "from sklearn.ensemble import RandomForestClassifier\n",
    "from sklearn.model_selection import cross_val_predict\n",
    "\n",
    "# Predicted probability score using Random Forest Classifier\n",
    "rfc = RandomForestClassifier(n_estimators=100, random_state=6)\n",
    "target_score = cross_val_predict(rfc, data_train0, target_train_sira, cv=5, method=\"predict_proba\")\n",
    "target_score = target_score[:,1]\n",
    "target_score"
   ]
  },
  {
   "cell_type": "code",
   "execution_count": 18,
   "id": "96169e96",
   "metadata": {},
   "outputs": [],
   "source": [
    "from sklearn.metrics import roc_curve\n",
    "\n",
    "# Get fpr and tpr values for roc curve\n",
    "fpr, tpr, threshold = roc_curve(target_train_sira, target_score)"
   ]
  },
  {
   "cell_type": "code",
   "execution_count": 19,
   "id": "22a83ee6",
   "metadata": {},
   "outputs": [],
   "source": [
    "from sklearn.metrics import roc_auc_score\n",
    "\n",
    "# Calculate area under roc curve\n",
    "roc_area = roc_auc_score(target_train_sira, target_score)"
   ]
  },
  {
   "cell_type": "code",
   "execution_count": 20,
   "id": "9ef21ec0",
   "metadata": {},
   "outputs": [
    {
     "data": {
      "image/png": "[encoded data removed]",
      "text/plain": [
       "<Figure size 640x480 with 1 Axes>"
      ]
     },
     "metadata": {},
     "output_type": "display_data"
    }
   ],
   "source": [
    "# Plot roc curve\n",
    "plt.figure()\n",
    "plt.plot(fpr, tpr, linewidth=5, label=\"ROC Curve (area = {:.2f})\".format(roc_area))\n",
    "plt.plot([0, 1], [0, 1], 'k--') # dashed diagonal\n",
    "plt.axis([0, 1, 0, 1])                                    # Not shown in the book\n",
    "plt.xlabel('False Positive Rate (Fall-Out)', fontsize=12) # Not shown\n",
    "plt.ylabel('True Positive Rate (Recall)', fontsize=12)    # Not shown\n",
    "plt.grid(True)                                            # Not shown\n",
    "plt.legend(loc=\"lower right\")\n",
    "plt.show()"
   ]
  },
  {
   "cell_type": "code",
   "execution_count": null,
   "id": "53a9b7ba",
   "metadata": {},
   "outputs": [],
   "source": []
  }
 ],
 "metadata": {
  "kernelspec": {
   "display_name": "Python 3 (ipykernel)",
   "language": "python",
   "name": "python3"
  },
  "language_info": {
   "codemirror_mode": {
    "name": "ipython",
    "version": 3
   },
   "file_extension": ".py",
   "mimetype": "text/x-python",
   "name": "python",
   "nbconvert_exporter": "python",
   "pygments_lexer": "ipython3",
   "version": "3.10.4"
  }
 },
 "nbformat": 4,
 "nbformat_minor": 5
}
