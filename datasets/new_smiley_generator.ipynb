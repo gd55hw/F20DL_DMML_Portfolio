{
 "cells": [
  {
   "cell_type": "markdown",
   "metadata": {
    "id": "aHMb8-yNkvr-"
   },
   "source": [
    "# Simple Custom dataset\n"
   ]
  },
  {
   "cell_type": "markdown",
   "metadata": {
    "id": "AFuxeTySkvsU"
   },
   "source": [
    "## Setup"
   ]
  },
  {
   "cell_type": "code",
   "execution_count": 1,
   "metadata": {
    "id": "OqC_U_e4kvsX"
   },
   "outputs": [],
   "source": [
    "import numpy as np\n",
    "import sys\n",
    "from tensorflow import keras\n",
    "from tensorflow.keras import layers\n",
    "import sklearn.model_selection\n",
    "import matplotlib.pyplot as plt"
   ]
  },
  {
   "cell_type": "markdown",
   "metadata": {
    "id": "qPqzsA5Gkvsa"
   },
   "source": [
    "## Prepare the data"
   ]
  },
  {
   "cell_type": "code",
   "execution_count": 2,
   "metadata": {},
   "outputs": [],
   "source": [
    "# Shows smiley as an image. 'smiley' should be an element in 'images'\n",
    "def show_smiley(smiley, label):\n",
    "    plt.xticks([])\n",
    "    plt.yticks([])\n",
    "    t = \"sad\" if label else \"happy\"\n",
    "    c = \"r\" if label else \"g\"\n",
    "    plt.imshow(smiley, cmap=\"Greys\")\n",
    "    plt.text(0.1, 0.1, t, size=8, color=c)"
   ]
  },
  {
   "cell_type": "code",
   "execution_count": 3,
   "metadata": {
    "id": "RIUXdbD6gh4w"
   },
   "outputs": [],
   "source": [
    "import numpy as np\n",
    "from sklearn.model_selection import train_test_split\n",
    "\n",
    "from random import randint\n",
    "\n",
    "def blank(height=9, width=9):\n",
    "    return [[0. for x in range(width)] for y in range(height)]\n",
    "\n",
    "def bound(x, l=0, h=10):\n",
    "    if x < l:\n",
    "        return l\n",
    "    if x > h:\n",
    "        return h\n",
    "    return x\n",
    "\n",
    "def draw_feature(canvas, feature, origin=(0,0)):\n",
    "  (x0, y0) = origin\n",
    "  for (x, y) in feature:\n",
    "      canvas[x0 + x][y0 + y] = 1.\n",
    "\n",
    "def draw_face(eyes, mouth, noise):\n",
    "  canvas = blank()\n",
    "  #draw eyes\n",
    "  draw_feature(canvas, eyes)\n",
    "  draw_feature(canvas, mouth)\n",
    "  draw_feature(canvas, noise)\n",
    "  return canvas\n",
    "\n",
    "\n",
    "def print_face(face):\n",
    "    for line in face:\n",
    "        for x in line:\n",
    "            print ('X' if x == 1.0 else '.', end='')\n",
    "        print('')\n",
    "    print('')\n",
    "\n",
    "\n",
    "def make_data(noise=False):\n",
    "  x_train = np.ndarray(shape=(0,))\n",
    "  y_train = np.ndarray(shape=(0,))\n",
    "\n",
    "  eyes_variants = [\n",
    "      [(2, 0), (2, 4)],\n",
    "      [(2, 1), (2, 5)],\n",
    "      [(2, 2), (2, 6)],\n",
    "      [(2, 3), (2, 7)],\n",
    "      [(2, 4), (2, 8)],\n",
    "      \n",
    "      [(2, 0), (2, 6)],\n",
    "      [(2, 1), (2, 7)],\n",
    "      [(2, 2), (2, 8)],\n",
    "      \n",
    "      [(2, 0), (2, 5)],\n",
    "      [(2, 1), (2, 6)],\n",
    "      [(2, 2), (2, 7)],\n",
    "      [(2, 3), (2, 8)],\n",
    "      \n",
    "      [(1, 0), (1, 4)],\n",
    "      [(1, 1), (1, 5)],\n",
    "      [(1, 2), (1, 6)],\n",
    "      [(1, 3), (1, 7)],\n",
    "      [(1, 4), (1, 8)],\n",
    "      \n",
    "      [(1, 0), (1, 6)],\n",
    "      [(1, 1), (1, 7)],\n",
    "      [(1, 2), (1, 8)],\n",
    "      \n",
    "      [(1, 0), (1, 5)],\n",
    "      [(1, 1), (1, 6)],\n",
    "      [(1, 2), (1, 7)],\n",
    "      [(1, 3), (1, 8)],\n",
    "  ]\n",
    "\n",
    "  noise_variants = [\n",
    "      [],\n",
    "      [(0, 0)],\n",
    "      [(0, 8)],\n",
    "      [(8, 0)],\n",
    "      [(8, 8)]\n",
    "  ]\n",
    "\n",
    "  happy_mouths = [\n",
    "      [(4, 1), (5, 2), (6, 3), (6, 4),(6, 5),(5, 6),(4, 7)],\n",
    "      [(5, 1), (6, 2), (7, 3), (7, 4),(7, 5),(6, 6),(5, 7)],\n",
    "      [(6, 1), (7, 2), (8, 3), (8, 4),(8, 5),(7, 6),(6, 7)],\n",
    "      \n",
    "      [(4, 0), (5, 1), (6, 2), (6, 3),(6, 4),(5, 5),(4, 6)],\n",
    "      [(5, 0), (6, 1), (7, 2), (7, 3),(7, 4),(6, 5),(5, 6)],\n",
    "      [(6, 0), (7, 1), (8, 2), (8, 3),(8, 4),(7, 5),(6, 6)],\n",
    "      \n",
    "      [(4, 2), (5, 3), (6, 4), (6, 5),(6, 6),(5, 7),(4, 8)],\n",
    "      [(5, 2), (6, 3), (7, 4), (7, 5),(7, 6),(6, 7),(5, 8)],\n",
    "      [(6, 2), (7, 3), (8, 4), (8, 5),(8, 6),(7, 7),(6, 8)],\n",
    "\n",
    "      [(4, 1), (5, 2), (5, 3), (5, 4),(5, 5),(5, 6),(4, 7)],\n",
    "      [(5, 1), (6, 2), (6, 3), (6, 4),(6, 5),(6, 6),(5, 7)],\n",
    "      [(6, 1), (7, 2), (7, 3), (7, 4),(7, 5),(7, 6),(6, 7)],\n",
    "      \n",
    "      [(4, 0), (5, 1), (5, 2), (5, 3),(5, 4),(5, 5),(4, 6)],\n",
    "      [(5, 0), (6, 1), (6, 2), (6, 3),(6, 4),(6, 5),(5, 6)],\n",
    "      [(6, 0), (7, 1), (7, 2), (7, 3),(7, 4),(7, 5),(6, 6)],\n",
    "      \n",
    "      [(4, 2), (5, 3), (5, 4), (5, 5),(5, 6),(5, 7),(4, 8)],\n",
    "      [(5, 2), (6, 3), (6, 4), (6, 5),(6, 6),(6, 7),(5, 8)],\n",
    "      [(6, 2), (7, 3), (7, 4), (7, 5),(7, 6),(7, 7),(6, 8)],\n",
    "      \n",
    "      [(7, 2), (8, 3), (8, 4), (8, 5), (7, 6)],\n",
    "      [(6, 2), (7, 3), (7, 4), (7, 5), (6, 6)],\n",
    "      [(5, 2), (6, 3), (6, 4), (6, 5), (5, 6)],\n",
    "      [(4, 2), (5, 3), (5, 4), (5, 5), (4, 6)],\n",
    "      \n",
    "      [(7, 0), (8, 1), (8, 2), (8, 3), (7, 4)],\n",
    "      [(6, 0), (7, 1), (7, 2), (7, 3), (6, 4)],\n",
    "      [(5, 0), (6, 1), (6, 2), (6, 3), (5, 4)],\n",
    "      [(4, 0), (5, 1), (5, 2), (5, 3), (4, 4)],\n",
    "      \n",
    "      [(7, 1), (8, 2), (8, 3), (8, 4), (7, 5)],\n",
    "      [(6, 1), (7, 2), (7, 3), (7, 4), (6, 5)],\n",
    "      [(5, 1), (6, 2), (6, 3), (6, 4), (5, 5)],\n",
    "      [(4, 1), (5, 2), (5, 3), (5, 4), (4, 5)],\n",
    "      \n",
    "      [(7, 3), (8, 4), (8, 5), (8, 6), (7, 7)],\n",
    "      [(6, 3), (7, 4), (7, 5), (7, 6), (6, 7)],\n",
    "      [(5, 3), (6, 4), (6, 5), (6, 6), (5, 7)],\n",
    "      [(4, 3), (5, 4), (5, 5), (5, 6), (4, 7)],\n",
    "      \n",
    "      [(7, 4), (8, 5), (8, 6), (8, 7), (7, 8)],\n",
    "      [(6, 4), (7, 5), (7, 6), (7, 7), (6, 8)],\n",
    "      [(5, 4), (6, 5), (6, 6), (6, 7), (5, 8)],\n",
    "      [(4, 4), (5, 5), (5, 6), (5, 7), (4, 8)]\n",
    "      \n",
    "  ]\n",
    "\n",
    "  sad_mouths = [\n",
    "      [(5, 1), (4, 2), (4, 3), (4, 4),(4, 5),(4, 6),(5, 7)],\n",
    "      [(6, 1), (5, 2), (5, 3), (5, 4),(5, 5),(5, 6),(6, 7)],\n",
    "      [(7, 1), (6, 2), (6, 3), (6, 4),(6, 5),(6, 6),(7, 7)],\n",
    "      \n",
    "      [(5, 0), (4, 1), (4, 2), (4, 3),(4, 4),(4, 5),(5, 6)],\n",
    "      [(6, 0), (5, 1), (5, 2), (5, 3),(5, 4),(5, 5),(6, 6)],\n",
    "      [(7, 0), (6, 1), (6, 2), (6, 3),(6, 4),(6, 5),(7, 6)],\n",
    "      \n",
    "      [(5, 2), (4, 3), (4, 4), (4, 5),(4, 6),(4, 7),(5, 8)],\n",
    "      [(6, 2), (5, 3), (5, 4), (5, 5),(5, 6),(5, 7),(6, 8)],\n",
    "      [(7, 2), (6, 3), (6, 4), (6, 5),(6, 6),(6, 7),(7, 8)],\n",
    "\n",
    "      [(6, 1), (5, 2), (4, 3), (4, 4),(4, 5),(5, 6),(6, 7)],\n",
    "      [(7, 1), (6, 2), (5, 3), (5, 4),(5, 5),(6, 6),(7, 7)],\n",
    "      [(8, 1), (7, 2), (6, 3), (6, 4),(6, 5),(7, 6),(8, 7)],\n",
    "      \n",
    "      [(6, 0), (5, 1), (4, 2), (4, 3),(4, 4),(5, 5),(6, 6)],\n",
    "      [(7, 0), (6, 1), (5, 2), (5, 3),(5, 4),(6, 5),(7, 6)],\n",
    "      [(8, 0), (7, 1), (6, 2), (6, 3),(6, 4),(7, 5),(8, 6)],\n",
    "      \n",
    "      [(6, 2), (5, 3), (4, 4), (4, 5),(4, 6),(5, 7),(6, 8)],\n",
    "      [(7, 2), (6, 3), (5, 4), (5, 5),(5, 6),(6, 7),(7, 8)],\n",
    "      [(8, 2), (7, 3), (6, 4), (6, 5),(6, 6),(7, 7),(8, 8)],\n",
    "      \n",
    "      [(8, 2), (7, 3), (7, 4), (7, 5), (8, 6)],\n",
    "      [(7, 2), (6, 3), (6, 4), (6, 5), (7, 6)],\n",
    "      [(6, 2), (5, 3), (5, 4), (5, 5), (6, 6)],\n",
    "      [(5, 2), (4, 3), (4, 4), (4, 5), (5, 6)],\n",
    "      \n",
    "      [(8, 0), (7, 1), (7, 2), (7, 3), (8, 4)],\n",
    "      [(7, 0), (6, 1), (6, 2), (6, 3), (7, 4)],\n",
    "      [(6, 0), (5, 1), (5, 2), (5, 3), (6, 4)],\n",
    "      [(5, 0), (4, 1), (4, 2), (4, 3), (5, 4)],\n",
    "      \n",
    "      [(8, 1), (7, 2), (7, 3), (7, 4), (8, 5)],\n",
    "      [(7, 1), (6, 2), (6, 3), (6, 4), (7, 5)],\n",
    "      [(6, 1), (5, 2), (5, 3), (5, 4), (6, 5)],\n",
    "      [(5, 1), (4, 2), (4, 3), (4, 4), (5, 5)],\n",
    "      \n",
    "      [(8, 3), (7, 4), (7, 5), (7, 6), (8, 7)],\n",
    "      [(7, 3), (6, 4), (6, 5), (6, 6), (7, 7)],\n",
    "      [(6, 3), (5, 4), (5, 5), (5, 6), (6, 7)],\n",
    "      [(5, 3), (4, 4), (4, 5), (4, 6), (5, 7)],\n",
    "      \n",
    "      [(8, 4), (7, 5), (7, 6), (7, 7), (8, 8)],\n",
    "      [(7, 4), (6, 5), (6, 6), (6, 7), (7, 8)],\n",
    "      [(6, 4), (5, 5), (5, 6), (5, 7), (6, 8)],\n",
    "      [(5, 4), (4, 5), (4, 6), (4, 7), (5, 8)]\n",
    "      \n",
    "  ]\n",
    "  \n",
    "  for noise in noise_variants:\n",
    "    for mouth in happy_mouths:\n",
    "      for eyes in eyes_variants:\n",
    "        #   if noise:\n",
    "        #     noise = noise_variants[randint(0, len(noise_variants - 1))]\n",
    "        #   else: \n",
    "        #     noise = []\n",
    "        face = draw_face(eyes, mouth, noise)\n",
    "        face = np.array(face)\n",
    "        face.shape = (1, 9, 9, 1)\n",
    "        x_train = np.concatenate((x_train, face), axis=0) if x_train.size else face\n",
    "        y_train = np.append(y_train, 0)\n",
    "    for mouth in sad_mouths:\n",
    "      for eyes in eyes_variants:\n",
    "        #   if noise:\n",
    "        #     noise = noise_variants[randint(0, len(noise_variants - 1))]\n",
    "        #   else: \n",
    "        #     noise = []\n",
    "        face = draw_face(eyes, mouth, noise)\n",
    "        face = np.array(face)\n",
    "        face.shape = (1, 9, 9, 1)\n",
    "        x_train = np.concatenate((x_train, face), axis=0) if x_train.size else face\n",
    "        y_train = np.append(y_train, 1)\n",
    "\n",
    "  x_train, x_test, y_train, y_test = train_test_split(x_train, y_train, random_state=0)\n",
    "\n",
    "  return (x_train, y_train), (x_test, y_test)"
   ]
  },
  {
   "cell_type": "code",
   "execution_count": 4,
   "metadata": {
    "colab": {
     "base_uri": "https://localhost:8080/"
    },
    "id": "HWTxavZWiKP4",
    "outputId": "e915fafb-9cc1-4942-9fb2-0bda70be8a22"
   },
   "outputs": [
    {
     "name": "stdout",
     "output_type": "stream",
     "text": [
      "x_train shape: (6840, 9, 9, 1)\n",
      "6840 train samples\n",
      "2280 test samples\n"
     ]
    }
   ],
   "source": [
    "# Model / data parameters\n",
    "num_classes = 2\n",
    "input_shape = (9, 9, 1)\n",
    "\n",
    "# the data, split between train and test sets\n",
    "(x_train, y_train), (x_test, y_test) = make_data()\n",
    "\n",
    "# Scale images to the [0, 1] range\n",
    "x_train = x_train.astype(\"float32\")\n",
    "x_test = x_test.astype(\"float32\")\n",
    "print(\"x_train shape:\", x_train.shape)\n",
    "print(x_train.shape[0], \"train samples\")\n",
    "print(x_test.shape[0], \"test samples\")\n",
    "\n",
    "# convert class vectors to binary class matrices\n",
    "#y_train = keras.utils.to_categorical(y_train, num_classes)\n",
    "#y_test = keras.utils.to_categorical(y_test, num_classes)"
   ]
  },
  {
   "cell_type": "code",
   "execution_count": 5,
   "metadata": {
    "scrolled": true
   },
   "outputs": [
    {
     "name": "stdout",
     "output_type": "stream",
     "text": [
      "No. of samples:  9120\n"
     ]
    },
    {
     "data": {
      "image/png": "[encoded data removed]",
      "text/plain": [
       "<Figure size 1200x9600 with 100 Axes>"
      ]
     },
     "metadata": {},
     "output_type": "display_data"
    }
   ],
   "source": [
    "print(\"No. of samples: \", x_train.shape[0] + x_test.shape[0])\n",
    "plt.figure(figsize=(12, 96))\n",
    "for i, x in enumerate(x_train[:100]):\n",
    "    plt.subplot(160, 16, i+1)\n",
    "    show_smiley(x, y_train[i])"
   ]
  },
  {
   "cell_type": "code",
   "execution_count": 6,
   "metadata": {},
   "outputs": [
    {
     "name": "stdout",
     "output_type": "stream",
     "text": [
      "smiley_X_new shape:  (9120, 9, 9, 1)\n",
      "smiley_y_new shape:  (9120,)\n"
     ]
    }
   ],
   "source": [
    "smiley_X_new = np.append(x_train, x_test, axis=0)\n",
    "smiley_y_new = np.append(y_train, y_test, axis=0)\n",
    "print(\"smiley_X_new shape: \", smiley_X_new.shape)\n",
    "print(\"smiley_y_new shape: \", smiley_y_new.shape)"
   ]
  },
  {
   "cell_type": "code",
   "execution_count": 7,
   "metadata": {},
   "outputs": [],
   "source": [
    "#np.save(\"smiley_X_new.npy\", smiley_X_new)\n",
    "#np.save(\"smiley_y_new.npy\", smiley_y_new)"
   ]
  },
  {
   "cell_type": "code",
   "execution_count": null,
   "metadata": {},
   "outputs": [],
   "source": []
  }
 ],
 "metadata": {
  "colab": {
   "collapsed_sections": [
    "qPqzsA5Gkvsa",
    "rExe3QAHkvsd",
    "9C3qUzLGkIn6",
    "KRaMAy7YX7W_"
   ],
   "provenance": []
  },
  "kernelspec": {
   "display_name": "Python 3 (ipykernel)",
   "language": "python",
   "name": "python3"
  },
  "language_info": {
   "codemirror_mode": {
    "name": "ipython",
    "version": 3
   },
   "file_extension": ".py",
   "mimetype": "text/x-python",
   "name": "python",
   "nbconvert_exporter": "python",
   "pygments_lexer": "ipython3",
   "version": "3.10.4"
  }
 },
 "nbformat": 4,
 "nbformat_minor": 1
}
