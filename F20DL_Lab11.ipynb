{
 "cells": [
  {
   "cell_type": "markdown",
   "id": "852f21cc",
   "metadata": {},
   "source": [
    "# F20DL Lab 11"
   ]
  },
  {
   "cell_type": "markdown",
   "id": "f7a99bb9",
   "metadata": {},
   "source": [
    "## Setup"
   ]
  },
  {
   "cell_type": "code",
   "execution_count": 1,
   "id": "44a13a5f",
   "metadata": {},
   "outputs": [
    {
     "name": "stderr",
     "output_type": "stream",
     "text": [
      "C:\\Users\\Louis\\anaconda3\\lib\\site-packages\\scipy\\__init__.py:146: UserWarning: A NumPy version >=1.16.5 and <1.23.0 is required for this version of SciPy (detected version 1.23.5\n",
      "  warnings.warn(f\"A NumPy version >={np_minversion} and <{np_maxversion}\"\n"
     ]
    }
   ],
   "source": [
    "# Python ≥3.5 is required\n",
    "import sys\n",
    "assert sys.version_info >= (3, 5)\n",
    "\n",
    "# Scikit-Learn ≥0.20 is required\n",
    "import sklearn\n",
    "assert sklearn.__version__ >= \"0.20\"\n",
    "\n",
    "# Common imports\n",
    "import numpy as np\n",
    "import pandas as pd\n",
    "import tensorflow as tf\n",
    "\n",
    "# to make this notebook's output stable across runs\n",
    "np.random.seed(42)\n",
    "\n",
    "# To plot pretty figures\n",
    "%matplotlib inline\n",
    "import matplotlib as mpl\n",
    "import matplotlib.pyplot as plt\n",
    "mpl.rc('axes', labelsize=10)\n",
    "mpl.rc('xtick', labelsize=10)\n",
    "mpl.rc('ytick', labelsize=10)"
   ]
  },
  {
   "cell_type": "code",
   "execution_count": 2,
   "id": "95950573",
   "metadata": {},
   "outputs": [],
   "source": [
    "# Load the dataset into numpy arrays\n",
    "X = np.load(\"./datasets/smiley_X_new.npy\")\n",
    "y = np.load(\"./datasets/smiley_Y_new.npy\")"
   ]
  },
  {
   "cell_type": "code",
   "execution_count": 3,
   "id": "3d8f45f0",
   "metadata": {},
   "outputs": [],
   "source": [
    "# X is a list of all images. Images are represented as columns of pixel values.\n",
    "# To get pixel (r, c) of image i, use X[i][r-1][c-1][0]\n",
    "\n",
    "# X[0] returns columns of pixel values representing the 1st image.\n",
    "# X[0][2][6][0] returns the value of the pixel in the 3rd row and 7th column of the 1st image (r=3, c=7).\n",
    "# y[0] returns the label for the 1st image. (0 = happy, 1 = sad)"
   ]
  },
  {
   "cell_type": "code",
   "execution_count": 4,
   "id": "2e3a90b9",
   "metadata": {},
   "outputs": [],
   "source": [
    "# Shows smiley as an image. 'smiley' should be an element in 'X'\n",
    "def show_smiley(smiley):\n",
    "    plt.figure(figsize=(1,1))\n",
    "    plt.xticks([])\n",
    "    plt.yticks([])\n",
    "    plt.imshow(smiley, cmap=\"Greys\")"
   ]
  },
  {
   "cell_type": "code",
   "execution_count": 5,
   "id": "53b156af",
   "metadata": {},
   "outputs": [],
   "source": [
    "class_names = [\"happy\", \"sad\"]"
   ]
  },
  {
   "cell_type": "markdown",
   "id": "f9ff71d7",
   "metadata": {},
   "source": [
    "## Convolutional Neural Networks"
   ]
  },
  {
   "cell_type": "markdown",
   "id": "4fb59e1b",
   "metadata": {},
   "source": [
    "### CNN 0"
   ]
  },
  {
   "cell_type": "code",
   "execution_count": 6,
   "id": "9de5175e",
   "metadata": {},
   "outputs": [
    {
     "name": "stdout",
     "output_type": "stream",
     "text": [
      "Training samples: 6384, Testing samples: 2736\n"
     ]
    }
   ],
   "source": [
    "from sklearn.model_selection import train_test_split\n",
    "X_train, X_test, y_train, y_test = train_test_split(X, y, test_size=0.3, random_state=1) # 70% training and 30% test\n",
    "print(\"Training samples: %i, Testing samples: %i\" % (X_train.shape[0], X_test.shape[0]))"
   ]
  },
  {
   "cell_type": "code",
   "execution_count": 7,
   "id": "c26e429d",
   "metadata": {},
   "outputs": [
    {
     "name": "stdout",
     "output_type": "stream",
     "text": [
      "Model: \"sequential\"\n",
      "_________________________________________________________________\n",
      " Layer (type)                Output Shape              Param #   \n",
      "=================================================================\n",
      " conv2d (Conv2D)             (None, 8, 8, 64)          320       \n",
      "                                                                 \n",
      " max_pooling2d (MaxPooling2D  (None, 4, 4, 64)         0         \n",
      " )                                                               \n",
      "                                                                 \n",
      " conv2d_1 (Conv2D)           (None, 3, 3, 64)          16448     \n",
      "                                                                 \n",
      " max_pooling2d_1 (MaxPooling  (None, 1, 1, 64)         0         \n",
      " 2D)                                                             \n",
      "                                                                 \n",
      " flatten (Flatten)           (None, 64)                0         \n",
      "                                                                 \n",
      " dense (Dense)               (None, 128)               8320      \n",
      "                                                                 \n",
      " dense_1 (Dense)             (None, 2)                 258       \n",
      "                                                                 \n",
      "=================================================================\n",
      "Total params: 25,346\n",
      "Trainable params: 25,346\n",
      "Non-trainable params: 0\n",
      "_________________________________________________________________\n"
     ]
    }
   ],
   "source": [
    "cnn0 = tf.keras.models.Sequential([\n",
    "  tf.keras.layers.Conv2D(64, (2,2), activation='relu', input_shape=(9, 9, 1)),\n",
    "  tf.keras.layers.MaxPooling2D(2, 2),\n",
    "  tf.keras.layers.Conv2D(64, (2,2), activation='relu'),\n",
    "  tf.keras.layers.MaxPooling2D(2,2),\n",
    "  tf.keras.layers.Flatten(),\n",
    "  tf.keras.layers.Dense(128, activation='relu'),\n",
    "  tf.keras.layers.Dense(2, activation='softmax')\n",
    "])\n",
    "cnn0.compile(optimizer='adam', loss='sparse_categorical_crossentropy', metrics=['accuracy'])\n",
    "cnn0.summary()"
   ]
  },
  {
   "cell_type": "code",
   "execution_count": 8,
   "id": "ef369056",
   "metadata": {},
   "outputs": [
    {
     "name": "stdout",
     "output_type": "stream",
     "text": [
      "Epoch 1/5\n",
      "200/200 [==============================] - 1s 1ms/step - loss: 0.2929 - accuracy: 0.8596\n",
      "Epoch 2/5\n",
      "200/200 [==============================] - 0s 1ms/step - loss: 0.1036 - accuracy: 0.9311\n",
      "Epoch 3/5\n",
      "200/200 [==============================] - 0s 1ms/step - loss: 0.0975 - accuracy: 0.9342\n",
      "Epoch 4/5\n",
      "200/200 [==============================] - 0s 1ms/step - loss: 0.0959 - accuracy: 0.9334\n",
      "Epoch 5/5\n",
      "200/200 [==============================] - 0s 1ms/step - loss: 0.0947 - accuracy: 0.9326\n"
     ]
    },
    {
     "data": {
      "text/plain": [
       "<keras.callbacks.History at 0x293d904d100>"
      ]
     },
     "execution_count": 8,
     "metadata": {},
     "output_type": "execute_result"
    }
   ],
   "source": [
    "cnn0.fit(X_train, y_train, epochs=5)"
   ]
  },
  {
   "cell_type": "code",
   "execution_count": 9,
   "id": "b04a8bcf",
   "metadata": {},
   "outputs": [
    {
     "name": "stdout",
     "output_type": "stream",
     "text": [
      "\n",
      "Test accuracy: 0.9345760345458984\n"
     ]
    }
   ],
   "source": [
    "test_loss, test_acc = cnn0.evaluate(X_test,  y_test, verbose=0)\n",
    "print('\\nTest accuracy:', test_acc)"
   ]
  },
  {
   "cell_type": "code",
   "execution_count": 10,
   "id": "7c719fc3",
   "metadata": {},
   "outputs": [
    {
     "name": "stdout",
     "output_type": "stream",
     "text": [
      "86/86 [==============================] - 0s 648us/step\n"
     ]
    }
   ],
   "source": [
    "y_pred0 = cnn0.predict(X_test)"
   ]
  },
  {
   "cell_type": "code",
   "execution_count": 11,
   "id": "37179539",
   "metadata": {
    "scrolled": true
   },
   "outputs": [
    {
     "name": "stdout",
     "output_type": "stream",
     "text": [
      "Prediction:  happy\n"
     ]
    },
    {
     "data": {
      "image/png": "[encoded data removed]",
      "text/plain": [
       "<Figure size 72x72 with 1 Axes>"
      ]
     },
     "metadata": {},
     "output_type": "display_data"
    }
   ],
   "source": [
    "# Prediction for first testing image\n",
    "print(\"Prediction: \", class_names[np.argmax(y_pred0[0])])\n",
    "show_smiley(X_test[0])"
   ]
  },
  {
   "cell_type": "code",
   "execution_count": 12,
   "id": "fb1e2dce",
   "metadata": {},
   "outputs": [
    {
     "name": "stdout",
     "output_type": "stream",
     "text": [
      "Epoch 1/20\n",
      "45/45 [==============================] - 0s 5ms/step - loss: 0.0941 - accuracy: 0.9349 - val_loss: 0.0894 - val_accuracy: 0.9363\n",
      "Epoch 2/20\n",
      "45/45 [==============================] - 0s 4ms/step - loss: 0.0929 - accuracy: 0.9351 - val_loss: 0.0908 - val_accuracy: 0.9301\n",
      "Epoch 3/20\n",
      "45/45 [==============================] - 0s 4ms/step - loss: 0.0925 - accuracy: 0.9355 - val_loss: 0.0901 - val_accuracy: 0.9332\n",
      "Epoch 4/20\n",
      "45/45 [==============================] - 0s 4ms/step - loss: 0.0928 - accuracy: 0.9398 - val_loss: 0.0925 - val_accuracy: 0.9295\n",
      "Epoch 5/20\n",
      "45/45 [==============================] - 0s 4ms/step - loss: 0.0923 - accuracy: 0.9315 - val_loss: 0.0901 - val_accuracy: 0.9363\n",
      "Epoch 6/20\n",
      "45/45 [==============================] - 0s 4ms/step - loss: 0.0924 - accuracy: 0.9358 - val_loss: 0.0941 - val_accuracy: 0.9295\n",
      "Epoch 7/20\n",
      "45/45 [==============================] - 0s 4ms/step - loss: 0.0922 - accuracy: 0.9362 - val_loss: 0.0904 - val_accuracy: 0.9363\n",
      "Epoch 8/20\n",
      "45/45 [==============================] - 0s 4ms/step - loss: 0.0924 - accuracy: 0.9342 - val_loss: 0.0933 - val_accuracy: 0.9295\n",
      "Epoch 9/20\n",
      "45/45 [==============================] - 0s 4ms/step - loss: 0.0920 - accuracy: 0.9358 - val_loss: 0.0911 - val_accuracy: 0.9332\n",
      "Epoch 10/20\n",
      "45/45 [==============================] - 0s 4ms/step - loss: 0.0921 - accuracy: 0.9373 - val_loss: 0.0916 - val_accuracy: 0.9290\n",
      "Epoch 11/20\n",
      "45/45 [==============================] - 0s 4ms/step - loss: 0.0925 - accuracy: 0.9353 - val_loss: 0.0911 - val_accuracy: 0.9290\n",
      "Epoch 12/20\n",
      "45/45 [==============================] - 0s 4ms/step - loss: 0.0931 - accuracy: 0.9342 - val_loss: 0.0917 - val_accuracy: 0.9280\n",
      "Epoch 13/20\n",
      "45/45 [==============================] - 0s 4ms/step - loss: 0.0917 - accuracy: 0.9382 - val_loss: 0.0907 - val_accuracy: 0.9342\n",
      "Epoch 14/20\n",
      "45/45 [==============================] - 0s 4ms/step - loss: 0.0922 - accuracy: 0.9342 - val_loss: 0.0905 - val_accuracy: 0.9348\n",
      "Epoch 15/20\n",
      "45/45 [==============================] - 0s 4ms/step - loss: 0.0916 - accuracy: 0.9362 - val_loss: 0.0908 - val_accuracy: 0.9363\n",
      "Epoch 16/20\n",
      "45/45 [==============================] - 0s 4ms/step - loss: 0.0927 - accuracy: 0.9329 - val_loss: 0.0904 - val_accuracy: 0.9363\n",
      "Epoch 17/20\n",
      "45/45 [==============================] - 0s 4ms/step - loss: 0.0921 - accuracy: 0.9367 - val_loss: 0.0906 - val_accuracy: 0.9295\n",
      "Epoch 18/20\n",
      "45/45 [==============================] - 0s 4ms/step - loss: 0.0929 - accuracy: 0.9355 - val_loss: 0.0909 - val_accuracy: 0.9332\n",
      "Epoch 19/20\n",
      "45/45 [==============================] - 0s 4ms/step - loss: 0.0922 - accuracy: 0.9385 - val_loss: 0.0916 - val_accuracy: 0.9306\n",
      "Epoch 20/20\n",
      "45/45 [==============================] - 0s 4ms/step - loss: 0.0917 - accuracy: 0.9369 - val_loss: 0.0918 - val_accuracy: 0.9295\n"
     ]
    },
    {
     "data": {
      "text/plain": [
       "<keras.callbacks.History at 0x293dd4348e0>"
      ]
     },
     "execution_count": 12,
     "metadata": {},
     "output_type": "execute_result"
    }
   ],
   "source": [
    "cnn0.fit(x=X_train, y=y_train, batch_size=100, epochs=20, validation_split=0.3)"
   ]
  },
  {
   "cell_type": "code",
   "execution_count": 13,
   "id": "c18de0a8",
   "metadata": {},
   "outputs": [
    {
     "name": "stdout",
     "output_type": "stream",
     "text": [
      "Epoch 1/20\n",
      "70/70 [==============================] - 0s 3ms/step - loss: 0.0930 - accuracy: 0.9331 - val_loss: 0.0924 - val_accuracy: 0.9311\n",
      "Epoch 2/20\n",
      "70/70 [==============================] - 0s 3ms/step - loss: 0.0928 - accuracy: 0.9355 - val_loss: 0.0913 - val_accuracy: 0.9280\n",
      "Epoch 3/20\n",
      "70/70 [==============================] - 0s 3ms/step - loss: 0.0923 - accuracy: 0.9364 - val_loss: 0.0906 - val_accuracy: 0.9337\n",
      "Epoch 4/20\n",
      "70/70 [==============================] - 0s 2ms/step - loss: 0.0926 - accuracy: 0.9376 - val_loss: 0.0915 - val_accuracy: 0.9285\n",
      "Epoch 5/20\n",
      "70/70 [==============================] - 0s 3ms/step - loss: 0.0922 - accuracy: 0.9353 - val_loss: 0.0919 - val_accuracy: 0.9280\n",
      "Epoch 6/20\n",
      "70/70 [==============================] - 0s 3ms/step - loss: 0.0923 - accuracy: 0.9317 - val_loss: 0.0905 - val_accuracy: 0.9348\n",
      "Epoch 7/20\n",
      "70/70 [==============================] - 0s 2ms/step - loss: 0.0928 - accuracy: 0.9349 - val_loss: 0.0907 - val_accuracy: 0.9295\n",
      "Epoch 8/20\n",
      "70/70 [==============================] - 0s 3ms/step - loss: 0.0922 - accuracy: 0.9322 - val_loss: 0.0902 - val_accuracy: 0.9363\n",
      "Epoch 9/20\n",
      "70/70 [==============================] - 0s 2ms/step - loss: 0.0917 - accuracy: 0.9355 - val_loss: 0.0934 - val_accuracy: 0.9327\n",
      "Epoch 10/20\n",
      "70/70 [==============================] - 0s 2ms/step - loss: 0.0920 - accuracy: 0.9355 - val_loss: 0.0905 - val_accuracy: 0.9342\n",
      "Epoch 11/20\n",
      "70/70 [==============================] - 0s 3ms/step - loss: 0.0921 - accuracy: 0.9346 - val_loss: 0.0907 - val_accuracy: 0.9290\n",
      "Epoch 12/20\n",
      "70/70 [==============================] - 0s 2ms/step - loss: 0.0920 - accuracy: 0.9335 - val_loss: 0.0903 - val_accuracy: 0.9363\n",
      "Epoch 13/20\n",
      "70/70 [==============================] - 0s 2ms/step - loss: 0.0918 - accuracy: 0.9382 - val_loss: 0.0910 - val_accuracy: 0.9337\n",
      "Epoch 14/20\n",
      "70/70 [==============================] - 0s 3ms/step - loss: 0.0919 - accuracy: 0.9335 - val_loss: 0.0908 - val_accuracy: 0.9342\n",
      "Epoch 15/20\n",
      "70/70 [==============================] - 0s 3ms/step - loss: 0.0916 - accuracy: 0.9355 - val_loss: 0.0938 - val_accuracy: 0.9332\n",
      "Epoch 16/20\n",
      "70/70 [==============================] - 0s 3ms/step - loss: 0.0919 - accuracy: 0.9355 - val_loss: 0.0921 - val_accuracy: 0.9290\n",
      "Epoch 17/20\n",
      "70/70 [==============================] - 0s 2ms/step - loss: 0.0917 - accuracy: 0.9351 - val_loss: 0.0907 - val_accuracy: 0.9348\n",
      "Epoch 18/20\n",
      "70/70 [==============================] - 0s 3ms/step - loss: 0.0920 - accuracy: 0.9367 - val_loss: 0.0902 - val_accuracy: 0.9363\n",
      "Epoch 19/20\n",
      "70/70 [==============================] - 0s 2ms/step - loss: 0.0922 - accuracy: 0.9324 - val_loss: 0.0911 - val_accuracy: 0.9290\n",
      "Epoch 20/20\n",
      "70/70 [==============================] - 0s 2ms/step - loss: 0.0915 - accuracy: 0.9351 - val_loss: 0.0907 - val_accuracy: 0.9363\n"
     ]
    },
    {
     "data": {
      "text/plain": [
       "<keras.callbacks.History at 0x293de469d90>"
      ]
     },
     "execution_count": 13,
     "metadata": {},
     "output_type": "execute_result"
    }
   ],
   "source": [
    "cnn0.fit(x=X_train, y=y_train, batch_size=64, epochs=20, validation_split=0.3)"
   ]
  },
  {
   "cell_type": "code",
   "execution_count": 14,
   "id": "51151a73",
   "metadata": {},
   "outputs": [
    {
     "name": "stdout",
     "output_type": "stream",
     "text": [
      "Epoch 1/20\n",
      "32/32 [==============================] - 0s 5ms/step - loss: 0.0885 - accuracy: 0.9383 - val_loss: 0.0940 - val_accuracy: 0.9326\n",
      "Epoch 2/20\n",
      "32/32 [==============================] - 0s 5ms/step - loss: 0.0883 - accuracy: 0.9380 - val_loss: 0.0943 - val_accuracy: 0.9314\n",
      "Epoch 3/20\n",
      "32/32 [==============================] - 0s 5ms/step - loss: 0.0881 - accuracy: 0.9411 - val_loss: 0.0944 - val_accuracy: 0.9308\n",
      "Epoch 4/20\n",
      "32/32 [==============================] - 0s 5ms/step - loss: 0.0884 - accuracy: 0.9389 - val_loss: 0.0944 - val_accuracy: 0.9314\n",
      "Epoch 5/20\n",
      "32/32 [==============================] - 0s 4ms/step - loss: 0.0884 - accuracy: 0.9405 - val_loss: 0.0947 - val_accuracy: 0.9295\n",
      "Epoch 6/20\n",
      "32/32 [==============================] - 0s 5ms/step - loss: 0.0882 - accuracy: 0.9433 - val_loss: 0.0951 - val_accuracy: 0.9289\n",
      "Epoch 7/20\n",
      "32/32 [==============================] - 0s 5ms/step - loss: 0.0882 - accuracy: 0.9405 - val_loss: 0.0951 - val_accuracy: 0.9289\n",
      "Epoch 8/20\n",
      "32/32 [==============================] - 0s 5ms/step - loss: 0.0882 - accuracy: 0.9405 - val_loss: 0.0953 - val_accuracy: 0.9279\n",
      "Epoch 9/20\n",
      "32/32 [==============================] - 0s 5ms/step - loss: 0.0885 - accuracy: 0.9417 - val_loss: 0.0959 - val_accuracy: 0.9286\n",
      "Epoch 10/20\n",
      "32/32 [==============================] - 0s 5ms/step - loss: 0.0886 - accuracy: 0.9380 - val_loss: 0.0947 - val_accuracy: 0.9298\n",
      "Epoch 11/20\n",
      "32/32 [==============================] - 0s 5ms/step - loss: 0.0888 - accuracy: 0.9398 - val_loss: 0.0954 - val_accuracy: 0.9295\n",
      "Epoch 12/20\n",
      "32/32 [==============================] - 0s 5ms/step - loss: 0.0880 - accuracy: 0.9430 - val_loss: 0.0953 - val_accuracy: 0.9286\n",
      "Epoch 13/20\n",
      "32/32 [==============================] - 0s 5ms/step - loss: 0.0883 - accuracy: 0.9427 - val_loss: 0.0956 - val_accuracy: 0.9286\n",
      "Epoch 14/20\n",
      "32/32 [==============================] - 0s 5ms/step - loss: 0.0884 - accuracy: 0.9420 - val_loss: 0.0953 - val_accuracy: 0.9305\n",
      "Epoch 15/20\n",
      "32/32 [==============================] - 0s 5ms/step - loss: 0.0883 - accuracy: 0.9420 - val_loss: 0.0961 - val_accuracy: 0.9295\n",
      "Epoch 16/20\n",
      "32/32 [==============================] - 0s 5ms/step - loss: 0.0883 - accuracy: 0.9433 - val_loss: 0.0956 - val_accuracy: 0.9308\n",
      "Epoch 17/20\n",
      "32/32 [==============================] - 0s 5ms/step - loss: 0.0883 - accuracy: 0.9417 - val_loss: 0.0952 - val_accuracy: 0.9298\n",
      "Epoch 18/20\n",
      "32/32 [==============================] - 0s 5ms/step - loss: 0.0884 - accuracy: 0.9405 - val_loss: 0.0953 - val_accuracy: 0.9298\n",
      "Epoch 19/20\n",
      "32/32 [==============================] - 0s 5ms/step - loss: 0.0884 - accuracy: 0.9392 - val_loss: 0.0964 - val_accuracy: 0.9295\n",
      "Epoch 20/20\n",
      "32/32 [==============================] - 0s 5ms/step - loss: 0.0880 - accuracy: 0.9420 - val_loss: 0.0949 - val_accuracy: 0.9286\n"
     ]
    },
    {
     "data": {
      "text/plain": [
       "<keras.callbacks.History at 0x293de4a6dc0>"
      ]
     },
     "execution_count": 14,
     "metadata": {},
     "output_type": "execute_result"
    }
   ],
   "source": [
    "cnn0.fit(x=X_train, y=y_train, batch_size=100, epochs=20, validation_split=0.5)"
   ]
  },
  {
   "cell_type": "code",
   "execution_count": 15,
   "id": "236c7992",
   "metadata": {},
   "outputs": [
    {
     "name": "stdout",
     "output_type": "stream",
     "text": [
      "Epoch 1/20\n",
      "52/52 [==============================] - 0s 4ms/step - loss: 0.0914 - accuracy: 0.9354 - val_loss: 0.0943 - val_accuracy: 0.9295\n",
      "Epoch 2/20\n",
      "52/52 [==============================] - 0s 3ms/step - loss: 0.0912 - accuracy: 0.9350 - val_loss: 0.0936 - val_accuracy: 0.9287\n",
      "Epoch 3/20\n",
      "52/52 [==============================] - 0s 3ms/step - loss: 0.0906 - accuracy: 0.9393 - val_loss: 0.0934 - val_accuracy: 0.9295\n",
      "Epoch 4/20\n",
      "52/52 [==============================] - 0s 3ms/step - loss: 0.0907 - accuracy: 0.9385 - val_loss: 0.0927 - val_accuracy: 0.9342\n",
      "Epoch 5/20\n",
      "52/52 [==============================] - 0s 3ms/step - loss: 0.0905 - accuracy: 0.9379 - val_loss: 0.0948 - val_accuracy: 0.9201\n",
      "Epoch 6/20\n",
      "52/52 [==============================] - 0s 3ms/step - loss: 0.0907 - accuracy: 0.9373 - val_loss: 0.0928 - val_accuracy: 0.9358\n",
      "Epoch 7/20\n",
      "52/52 [==============================] - 0s 3ms/step - loss: 0.0905 - accuracy: 0.9377 - val_loss: 0.0934 - val_accuracy: 0.9272\n",
      "Epoch 8/20\n",
      "52/52 [==============================] - 0s 4ms/step - loss: 0.0904 - accuracy: 0.9387 - val_loss: 0.0934 - val_accuracy: 0.9280\n",
      "Epoch 9/20\n",
      "52/52 [==============================] - 0s 3ms/step - loss: 0.0905 - accuracy: 0.9401 - val_loss: 0.0942 - val_accuracy: 0.9248\n",
      "Epoch 10/20\n",
      "52/52 [==============================] - 0s 3ms/step - loss: 0.0905 - accuracy: 0.9375 - val_loss: 0.0936 - val_accuracy: 0.9287\n",
      "Epoch 11/20\n",
      "52/52 [==============================] - 0s 3ms/step - loss: 0.0915 - accuracy: 0.9381 - val_loss: 0.0936 - val_accuracy: 0.9240\n",
      "Epoch 12/20\n",
      "52/52 [==============================] - 0s 3ms/step - loss: 0.0907 - accuracy: 0.9362 - val_loss: 0.0945 - val_accuracy: 0.9280\n",
      "Epoch 13/20\n",
      "52/52 [==============================] - 0s 3ms/step - loss: 0.0906 - accuracy: 0.9368 - val_loss: 0.0928 - val_accuracy: 0.9334\n",
      "Epoch 14/20\n",
      "52/52 [==============================] - 0s 3ms/step - loss: 0.0907 - accuracy: 0.9364 - val_loss: 0.0938 - val_accuracy: 0.9233\n",
      "Epoch 15/20\n",
      "52/52 [==============================] - 0s 3ms/step - loss: 0.0905 - accuracy: 0.9381 - val_loss: 0.0942 - val_accuracy: 0.9201\n",
      "Epoch 16/20\n",
      "52/52 [==============================] - 0s 3ms/step - loss: 0.0904 - accuracy: 0.9391 - val_loss: 0.0945 - val_accuracy: 0.9240\n",
      "Epoch 17/20\n",
      "52/52 [==============================] - 0s 3ms/step - loss: 0.0907 - accuracy: 0.9364 - val_loss: 0.0940 - val_accuracy: 0.9256\n",
      "Epoch 18/20\n",
      "52/52 [==============================] - 0s 3ms/step - loss: 0.0905 - accuracy: 0.9387 - val_loss: 0.0948 - val_accuracy: 0.9217\n",
      "Epoch 19/20\n",
      "52/52 [==============================] - 0s 3ms/step - loss: 0.0906 - accuracy: 0.9385 - val_loss: 0.0947 - val_accuracy: 0.9240\n",
      "Epoch 20/20\n",
      "52/52 [==============================] - 0s 3ms/step - loss: 0.0905 - accuracy: 0.9356 - val_loss: 0.0942 - val_accuracy: 0.9264\n"
     ]
    },
    {
     "data": {
      "text/plain": [
       "<keras.callbacks.History at 0x293dd461d60>"
      ]
     },
     "execution_count": 15,
     "metadata": {},
     "output_type": "execute_result"
    }
   ],
   "source": [
    "cnn0.fit(x=X_train, y=y_train, batch_size=100, epochs=20, validation_split=0.2)"
   ]
  }
 ],
 "metadata": {
  "kernelspec": {
   "display_name": "Python 3 (ipykernel)",
   "language": "python",
   "name": "python3"
  },
  "language_info": {
   "codemirror_mode": {
    "name": "ipython",
    "version": 3
   },
   "file_extension": ".py",
   "mimetype": "text/x-python",
   "name": "python",
   "nbconvert_exporter": "python",
   "pygments_lexer": "ipython3",
   "version": "3.9.12"
  }
 },
 "nbformat": 4,
 "nbformat_minor": 5
}
