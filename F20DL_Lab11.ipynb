{
 "cells": [
  {
   "cell_type": "markdown",
   "id": "852f21cc",
   "metadata": {},
   "source": [
    "# F20DL Lab 11"
   ]
  },
  {
   "cell_type": "markdown",
   "id": "f7a99bb9",
   "metadata": {},
   "source": [
    "## Setup"
   ]
  },
  {
   "cell_type": "code",
   "execution_count": 1,
   "id": "44a13a5f",
   "metadata": {},
   "outputs": [],
   "source": [
    "# Python ≥3.5 is required\n",
    "import sys\n",
    "assert sys.version_info >= (3, 5)\n",
    "\n",
    "# Scikit-Learn ≥0.20 is required\n",
    "import sklearn\n",
    "assert sklearn.__version__ >= \"0.20\"\n",
    "\n",
    "# Common imports\n",
    "import numpy as np\n",
    "import pandas as pd\n",
    "import tensorflow as tf\n",
    "\n",
    "# to make this notebook's output stable across runs\n",
    "np.random.seed(42)\n",
    "\n",
    "# To plot pretty figures\n",
    "%matplotlib inline\n",
    "import matplotlib as mpl\n",
    "import matplotlib.pyplot as plt\n",
    "mpl.rc('axes', labelsize=10)\n",
    "mpl.rc('xtick', labelsize=10)\n",
    "mpl.rc('ytick', labelsize=10)"
   ]
  },
  {
   "cell_type": "code",
   "execution_count": 2,
   "id": "95950573",
   "metadata": {},
   "outputs": [],
   "source": [
    "# Load the dataset into numpy arrays\n",
    "X = np.load(\"./datasets/smiley_X_new.npy\")\n",
    "y = np.load(\"./datasets/smiley_Y_new.npy\")"
   ]
  },
  {
   "cell_type": "code",
   "execution_count": 3,
   "id": "3d8f45f0",
   "metadata": {},
   "outputs": [],
   "source": [
    "# X is a list of all images. Images are represented as columns of pixel values.\n",
    "# To get pixel (r, c) of image i, use X[i][r-1][c-1][0]\n",
    "\n",
    "# X[0] returns columns of pixel values representing the 1st image.\n",
    "# X[0][2][6][0] returns the value of the pixel in the 3rd row and 7th column of the 1st image (r=3, c=7).\n",
    "# y[0] returns the label for the 1st image. (0 = happy, 1 = sad)"
   ]
  },
  {
   "cell_type": "code",
   "execution_count": 4,
   "id": "53b156af",
   "metadata": {},
   "outputs": [],
   "source": [
    "class_names = [\"happy\", \"sad\"]"
   ]
  },
  {
   "cell_type": "code",
   "execution_count": 5,
   "id": "2e3a90b9",
   "metadata": {},
   "outputs": [],
   "source": [
    "# Shows smiley as an image. 'smiley' should be an element in 'X'\n",
    "def show_smiley(smiley):\n",
    "    plt.figure(figsize=(1,1))\n",
    "    plt.xticks([])\n",
    "    plt.yticks([])\n",
    "    plt.imshow(smiley, cmap=\"Greys\")"
   ]
  },
  {
   "cell_type": "code",
   "execution_count": 6,
   "id": "52b24e04",
   "metadata": {},
   "outputs": [],
   "source": [
    "# Reference: https://stackoverflow.com/a/43957826\n",
    "def reset_weights(model, weights):\n",
    "    model.set_weights(weights)"
   ]
  },
  {
   "cell_type": "code",
   "execution_count": 7,
   "id": "88c16ca2",
   "metadata": {},
   "outputs": [],
   "source": [
    "from sklearn.model_selection import KFold\n",
    "\n",
    "def cross_val(model, model_weights, data, labels, k=10):\n",
    "    k_fold_splitter = KFold(n_splits=k)\n",
    "    scores = []\n",
    "    \n",
    "    i = 1\n",
    "    for train_i, test_i in k_fold_splitter.split(data):\n",
    "        # Select data for current fold\n",
    "        train_data, train_labels = data[train_i], labels[train_i]\n",
    "        test_data, test_labels = data[test_i], labels[test_i]\n",
    "        \n",
    "        reset_weights(model, model_weights)\n",
    "        \n",
    "        print(\"Training and testing fold %i...\" % i)\n",
    "        \n",
    "        # Get and save accuracy of current fold\n",
    "        model.fit(train_data, train_labels, epochs=5, verbose=0, batch_size=100)\n",
    "        acc = model.evaluate(test_data, test_labels, verbose=0)[1]    # Select accuracy only\n",
    "        scores.append(acc)\n",
    "        i+=1\n",
    "    \n",
    "    return np.asarray(scores)"
   ]
  },
  {
   "cell_type": "code",
   "execution_count": 8,
   "id": "78844564",
   "metadata": {},
   "outputs": [],
   "source": [
    "from tensorflow.keras.metrics import BinaryAccuracy, TruePositives, FalsePositives, TrueNegatives, FalseNegatives, \\\n",
    "    SensitivityAtSpecificity, SpecificityAtSensitivity, Precision, Recall, AUC\n",
    "\n",
    "metrics_at_compile = [BinaryAccuracy(), \n",
    "                      TruePositives(), \n",
    "                      FalsePositives(), \n",
    "                      TrueNegatives(), \n",
    "                      FalseNegatives(),\n",
    "                      SensitivityAtSpecificity(0), \n",
    "                      SpecificityAtSensitivity(0), \n",
    "                      Precision(), \n",
    "                      Recall(), \n",
    "                      AUC()]\n",
    "\n",
    "metric_labels = [\"Accuracy\", \"TP\", \"FP\", \"TN\", \"FN\", \"Sensitivity\", \"Specificity\", \"Precision\", \"Recall\", \"ROC Area\"]\n",
    "metric_list = []"
   ]
  },
  {
   "cell_type": "code",
   "execution_count": 9,
   "id": "98bd6707",
   "metadata": {},
   "outputs": [],
   "source": [
    "def format_metrics(metrics):\n",
    "    for i, x in enumerate(metrics):\n",
    "        if i in [2, 3, 4, 5]:\n",
    "            metrics[i] = int(x)\n",
    "            continue\n",
    "        \n",
    "        metrics[i] = round(x, 3)\n",
    "    \n",
    "    return metrics"
   ]
  },
  {
   "cell_type": "markdown",
   "id": "f9ff71d7",
   "metadata": {},
   "source": [
    "## Convolutional Neural Networks"
   ]
  },
  {
   "cell_type": "markdown",
   "id": "4fb59e1b",
   "metadata": {},
   "source": [
    "### CNN 0"
   ]
  },
  {
   "cell_type": "code",
   "execution_count": 10,
   "id": "9de5175e",
   "metadata": {},
   "outputs": [
    {
     "name": "stdout",
     "output_type": "stream",
     "text": [
      "Training samples: 6384, Testing samples: 2736\n"
     ]
    }
   ],
   "source": [
    "from sklearn.model_selection import train_test_split\n",
    "X_train, X_test, y_train, y_test = train_test_split(X, y, test_size=0.3, random_state=1) # 70% training and 30% test\n",
    "print(\"Training samples: %i, Testing samples: %i\" % (X_train.shape[0], X_test.shape[0]))"
   ]
  },
  {
   "cell_type": "code",
   "execution_count": 11,
   "id": "c26e429d",
   "metadata": {},
   "outputs": [
    {
     "name": "stdout",
     "output_type": "stream",
     "text": [
      "Model: \"sequential\"\n",
      "_________________________________________________________________\n",
      " Layer (type)                Output Shape              Param #   \n",
      "=================================================================\n",
      " conv2d (Conv2D)             (None, 8, 8, 64)          320       \n",
      "                                                                 \n",
      " max_pooling2d (MaxPooling2D  (None, 4, 4, 64)         0         \n",
      " )                                                               \n",
      "                                                                 \n",
      " conv2d_1 (Conv2D)           (None, 3, 3, 64)          16448     \n",
      "                                                                 \n",
      " max_pooling2d_1 (MaxPooling  (None, 1, 1, 64)         0         \n",
      " 2D)                                                             \n",
      "                                                                 \n",
      " flatten (Flatten)           (None, 64)                0         \n",
      "                                                                 \n",
      " dense (Dense)               (None, 128)               8320      \n",
      "                                                                 \n",
      " dense_1 (Dense)             (None, 1)                 129       \n",
      "                                                                 \n",
      "=================================================================\n",
      "Total params: 25,217\n",
      "Trainable params: 25,217\n",
      "Non-trainable params: 0\n",
      "_________________________________________________________________\n"
     ]
    }
   ],
   "source": [
    "cnn0 = tf.keras.models.Sequential([\n",
    "  tf.keras.layers.Conv2D(64, (2,2), activation='relu', input_shape=(9, 9, 1)),\n",
    "  tf.keras.layers.MaxPooling2D(2, 2),\n",
    "  tf.keras.layers.Conv2D(64, (2,2), activation='relu'),\n",
    "  tf.keras.layers.MaxPooling2D(2,2),\n",
    "  tf.keras.layers.Flatten(),\n",
    "  tf.keras.layers.Dense(128, activation='relu'),\n",
    "  tf.keras.layers.Dense(1, activation='sigmoid')\n",
    "])\n",
    "cnn0_weights = cnn0.get_weights()\n",
    "\n",
    "cnn0.compile(optimizer='adam', loss='binary_crossentropy', metrics=metrics_at_compile)\n",
    "cnn0.summary()"
   ]
  },
  {
   "cell_type": "code",
   "execution_count": 12,
   "id": "ef369056",
   "metadata": {},
   "outputs": [
    {
     "name": "stdout",
     "output_type": "stream",
     "text": [
      "Epoch 1/5\n",
      "200/200 [==============================] - 6s 20ms/step - loss: 0.2897 - binary_accuracy: 0.8670 - true_positives: 2674.0000 - false_positives: 355.0000 - true_negatives: 2861.0000 - false_negatives: 494.0000 - sensitivity_at_specificity: 1.0000 - specificity_at_sensitivity: 1.0000 - precision: 0.8828 - recall: 0.8441 - auc: 0.9532\n",
      "Epoch 2/5\n",
      "200/200 [==============================] - 4s 22ms/step - loss: 0.1038 - binary_accuracy: 0.9328 - true_positives: 2944.0000 - false_positives: 205.0000 - true_negatives: 3011.0000 - false_negatives: 224.0000 - sensitivity_at_specificity: 1.0000 - specificity_at_sensitivity: 1.0000 - precision: 0.9349 - recall: 0.9293 - auc: 0.9909\n",
      "Epoch 3/5\n",
      "200/200 [==============================] - 4s 21ms/step - loss: 0.0969 - binary_accuracy: 0.9355 - true_positives: 2966.0000 - false_positives: 210.0000 - true_negatives: 3006.0000 - false_negatives: 202.0000 - sensitivity_at_specificity: 1.0000 - specificity_at_sensitivity: 1.0000 - precision: 0.9339 - recall: 0.9362 - auc: 0.9916\n",
      "Epoch 4/5\n",
      "200/200 [==============================] - 5s 23ms/step - loss: 0.0940 - binary_accuracy: 0.9350 - true_positives: 2952.0000 - false_positives: 199.0000 - true_negatives: 3017.0000 - false_negatives: 216.0000 - sensitivity_at_specificity: 1.0000 - specificity_at_sensitivity: 1.0000 - precision: 0.9368 - recall: 0.9318 - auc: 0.9916\n",
      "Epoch 5/5\n",
      "200/200 [==============================] - 4s 21ms/step - loss: 0.0940 - binary_accuracy: 0.9328 - true_positives: 2951.0000 - false_positives: 212.0000 - true_negatives: 3004.0000 - false_negatives: 217.0000 - sensitivity_at_specificity: 1.0000 - specificity_at_sensitivity: 1.0000 - precision: 0.9330 - recall: 0.9315 - auc: 0.9911\n"
     ]
    },
    {
     "data": {
      "text/plain": [
       "<keras.callbacks.History at 0x1f52ee45a20>"
      ]
     },
     "execution_count": 12,
     "metadata": {},
     "output_type": "execute_result"
    }
   ],
   "source": [
    "cnn0.fit(X_train, y_train, epochs=5)"
   ]
  },
  {
   "cell_type": "code",
   "execution_count": 13,
   "id": "b04a8bcf",
   "metadata": {},
   "outputs": [
    {
     "name": "stdout",
     "output_type": "stream",
     "text": [
      "\n",
      "Test accuracy: 0.929\n"
     ]
    }
   ],
   "source": [
    "metrics = cnn0.evaluate(X_test,  y_test, verbose=0)\n",
    "metrics = format_metrics(metrics)\n",
    "metric_list.append(metrics[1:])\n",
    "print('\\nTest accuracy:', metrics[1])"
   ]
  },
  {
   "cell_type": "code",
   "execution_count": 14,
   "id": "7c719fc3",
   "metadata": {},
   "outputs": [
    {
     "name": "stdout",
     "output_type": "stream",
     "text": [
      "86/86 [==============================] - 0s 1ms/step\n"
     ]
    }
   ],
   "source": [
    "y_pred0 = cnn0.predict(X_test)"
   ]
  },
  {
   "cell_type": "code",
   "execution_count": 15,
   "id": "37179539",
   "metadata": {
    "scrolled": true
   },
   "outputs": [
    {
     "name": "stdout",
     "output_type": "stream",
     "text": [
      "Prediction:  happy\n"
     ]
    },
    {
     "data": {
      "image/png": "[encoded data removed]",
      "text/plain": [
       "<Figure size 100x100 with 1 Axes>"
      ]
     },
     "metadata": {},
     "output_type": "display_data"
    }
   ],
   "source": [
    "# Prediction for first testing image\n",
    "print(\"Prediction: \", class_names[np.argmax(y_pred0[0])])\n",
    "show_smiley(X_test[0])"
   ]
  },
  {
   "cell_type": "code",
   "execution_count": 16,
   "id": "b60e5144",
   "metadata": {},
   "outputs": [],
   "source": [
    "# Reference: https://stackoverflow.com/a/43957826\n",
    "def reset_weights(model, weights):\n",
    "    model.set_weights(weights)"
   ]
  },
  {
   "cell_type": "code",
   "execution_count": 17,
   "id": "0f15d959",
   "metadata": {},
   "outputs": [
    {
     "name": "stdout",
     "output_type": "stream",
     "text": [
      "Training and testing fold 1...\n",
      "Training and testing fold 2...\n",
      "Training and testing fold 3...\n",
      "Training and testing fold 4...\n",
      "Training and testing fold 5...\n",
      "Training and testing fold 6...\n",
      "Training and testing fold 7...\n",
      "Training and testing fold 8...\n",
      "Training and testing fold 9...\n",
      "Training and testing fold 10...\n",
      "Cross validation scores:  [0.912 0.934 0.932 0.941 0.924 0.935 0.918 0.933 0.95  0.941]\n",
      "Mean score:  0.932\n"
     ]
    }
   ],
   "source": [
    "cross_val_scores = cross_val(cnn0, cnn0_weights, X, y, k=10)\n",
    "print(\"Cross validation scores: \", cross_val_scores.round(3))\n",
    "print(\"Mean score: \", cross_val_scores.mean().round(3))"
   ]
  },
  {
   "cell_type": "markdown",
   "id": "8be4a086",
   "metadata": {},
   "source": [
    "## Experimenting with Different Architectures"
   ]
  },
  {
   "cell_type": "markdown",
   "id": "02dbf288",
   "metadata": {},
   "source": [
    "### CNN 1 - Batach Size and Validation Split"
   ]
  },
  {
   "cell_type": "markdown",
   "id": "32d128b1",
   "metadata": {},
   "source": [
    "#### Batch Size = 100, Validation Split = 0.3"
   ]
  },
  {
   "cell_type": "code",
   "execution_count": 18,
   "id": "fb1e2dce",
   "metadata": {},
   "outputs": [
    {
     "name": "stdout",
     "output_type": "stream",
     "text": [
      "Epoch 1/5\n",
      "45/45 [==============================] - 3s 46ms/step - loss: 0.5904 - binary_accuracy: 0.7162 - val_loss: 0.3887 - val_binary_accuracy: 0.9087\n",
      "Epoch 2/5\n",
      "45/45 [==============================] - 2s 41ms/step - loss: 0.2379 - binary_accuracy: 0.9064 - val_loss: 0.1351 - val_binary_accuracy: 0.9358\n",
      "Epoch 3/5\n",
      "45/45 [==============================] - 1s 30ms/step - loss: 0.1193 - binary_accuracy: 0.9333 - val_loss: 0.1032 - val_binary_accuracy: 0.9337\n",
      "Epoch 4/5\n",
      "45/45 [==============================] - 2s 43ms/step - loss: 0.1086 - binary_accuracy: 0.9322 - val_loss: 0.1187 - val_binary_accuracy: 0.9322\n",
      "Epoch 5/5\n",
      "45/45 [==============================] - 2s 44ms/step - loss: 0.1057 - binary_accuracy: 0.9367 - val_loss: 0.0953 - val_binary_accuracy: 0.9342\n",
      "\n",
      "Test accuracy: 0.927\n"
     ]
    }
   ],
   "source": [
    "reset_weights(cnn0, cnn0_weights)\n",
    "\n",
    "cnn0.compile(optimizer='adam', loss='binary_crossentropy', metrics=[BinaryAccuracy()])\n",
    "cnn0.fit(x=X_train, y=y_train, epochs=5, batch_size=100, validation_split=0.3)\n",
    "\n",
    "metrics = cnn0.evaluate(X_test, y_test, verbose=0)\n",
    "metrics = format_metrics(metrics)\n",
    "print('\\nTest accuracy:', metrics[1])"
   ]
  },
  {
   "cell_type": "markdown",
   "id": "b4b36fd4",
   "metadata": {},
   "source": [
    "#### Batch Size = 64, Validation Split = 0.3"
   ]
  },
  {
   "cell_type": "code",
   "execution_count": 19,
   "id": "c18de0a8",
   "metadata": {},
   "outputs": [
    {
     "name": "stdout",
     "output_type": "stream",
     "text": [
      "Epoch 1/5\n",
      "70/70 [==============================] - 2s 16ms/step - loss: 0.5035 - binary_accuracy: 0.7704 - val_loss: 0.2168 - val_binary_accuracy: 0.8867\n",
      "Epoch 2/5\n",
      "70/70 [==============================] - 2s 22ms/step - loss: 0.1484 - binary_accuracy: 0.9237 - val_loss: 0.1063 - val_binary_accuracy: 0.9332\n",
      "Epoch 3/5\n",
      "70/70 [==============================] - 2s 29ms/step - loss: 0.1082 - binary_accuracy: 0.9326 - val_loss: 0.0995 - val_binary_accuracy: 0.9311\n",
      "Epoch 4/5\n",
      "70/70 [==============================] - 2s 29ms/step - loss: 0.0996 - binary_accuracy: 0.9355 - val_loss: 0.0959 - val_binary_accuracy: 0.9363\n",
      "Epoch 5/5\n",
      "70/70 [==============================] - 1s 20ms/step - loss: 0.0995 - binary_accuracy: 0.9322 - val_loss: 0.0944 - val_binary_accuracy: 0.9322\n",
      "\n",
      "Test accuracy: 0.928\n"
     ]
    }
   ],
   "source": [
    "reset_weights(cnn0, cnn0_weights)\n",
    "\n",
    "cnn0.compile(optimizer='adam', loss='binary_crossentropy', metrics=[BinaryAccuracy()])\n",
    "cnn0.fit(x=X_train, y=y_train, epochs=5, batch_size=64, validation_split=0.3)\n",
    "\n",
    "metrics = cnn0.evaluate(X_test, y_test, verbose=0)\n",
    "metrics = format_metrics(metrics)\n",
    "print('\\nTest accuracy:', metrics[1])"
   ]
  },
  {
   "cell_type": "markdown",
   "id": "d4882f25",
   "metadata": {},
   "source": [
    "#### Batch Size = 64, Validation Split = 0.5"
   ]
  },
  {
   "cell_type": "code",
   "execution_count": 20,
   "id": "51151a73",
   "metadata": {},
   "outputs": [
    {
     "name": "stdout",
     "output_type": "stream",
     "text": [
      "Epoch 1/5\n",
      "50/50 [==============================] - 2s 30ms/step - loss: 0.5721 - binary_accuracy: 0.7644 - val_loss: 0.3505 - val_binary_accuracy: 0.8875\n",
      "Epoch 2/5\n",
      "50/50 [==============================] - 2s 36ms/step - loss: 0.2096 - binary_accuracy: 0.9088 - val_loss: 0.1367 - val_binary_accuracy: 0.9311\n",
      "Epoch 3/5\n",
      "50/50 [==============================] - 1s 23ms/step - loss: 0.1185 - binary_accuracy: 0.9367 - val_loss: 0.1227 - val_binary_accuracy: 0.9320\n",
      "Epoch 4/5\n",
      "50/50 [==============================] - 1s 27ms/step - loss: 0.1092 - binary_accuracy: 0.9333 - val_loss: 0.1099 - val_binary_accuracy: 0.9320\n",
      "Epoch 5/5\n",
      "50/50 [==============================] - 1s 25ms/step - loss: 0.0997 - binary_accuracy: 0.9352 - val_loss: 0.1032 - val_binary_accuracy: 0.9314\n",
      "\n",
      "Test accuracy: 0.931\n"
     ]
    }
   ],
   "source": [
    "reset_weights(cnn0, cnn0_weights)\n",
    "\n",
    "cnn0.compile(optimizer='adam', loss='binary_crossentropy', metrics=[BinaryAccuracy()])\n",
    "cnn0.fit(x=X_train, y=y_train, epochs=5, batch_size=64, validation_split=0.5)\n",
    "\n",
    "metrics = cnn0.evaluate(X_test, y_test, verbose=0)\n",
    "metrics = format_metrics(metrics)\n",
    "print('\\nTest accuracy:', metrics[1])"
   ]
  },
  {
   "cell_type": "markdown",
   "id": "57c7bdfb",
   "metadata": {},
   "source": [
    "#### Batch Size = 100, Validation Split = 0.5"
   ]
  },
  {
   "cell_type": "code",
   "execution_count": 21,
   "id": "236c7992",
   "metadata": {},
   "outputs": [
    {
     "name": "stdout",
     "output_type": "stream",
     "text": [
      "Epoch 1/5\n",
      "32/32 [==============================] - 4s 47ms/step - loss: 0.6353 - binary_accuracy: 0.7641 - true_positives: 1494.0000 - false_positives: 421.0000 - true_negatives: 1642.0000 - false_negatives: 547.0000 - sensitivity_at_specificity: 1.0000 - specificity_at_sensitivity: 1.0000 - precision: 0.7802 - recall: 0.7320 - auc: 0.8587 - val_loss: 0.5298 - val_binary_accuracy: 0.8080 - val_true_positives: 1015.0000 - val_false_positives: 47.0000 - val_true_negatives: 1564.0000 - val_false_negatives: 566.0000 - val_sensitivity_at_specificity: 1.0000 - val_specificity_at_sensitivity: 1.0000 - val_precision: 0.9557 - val_recall: 0.6420 - val_auc: 0.9312\n",
      "Epoch 2/5\n",
      "32/32 [==============================] - 3s 80ms/step - loss: 0.3588 - binary_accuracy: 0.8847 - true_positives: 1305.0000 - false_positives: 86.0000 - true_negatives: 1519.0000 - false_negatives: 282.0000 - sensitivity_at_specificity: 1.0000 - specificity_at_sensitivity: 1.0000 - precision: 0.9382 - recall: 0.8223 - auc: 0.9557 - val_loss: 0.2213 - val_binary_accuracy: 0.9044 - val_true_positives: 1299.0000 - val_false_positives: 23.0000 - val_true_negatives: 1588.0000 - val_false_negatives: 282.0000 - val_sensitivity_at_specificity: 1.0000 - val_specificity_at_sensitivity: 1.0000 - val_precision: 0.9826 - val_recall: 0.8216 - val_auc: 0.9781\n",
      "Epoch 3/5\n",
      "32/32 [==============================] - 1s 38ms/step - loss: 0.1633 - binary_accuracy: 0.9283 - true_positives: 1436.0000 - false_positives: 78.0000 - true_negatives: 1527.0000 - false_negatives: 151.0000 - sensitivity_at_specificity: 1.0000 - specificity_at_sensitivity: 1.0000 - precision: 0.9485 - recall: 0.9049 - auc: 0.9874 - val_loss: 0.1349 - val_binary_accuracy: 0.9311 - val_true_positives: 1504.0000 - val_false_positives: 143.0000 - val_true_negatives: 1468.0000 - val_false_negatives: 77.0000 - val_sensitivity_at_specificity: 1.0000 - val_specificity_at_sensitivity: 1.0000 - val_precision: 0.9132 - val_recall: 0.9513 - val_auc: 0.9893\n",
      "Epoch 4/5\n",
      "32/32 [==============================] - 1s 44ms/step - loss: 0.1127 - binary_accuracy: 0.9414 - true_positives: 1461.0000 - false_positives: 61.0000 - true_negatives: 1544.0000 - false_negatives: 126.0000 - sensitivity_at_specificity: 1.0000 - specificity_at_sensitivity: 1.0000 - precision: 0.9599 - recall: 0.9206 - auc: 0.9922 - val_loss: 0.1127 - val_binary_accuracy: 0.9326 - val_true_positives: 1556.0000 - val_false_positives: 190.0000 - val_true_negatives: 1421.0000 - val_false_negatives: 25.0000 - val_sensitivity_at_specificity: 1.0000 - val_specificity_at_sensitivity: 1.0000 - val_precision: 0.8912 - val_recall: 0.9842 - val_auc: 0.9906\n",
      "Epoch 5/5\n",
      "32/32 [==============================] - 1s 45ms/step - loss: 0.1032 - binary_accuracy: 0.9380 - true_positives: 1481.0000 - false_positives: 92.0000 - true_negatives: 1513.0000 - false_negatives: 106.0000 - sensitivity_at_specificity: 1.0000 - specificity_at_sensitivity: 1.0000 - precision: 0.9415 - recall: 0.9332 - auc: 0.9916 - val_loss: 0.1044 - val_binary_accuracy: 0.9320 - val_true_positives: 1517.0000 - val_false_positives: 153.0000 - val_true_negatives: 1458.0000 - val_false_negatives: 64.0000 - val_sensitivity_at_specificity: 1.0000 - val_specificity_at_sensitivity: 1.0000 - val_precision: 0.9084 - val_recall: 0.9595 - val_auc: 0.9904\n",
      "\n",
      "Test accuracy: 0.932\n"
     ]
    }
   ],
   "source": [
    "reset_weights(cnn0, cnn0_weights)\n",
    "\n",
    "cnn0.compile(optimizer='adam', loss='binary_crossentropy', metrics=metrics_at_compile)\n",
    "cnn0.fit(x=X_train, y=y_train, epochs=5, batch_size=100, validation_split=0.5)\n",
    "\n",
    "metrics = cnn0.evaluate(X_test, y_test, verbose=0)\n",
    "metrics = format_metrics(metrics)\n",
    "metric_list.append(metrics[1:])\n",
    "print('\\nTest accuracy:', metrics[1])"
   ]
  },
  {
   "cell_type": "markdown",
   "id": "4d3170aa",
   "metadata": {},
   "source": [
    "---"
   ]
  },
  {
   "cell_type": "markdown",
   "id": "47ce7611",
   "metadata": {},
   "source": [
    "### CNN 2 - Learning Rate and Momentum"
   ]
  },
  {
   "cell_type": "markdown",
   "id": "bad5344a",
   "metadata": {},
   "source": [
    "#### Optimiser = SGD (Defaults: Learning Rate = 0.001, Momentum = 0)"
   ]
  },
  {
   "cell_type": "code",
   "execution_count": 22,
   "id": "7da1473b",
   "metadata": {
    "scrolled": false
   },
   "outputs": [
    {
     "name": "stdout",
     "output_type": "stream",
     "text": [
      "Epoch 1/5\n",
      "200/200 [==============================] - 5s 21ms/step - loss: 0.6877 - binary_accuracy: 0.6383\n",
      "Epoch 2/5\n",
      "200/200 [==============================] - 4s 20ms/step - loss: 0.6796 - binary_accuracy: 0.6725\n",
      "Epoch 3/5\n",
      "200/200 [==============================] - 4s 21ms/step - loss: 0.6699 - binary_accuracy: 0.7049\n",
      "Epoch 4/5\n",
      "200/200 [==============================] - 4s 20ms/step - loss: 0.6561 - binary_accuracy: 0.7079\n",
      "Epoch 5/5\n",
      "200/200 [==============================] - 4s 19ms/step - loss: 0.6362 - binary_accuracy: 0.7179\n",
      "\n",
      "Test accuracy: 0.704\n"
     ]
    }
   ],
   "source": [
    "reset_weights(cnn0, cnn0_weights)\n",
    "\n",
    "cnn0.compile(optimizer=tf.keras.optimizers.SGD(), \n",
    "             loss=\"binary_crossentropy\", \n",
    "             metrics=[BinaryAccuracy()])\n",
    "cnn0.fit(X_train, y_train, epochs=5)\n",
    "\n",
    "metrics = cnn0.evaluate(X_test, y_test, verbose=0)\n",
    "metrics = format_metrics(metrics)\n",
    "print('\\nTest accuracy:', metrics[1])"
   ]
  },
  {
   "cell_type": "markdown",
   "id": "0313f153",
   "metadata": {},
   "source": [
    "#### Optimiser = SGD, Learning Rate = 0.01, Momentum = 0.9"
   ]
  },
  {
   "cell_type": "code",
   "execution_count": 23,
   "id": "c6fa7c38",
   "metadata": {},
   "outputs": [
    {
     "name": "stdout",
     "output_type": "stream",
     "text": [
      "Epoch 1/5\n",
      "200/200 [==============================] - 1s 2ms/step - loss: 0.6195 - binary_accuracy: 0.6947\n",
      "Epoch 2/5\n",
      "200/200 [==============================] - 0s 2ms/step - loss: 0.1975 - binary_accuracy: 0.9162\n",
      "Epoch 3/5\n",
      "200/200 [==============================] - 1s 3ms/step - loss: 0.1089 - binary_accuracy: 0.9358\n",
      "Epoch 4/5\n",
      "200/200 [==============================] - 1s 3ms/step - loss: 0.1017 - binary_accuracy: 0.9309\n",
      "Epoch 5/5\n",
      "200/200 [==============================] - 3s 16ms/step - loss: 0.0999 - binary_accuracy: 0.9314\n",
      "\n",
      "Test accuracy: 0.933\n"
     ]
    }
   ],
   "source": [
    "reset_weights(cnn0, cnn0_weights)\n",
    "\n",
    "cnn0.compile(optimizer=tf.keras.optimizers.SGD(learning_rate=0.01, momentum=0.9), \n",
    "             loss=\"binary_crossentropy\", \n",
    "             metrics=[BinaryAccuracy()])\n",
    "cnn0.fit(X_train, y_train, epochs=5)\n",
    "\n",
    "metrics = cnn0.evaluate(X_test, y_test, verbose=0)\n",
    "metrics = format_metrics(metrics)\n",
    "print('\\nTest accuracy:', metrics[1])"
   ]
  },
  {
   "cell_type": "markdown",
   "id": "98a4f67f",
   "metadata": {},
   "source": [
    "#### Optimiser = SGD, Learning Rate = 0.1, Momentum = 0.9"
   ]
  },
  {
   "cell_type": "code",
   "execution_count": 24,
   "id": "70cfcdfe",
   "metadata": {},
   "outputs": [
    {
     "name": "stdout",
     "output_type": "stream",
     "text": [
      "Epoch 1/5\n",
      "200/200 [==============================] - 5s 8ms/step - loss: 0.2379 - binary_accuracy: 0.8826 - true_positives: 4020.0000 - false_positives: 531.0000 - true_negatives: 4029.0000 - false_negatives: 540.0000 - sensitivity_at_specificity: 1.0000 - specificity_at_sensitivity: 1.0000 - precision: 0.8833 - recall: 0.8816 - auc: 0.9687\n",
      "Epoch 2/5\n",
      "200/200 [==============================] - 1s 3ms/step - loss: 0.0938 - binary_accuracy: 0.9311 - true_positives: 2928.0000 - false_positives: 200.0000 - true_negatives: 3016.0000 - false_negatives: 240.0000 - sensitivity_at_specificity: 1.0000 - specificity_at_sensitivity: 1.0000 - precision: 0.9361 - recall: 0.9242 - auc: 0.9912\n",
      "Epoch 3/5\n",
      "200/200 [==============================] - 1s 4ms/step - loss: 0.0925 - binary_accuracy: 0.9347 - true_positives: 2985.0000 - false_positives: 234.0000 - true_negatives: 2982.0000 - false_negatives: 183.0000 - sensitivity_at_specificity: 1.0000 - specificity_at_sensitivity: 1.0000 - precision: 0.9273 - recall: 0.9422 - auc: 0.9913\n",
      "Epoch 4/5\n",
      "200/200 [==============================] - 2s 9ms/step - loss: 0.0928 - binary_accuracy: 0.9348 - true_positives: 2963.0000 - false_positives: 211.0000 - true_negatives: 3005.0000 - false_negatives: 205.0000 - sensitivity_at_specificity: 1.0000 - specificity_at_sensitivity: 1.0000 - precision: 0.9335 - recall: 0.9353 - auc: 0.9915\n",
      "Epoch 5/5\n",
      "200/200 [==============================] - 5s 23ms/step - loss: 0.0930 - binary_accuracy: 0.9339 - true_positives: 2953.0000 - false_positives: 207.0000 - true_negatives: 3009.0000 - false_negatives: 215.0000 - sensitivity_at_specificity: 1.0000 - specificity_at_sensitivity: 1.0000 - precision: 0.9345 - recall: 0.9321 - auc: 0.9913\n",
      "\n",
      "Test accuracy: 0.933\n"
     ]
    }
   ],
   "source": [
    "reset_weights(cnn0, cnn0_weights)\n",
    "\n",
    "cnn0.compile(optimizer=tf.keras.optimizers.SGD(learning_rate=0.1, momentum=0.9), \n",
    "             loss=\"binary_crossentropy\", \n",
    "             metrics=metrics_at_compile)\n",
    "cnn0.fit(X_train, y_train, epochs=5)\n",
    "\n",
    "metrics = cnn0.evaluate(X_test, y_test, verbose=0)\n",
    "metrics = format_metrics(metrics)\n",
    "metric_list.append(metrics[1:])\n",
    "print('\\nTest accuracy:', metrics[1])"
   ]
  },
  {
   "cell_type": "markdown",
   "id": "c21a1d89",
   "metadata": {},
   "source": [
    "#### Optimiser = SGD, Learning Rate = 0.1, Momentum = 0.5"
   ]
  },
  {
   "cell_type": "code",
   "execution_count": 25,
   "id": "407f5196",
   "metadata": {
    "scrolled": true
   },
   "outputs": [
    {
     "name": "stdout",
     "output_type": "stream",
     "text": [
      "Epoch 1/5\n",
      "200/200 [==============================] - 4s 16ms/step - loss: 0.4040 - binary_accuracy: 0.8018\n",
      "Epoch 2/5\n",
      "200/200 [==============================] - 8s 38ms/step - loss: 0.1073 - binary_accuracy: 0.9391\n",
      "Epoch 3/5\n",
      "200/200 [==============================] - 8s 39ms/step - loss: 0.0986 - binary_accuracy: 0.9331\n",
      "Epoch 4/5\n",
      "200/200 [==============================] - 7s 37ms/step - loss: 0.0957 - binary_accuracy: 0.9367\n",
      "Epoch 5/5\n",
      "200/200 [==============================] - 8s 40ms/step - loss: 0.0948 - binary_accuracy: 0.9311\n",
      "\n",
      "Test accuracy: 0.933\n"
     ]
    }
   ],
   "source": [
    "reset_weights(cnn0, cnn0_weights)\n",
    "\n",
    "cnn0.compile(optimizer=tf.keras.optimizers.SGD(learning_rate=0.1, momentum=0.5), \n",
    "             loss=\"binary_crossentropy\", \n",
    "             metrics=[BinaryAccuracy()])\n",
    "cnn0.fit(X_train, y_train, epochs=5)\n",
    "\n",
    "metrics = cnn0.evaluate(X_test, y_test, verbose=0)\n",
    "metrics = format_metrics(metrics)\n",
    "print('\\nTest accuracy:', metrics[1])"
   ]
  },
  {
   "cell_type": "markdown",
   "id": "58f0513d",
   "metadata": {},
   "source": [
    "## Summary"
   ]
  },
  {
   "cell_type": "code",
   "execution_count": 26,
   "id": "3612cd0a",
   "metadata": {},
   "outputs": [
    {
     "data": {
      "image/png": "[encoded data removed]",
      "text/plain": [
       "<Figure size 900x200 with 1 Axes>"
      ]
     },
     "metadata": {},
     "output_type": "display_data"
    }
   ],
   "source": [
    "metrics = np.asarray(metric_list).reshape(3, 10).round(3)\n",
    "\n",
    "\n",
    "fig, ax = plt.subplots(figsize=(9, 2))\n",
    "\n",
    "# hide axes\n",
    "fig.patch.set_visible(False)\n",
    "ax.axis('off')\n",
    "ax.axis('tight')\n",
    "\n",
    "rows = [\"CNN 0\", \"CNN 1\", \"CNN 2\"]\n",
    "table = ax.table(metrics, colLabels=metric_labels, rowLabels=rows, loc='center')\n",
    "\n",
    "table.auto_set_font_size(False)\n",
    "\n",
    "fig.tight_layout()\n",
    "\n",
    "plt.show()"
   ]
  },
  {
   "cell_type": "code",
   "execution_count": null,
   "id": "d33ea4a6",
   "metadata": {},
   "outputs": [],
   "source": []
  }
 ],
 "metadata": {
  "kernelspec": {
   "display_name": "Python 3 (ipykernel)",
   "language": "python",
   "name": "python3"
  },
  "language_info": {
   "codemirror_mode": {
    "name": "ipython",
    "version": 3
   },
   "file_extension": ".py",
   "mimetype": "text/x-python",
   "name": "python",
   "nbconvert_exporter": "python",
   "pygments_lexer": "ipython3",
   "version": "3.10.4"
  }
 },
 "nbformat": 4,
 "nbformat_minor": 5
}
