{
 "cells": [
  {
   "cell_type": "markdown",
   "id": "852f21cc",
   "metadata": {},
   "source": [
    "# F20DL Lab 11"
   ]
  },
  {
   "cell_type": "markdown",
   "id": "f7a99bb9",
   "metadata": {},
   "source": [
    "## Setup"
   ]
  },
  {
   "cell_type": "code",
   "execution_count": 1,
   "id": "44a13a5f",
   "metadata": {},
   "outputs": [],
   "source": [
    "# Python ≥3.5 is required\n",
    "import sys\n",
    "assert sys.version_info >= (3, 5)\n",
    "\n",
    "# Scikit-Learn ≥0.20 is required\n",
    "import sklearn\n",
    "assert sklearn.__version__ >= \"0.20\"\n",
    "\n",
    "# Common imports\n",
    "import numpy as np\n",
    "import pandas as pd\n",
    "import tensorflow as tf\n",
    "\n",
    "# to make this notebook's output stable across runs\n",
    "np.random.seed(42)\n",
    "tf.random.set_seed(0)\n",
    "\n",
    "# To plot pretty figures\n",
    "%matplotlib inline\n",
    "import matplotlib as mpl\n",
    "import matplotlib.pyplot as plt\n",
    "mpl.rc('axes', labelsize=10)\n",
    "mpl.rc('xtick', labelsize=10)\n",
    "mpl.rc('ytick', labelsize=10)"
   ]
  },
  {
   "cell_type": "code",
   "execution_count": 2,
   "id": "95950573",
   "metadata": {},
   "outputs": [],
   "source": [
    "# Load the dataset into numpy arrays\n",
    "X = np.load(\"./datasets/smiley_X_new.npy\")\n",
    "y = np.load(\"./datasets/smiley_y_new.npy\")"
   ]
  },
  {
   "cell_type": "code",
   "execution_count": 3,
   "id": "3d8f45f0",
   "metadata": {},
   "outputs": [],
   "source": [
    "# X is a list of all images. Images are represented as columns of pixel values.\n",
    "# To get pixel (r, c) of image i, use X[i][r-1][c-1][0]\n",
    "\n",
    "# X[0] returns columns of pixel values representing the 1st image.\n",
    "# X[0][2][6][0] returns the value of the pixel in the 3rd row and 7th column of the 1st image (r=3, c=7).\n",
    "# y[0] returns the label for the 1st image. (0 = happy, 1 = sad)"
   ]
  },
  {
   "cell_type": "code",
   "execution_count": 4,
   "id": "53b156af",
   "metadata": {},
   "outputs": [],
   "source": [
    "class_names = [\"happy\", \"sad\"]"
   ]
  },
  {
   "cell_type": "code",
   "execution_count": 5,
   "id": "2e3a90b9",
   "metadata": {},
   "outputs": [],
   "source": [
    "# Shows smiley as an image. 'smiley' should be an element in 'X'\n",
    "def show_smiley(smiley):\n",
    "    plt.figure(figsize=(1,1))\n",
    "    plt.xticks([])\n",
    "    plt.yticks([])\n",
    "    plt.imshow(smiley, cmap=\"Greys\")"
   ]
  },
  {
   "cell_type": "code",
   "execution_count": 6,
   "id": "028fab56",
   "metadata": {},
   "outputs": [],
   "source": [
    "# Reference: https://stackoverflow.com/a/43957826\n",
    "def reset_weights(model, weights):\n",
    "    model.set_weights(weights)"
   ]
  },
  {
   "cell_type": "code",
   "execution_count": 7,
   "id": "9296706f",
   "metadata": {},
   "outputs": [],
   "source": [
    "from sklearn.model_selection import KFold\n",
    "\n",
    "# Perform k-fold cross validation and return scores for each fold\n",
    "def cross_val(model, model_weights, data, labels, k=10):\n",
    "    k_fold_splitter = KFold(n_splits=k)\n",
    "    scores = []\n",
    "    \n",
    "    i = 1\n",
    "    for train_i, test_i in k_fold_splitter.split(data):\n",
    "        # Select data for current fold\n",
    "        train_data, train_labels = data[train_i], labels[train_i]\n",
    "        test_data, test_labels = data[test_i], labels[test_i]\n",
    "        \n",
    "        reset_weights(model, model_weights)\n",
    "        \n",
    "        print(\"Training and testing fold %i...\" % i)\n",
    "        \n",
    "        # Get and save accuracy of current fold\n",
    "        model.fit(train_data, train_labels, epochs=5, verbose=0)\n",
    "        acc = model.evaluate(test_data, test_labels, verbose=0)[1]    # Select accuracy only\n",
    "        scores.append(acc)\n",
    "        i+=1\n",
    "    \n",
    "    return np.asarray(scores)"
   ]
  },
  {
   "cell_type": "code",
   "execution_count": 8,
   "id": "9f549e34",
   "metadata": {},
   "outputs": [],
   "source": [
    "from tensorflow.keras.metrics import BinaryAccuracy, TruePositives, FalsePositives, TrueNegatives, FalseNegatives, \\\n",
    "    Precision, Recall, AUC\n",
    "\n",
    "# List of metrics to calculate when evaluating the model\n",
    "metrics_at_compile = [BinaryAccuracy(), \n",
    "                      TruePositives(), \n",
    "                      FalsePositives(), \n",
    "                      TrueNegatives(), \n",
    "                      FalseNegatives(),\n",
    "                      Precision(), \n",
    "                      Recall(), \n",
    "                      AUC()]\n",
    "\n",
    "metric_labels = [\"Loss\", \"Accuracy\", \"TP\", \"FP\", \"TN\", \"FN\", \"Sensitivity\", \"Specificity\", \"Precision\", \"Recall\", \"ROC Area\"]\n",
    "metric_list = []"
   ]
  },
  {
   "cell_type": "code",
   "execution_count": 9,
   "id": "625e8988",
   "metadata": {},
   "outputs": [],
   "source": [
    "# Calculate and insert the sensitivity and specificity at indices 6 and 7 respectively\n",
    "def set_sensitivity_specificity(metrics):\n",
    "    tp = metrics[2]\n",
    "    fp = metrics[3]\n",
    "    tn = metrics[4]\n",
    "    fn = metrics[5]\n",
    "    \n",
    "    sensitivity = tp/(tp+fn)\n",
    "    specificity = tn/(tn+fp)\n",
    "    \n",
    "    metrics.insert(6, sensitivity)\n",
    "    metrics.insert(7, specificity)\n",
    "    \n",
    "    return metrics"
   ]
  },
  {
   "cell_type": "code",
   "execution_count": 10,
   "id": "2537a8df",
   "metadata": {},
   "outputs": [],
   "source": [
    "# Reference: https://stackoverflow.com/a/17568803\n",
    "\n",
    "# Highlight the best values in the table\n",
    "def highlight_best_vals(data, table, highlight_color):\n",
    "    for c in range(data.shape[1]):\n",
    "        col = data.T[c]\n",
    "        if c not in [0, 3, 5]:\n",
    "            best_val_i = np.argwhere(col == np.max(col))    # Indices of highest values\n",
    "        else:\n",
    "            best_val_i = np.argwhere(col == np.min(col))    # Indices of lowest values for loss, fp and fn\n",
    "        \n",
    "        best_val_i = best_val_i.flatten()\n",
    "        \n",
    "        for r in best_val_i:\n",
    "            table[(r+1, c)].set_facecolor(highlight_color)\n",
    "            table[(r+1, c)].set_text_props(fontweight=\"bold\")"
   ]
  },
  {
   "cell_type": "markdown",
   "id": "f9ff71d7",
   "metadata": {},
   "source": [
    "## Convolutional Neural Networks"
   ]
  },
  {
   "cell_type": "markdown",
   "id": "4fb59e1b",
   "metadata": {},
   "source": [
    "### CNN A"
   ]
  },
  {
   "cell_type": "code",
   "execution_count": 11,
   "id": "9de5175e",
   "metadata": {},
   "outputs": [
    {
     "name": "stdout",
     "output_type": "stream",
     "text": [
      "Training samples: 6384, Testing samples: 2736\n"
     ]
    }
   ],
   "source": [
    "from sklearn.model_selection import train_test_split\n",
    "X_train, X_test, y_train, y_test = train_test_split(X, y, test_size=0.3, random_state=1) # 70% training and 30% test\n",
    "print(\"Training samples: %i, Testing samples: %i\" % (X_train.shape[0], X_test.shape[0]))"
   ]
  },
  {
   "cell_type": "code",
   "execution_count": 12,
   "id": "c26e429d",
   "metadata": {},
   "outputs": [
    {
     "name": "stdout",
     "output_type": "stream",
     "text": [
      "Model: \"sequential\"\n",
      "_________________________________________________________________\n",
      " Layer (type)                Output Shape              Param #   \n",
      "=================================================================\n",
      " conv2d (Conv2D)             (None, 8, 8, 64)          320       \n",
      "                                                                 \n",
      " max_pooling2d (MaxPooling2D  (None, 4, 4, 64)         0         \n",
      " )                                                               \n",
      "                                                                 \n",
      " conv2d_1 (Conv2D)           (None, 3, 3, 64)          16448     \n",
      "                                                                 \n",
      " max_pooling2d_1 (MaxPooling  (None, 1, 1, 64)         0         \n",
      " 2D)                                                             \n",
      "                                                                 \n",
      " flatten (Flatten)           (None, 64)                0         \n",
      "                                                                 \n",
      " dense (Dense)               (None, 128)               8320      \n",
      "                                                                 \n",
      " dense_1 (Dense)             (None, 1)                 129       \n",
      "                                                                 \n",
      "=================================================================\n",
      "Total params: 25,217\n",
      "Trainable params: 25,217\n",
      "Non-trainable params: 0\n",
      "_________________________________________________________________\n"
     ]
    }
   ],
   "source": [
    "cnn0 = tf.keras.models.Sequential([\n",
    "  tf.keras.layers.Conv2D(64, (2,2), activation='relu', input_shape=(9, 9, 1)),\n",
    "  tf.keras.layers.MaxPooling2D(2, 2),\n",
    "  tf.keras.layers.Conv2D(64, (2,2), activation='relu'),\n",
    "  tf.keras.layers.MaxPooling2D(2,2),\n",
    "  tf.keras.layers.Flatten(),\n",
    "  tf.keras.layers.Dense(128, activation='relu'),\n",
    "  tf.keras.layers.Dense(1, activation='sigmoid')\n",
    "])\n",
    "cnn0_weights = cnn0.get_weights()\n",
    "\n",
    "cnn0.compile(optimizer='adam', loss='binary_crossentropy', metrics=metrics_at_compile)\n",
    "cnn0.summary()"
   ]
  },
  {
   "cell_type": "code",
   "execution_count": 13,
   "id": "ef369056",
   "metadata": {},
   "outputs": [
    {
     "name": "stdout",
     "output_type": "stream",
     "text": [
      "Epoch 1/5\n",
      "200/200 [==============================] - 18s 50ms/step - loss: 0.3181 - binary_accuracy: 0.8554 - true_positives: 2823.0000 - false_positives: 578.0000 - true_negatives: 2638.0000 - false_negatives: 345.0000 - precision: 0.8300 - recall: 0.8911 - auc: 0.9482\n",
      "Epoch 2/5\n",
      "200/200 [==============================] - 6s 30ms/step - loss: 0.1032 - binary_accuracy: 0.9373 - true_positives: 2945.0000 - false_positives: 177.0000 - true_negatives: 3039.0000 - false_negatives: 223.0000 - precision: 0.9433 - recall: 0.9296 - auc: 0.9916\n",
      "Epoch 3/5\n",
      "200/200 [==============================] - 6s 30ms/step - loss: 0.0993 - binary_accuracy: 0.9353 - true_positives: 2968.0000 - false_positives: 213.0000 - true_negatives: 3003.0000 - false_negatives: 200.0000 - precision: 0.9330 - recall: 0.9369 - auc: 0.9911\n",
      "Epoch 4/5\n",
      "200/200 [==============================] - 6s 28ms/step - loss: 0.0970 - binary_accuracy: 0.9336 - true_positives: 2957.0000 - false_positives: 213.0000 - true_negatives: 3003.0000 - false_negatives: 211.0000 - precision: 0.9328 - recall: 0.9334 - auc: 0.9909\n",
      "Epoch 5/5\n",
      "200/200 [==============================] - 6s 31ms/step - loss: 0.0967 - binary_accuracy: 0.9312 - true_positives: 2931.0000 - false_positives: 202.0000 - true_negatives: 3014.0000 - false_negatives: 237.0000 - precision: 0.9355 - recall: 0.9252 - auc: 0.9907\n"
     ]
    },
    {
     "data": {
      "text/plain": [
       "<keras.callbacks.History at 0x1fd4e2718d0>"
      ]
     },
     "execution_count": 13,
     "metadata": {},
     "output_type": "execute_result"
    }
   ],
   "source": [
    "cnn0.fit(X_train, y_train, epochs=5)"
   ]
  },
  {
   "cell_type": "code",
   "execution_count": 14,
   "id": "b04a8bcf",
   "metadata": {},
   "outputs": [
    {
     "name": "stdout",
     "output_type": "stream",
     "text": [
      "\n",
      "Test accuracy: 0.9327\n"
     ]
    }
   ],
   "source": [
    "metrics = cnn0.evaluate(X_test,  y_test, verbose=0)\n",
    "metrics = set_sensitivity_specificity(metrics)\n",
    "metrics = np.asarray(metrics).round(4)\n",
    "metric_list.append(metrics)\n",
    "print('\\nTest accuracy:', metrics[1])"
   ]
  },
  {
   "cell_type": "code",
   "execution_count": 15,
   "id": "7c719fc3",
   "metadata": {},
   "outputs": [
    {
     "name": "stdout",
     "output_type": "stream",
     "text": [
      "86/86 [==============================] - 1s 4ms/step\n"
     ]
    }
   ],
   "source": [
    "y_pred0 = cnn0.predict(X_test)"
   ]
  },
  {
   "cell_type": "code",
   "execution_count": 16,
   "id": "37179539",
   "metadata": {
    "scrolled": true
   },
   "outputs": [
    {
     "name": "stdout",
     "output_type": "stream",
     "text": [
      "Prediction:  happy\n"
     ]
    },
    {
     "data": {
      "image/png": "[encoded data removed]",
      "text/plain": [
       "<Figure size 100x100 with 1 Axes>"
      ]
     },
     "metadata": {},
     "output_type": "display_data"
    }
   ],
   "source": [
    "# Prediction for first testing image\n",
    "print(\"Prediction: \", class_names[np.argmax(y_pred0[0])])\n",
    "show_smiley(X_test[0])"
   ]
  },
  {
   "cell_type": "code",
   "execution_count": 17,
   "id": "b60e5144",
   "metadata": {},
   "outputs": [],
   "source": [
    "# Reference: https://stackoverflow.com/a/43957826\n",
    "def reset_weights(model, weights):\n",
    "    model.set_weights(weights)"
   ]
  },
  {
   "cell_type": "code",
   "execution_count": 18,
   "id": "274e6aa1",
   "metadata": {},
   "outputs": [
    {
     "name": "stdout",
     "output_type": "stream",
     "text": [
      "Training and testing fold 1...\n",
      "Training and testing fold 2...\n",
      "Training and testing fold 3...\n",
      "Training and testing fold 4...\n",
      "Training and testing fold 5...\n",
      "Training and testing fold 6...\n",
      "Training and testing fold 7...\n",
      "Training and testing fold 8...\n",
      "Training and testing fold 9...\n",
      "Training and testing fold 10...\n",
      "Cross validation scores:  [0.9298 0.9342 0.932  0.9441 0.9265 0.9287 0.9298 0.9189 0.9189 0.9331]\n",
      "Mean score:  0.9296\n"
     ]
    }
   ],
   "source": [
    "cross_val_scores = cross_val(cnn0, cnn0_weights, X, y, k=10)\n",
    "print(\"Cross validation scores: \", cross_val_scores.round(4))\n",
    "print(\"Mean score: \", cross_val_scores.mean().round(4))"
   ]
  },
  {
   "cell_type": "markdown",
   "id": "8be4a086",
   "metadata": {},
   "source": [
    "## Experimenting with Different Architectures"
   ]
  },
  {
   "cell_type": "markdown",
   "id": "c7651f8e",
   "metadata": {},
   "source": [
    "### CNN B - Batch Size and Validation Split"
   ]
  },
  {
   "cell_type": "markdown",
   "id": "8fc0e144",
   "metadata": {},
   "source": [
    "#### Batch Size = 100, Validation Split = 0.3"
   ]
  },
  {
   "cell_type": "code",
   "execution_count": 19,
   "id": "fb1e2dce",
   "metadata": {},
   "outputs": [
    {
     "name": "stdout",
     "output_type": "stream",
     "text": [
      "Epoch 1/5\n",
      "45/45 [==============================] - 6s 89ms/step - loss: 0.6011 - binary_accuracy: 0.7384 - val_loss: 0.4224 - val_binary_accuracy: 0.8899\n",
      "Epoch 2/5\n",
      "45/45 [==============================] - 3s 58ms/step - loss: 0.2639 - binary_accuracy: 0.9116 - val_loss: 0.1514 - val_binary_accuracy: 0.9363\n",
      "Epoch 3/5\n",
      "45/45 [==============================] - 2s 54ms/step - loss: 0.1277 - binary_accuracy: 0.9349 - val_loss: 0.1108 - val_binary_accuracy: 0.9327\n",
      "Epoch 4/5\n",
      "45/45 [==============================] - 4s 93ms/step - loss: 0.1084 - binary_accuracy: 0.9282 - val_loss: 0.1013 - val_binary_accuracy: 0.9301\n",
      "Epoch 5/5\n",
      "45/45 [==============================] - 4s 96ms/step - loss: 0.1047 - binary_accuracy: 0.9306 - val_loss: 0.0953 - val_binary_accuracy: 0.9363\n",
      "\n",
      "Test accuracy: 0.9262\n"
     ]
    }
   ],
   "source": [
    "reset_weights(cnn0, cnn0_weights)\n",
    "\n",
    "cnn0.compile(optimizer='adam', loss='binary_crossentropy', metrics=[BinaryAccuracy()])\n",
    "cnn0.fit(x=X_train, y=y_train, epochs=5, batch_size=100, validation_split=0.3)\n",
    "\n",
    "metrics = cnn0.evaluate(X_test, y_test, verbose=0)\n",
    "metrics = np.asarray(metrics).round(4)\n",
    "print('\\nTest accuracy:', metrics[1])"
   ]
  },
  {
   "cell_type": "code",
   "execution_count": 20,
   "id": "95e58233",
   "metadata": {},
   "outputs": [],
   "source": [
    "# Try lower batch size to see if accuracy increases"
   ]
  },
  {
   "cell_type": "markdown",
   "id": "59e4504e",
   "metadata": {},
   "source": [
    "#### Batch Size = 64, Validation Split = 0.3"
   ]
  },
  {
   "cell_type": "code",
   "execution_count": 21,
   "id": "c18de0a8",
   "metadata": {},
   "outputs": [
    {
     "name": "stdout",
     "output_type": "stream",
     "text": [
      "Epoch 1/5\n",
      "70/70 [==============================] - 5s 42ms/step - loss: 0.5226 - binary_accuracy: 0.7860 - val_loss: 0.2439 - val_binary_accuracy: 0.9217\n",
      "Epoch 2/5\n",
      "70/70 [==============================] - 2s 33ms/step - loss: 0.1539 - binary_accuracy: 0.9355 - val_loss: 0.1143 - val_binary_accuracy: 0.9295\n",
      "Epoch 3/5\n",
      "70/70 [==============================] - 2s 26ms/step - loss: 0.1070 - binary_accuracy: 0.9353 - val_loss: 0.1018 - val_binary_accuracy: 0.9342\n",
      "Epoch 4/5\n",
      "70/70 [==============================] - 2s 33ms/step - loss: 0.1063 - binary_accuracy: 0.9317 - val_loss: 0.1055 - val_binary_accuracy: 0.9295\n",
      "Epoch 5/5\n",
      "70/70 [==============================] - 2s 31ms/step - loss: 0.1006 - binary_accuracy: 0.9313 - val_loss: 0.0945 - val_binary_accuracy: 0.9332\n",
      "\n",
      "Test accuracy: 0.9309\n"
     ]
    }
   ],
   "source": [
    "reset_weights(cnn0, cnn0_weights)\n",
    "\n",
    "cnn0.compile(optimizer='adam', loss='binary_crossentropy', metrics=[BinaryAccuracy()])\n",
    "cnn0.fit(x=X_train, y=y_train, epochs=5, batch_size=64, validation_split=0.3)\n",
    "\n",
    "metrics = cnn0.evaluate(X_test, y_test, verbose=0)\n",
    "metrics = np.asarray(metrics).round(4)\n",
    "print('\\nTest accuracy:', metrics[1])"
   ]
  },
  {
   "cell_type": "code",
   "execution_count": 22,
   "id": "376ffdfe",
   "metadata": {},
   "outputs": [],
   "source": [
    "# Accuracy increased. Now try a higher validation split"
   ]
  },
  {
   "cell_type": "markdown",
   "id": "137d23ab",
   "metadata": {},
   "source": [
    "#### <span style=\"color:green\">*Batch Size = 64, Validation Split = 0.5 - Optimal*</span>"
   ]
  },
  {
   "cell_type": "code",
   "execution_count": 23,
   "id": "51151a73",
   "metadata": {},
   "outputs": [
    {
     "name": "stdout",
     "output_type": "stream",
     "text": [
      "Epoch 1/5\n",
      "50/50 [==============================] - 14s 129ms/step - loss: 0.5967 - binary_accuracy: 0.7904 - true_positives: 1585.0000 - false_positives: 404.0000 - true_negatives: 1659.0000 - false_negatives: 456.0000 - precision: 0.7969 - recall: 0.7766 - auc: 0.8958 - val_loss: 0.4074 - val_binary_accuracy: 0.8897 - val_true_positives: 1299.0000 - val_false_positives: 70.0000 - val_true_negatives: 1541.0000 - val_false_negatives: 282.0000 - val_precision: 0.9489 - val_recall: 0.8216 - val_auc: 0.9570\n",
      "Epoch 2/5\n",
      "50/50 [==============================] - 2s 40ms/step - loss: 0.2472 - binary_accuracy: 0.9076 - true_positives: 1374.0000 - false_positives: 82.0000 - true_negatives: 1523.0000 - false_negatives: 213.0000 - precision: 0.9437 - recall: 0.8658 - auc: 0.9767 - val_loss: 0.1564 - val_binary_accuracy: 0.9326 - val_true_positives: 1439.0000 - val_false_positives: 73.0000 - val_true_negatives: 1538.0000 - val_false_negatives: 142.0000 - val_precision: 0.9517 - val_recall: 0.9102 - val_auc: 0.9894\n",
      "Epoch 3/5\n",
      "50/50 [==============================] - 2s 40ms/step - loss: 0.1288 - binary_accuracy: 0.9377 - true_positives: 1462.0000 - false_positives: 74.0000 - true_negatives: 1531.0000 - false_negatives: 125.0000 - precision: 0.9518 - recall: 0.9212 - auc: 0.9909 - val_loss: 0.1158 - val_binary_accuracy: 0.9323 - val_true_positives: 1566.0000 - val_false_positives: 201.0000 - val_true_negatives: 1410.0000 - val_false_negatives: 15.0000 - val_precision: 0.8862 - val_recall: 0.9905 - val_auc: 0.9910\n",
      "Epoch 4/5\n",
      "50/50 [==============================] - 2s 40ms/step - loss: 0.1065 - binary_accuracy: 0.9333 - true_positives: 1464.0000 - false_positives: 90.0000 - true_negatives: 1515.0000 - false_negatives: 123.0000 - precision: 0.9421 - recall: 0.9225 - auc: 0.9917 - val_loss: 0.1051 - val_binary_accuracy: 0.9311 - val_true_positives: 1488.0000 - val_false_positives: 127.0000 - val_true_negatives: 1484.0000 - val_false_negatives: 93.0000 - val_precision: 0.9214 - val_recall: 0.9412 - val_auc: 0.9906\n",
      "Epoch 5/5\n",
      "50/50 [==============================] - 2s 43ms/step - loss: 0.1040 - binary_accuracy: 0.9336 - true_positives: 1477.0000 - false_positives: 102.0000 - true_negatives: 1503.0000 - false_negatives: 110.0000 - precision: 0.9354 - recall: 0.9307 - auc: 0.9914 - val_loss: 0.1044 - val_binary_accuracy: 0.9333 - val_true_positives: 1563.0000 - val_false_positives: 195.0000 - val_true_negatives: 1416.0000 - val_false_negatives: 18.0000 - val_precision: 0.8891 - val_recall: 0.9886 - val_auc: 0.9905\n",
      "\n",
      "Test accuracy: 0.9327\n"
     ]
    }
   ],
   "source": [
    "reset_weights(cnn0, cnn0_weights)\n",
    "\n",
    "cnn0.compile(optimizer='adam', loss='binary_crossentropy', metrics=[metrics_at_compile])\n",
    "cnn0.fit(x=X_train, y=y_train, epochs=5, batch_size=64, validation_split=0.5)\n",
    "\n",
    "metrics = cnn0.evaluate(X_test, y_test, verbose=0)\n",
    "metrics = set_sensitivity_specificity(metrics)\n",
    "metrics = np.asarray(metrics).round(4)\n",
    "metric_list.append(metrics)\n",
    "print('\\nTest accuracy:', metrics[1])"
   ]
  },
  {
   "cell_type": "code",
   "execution_count": 24,
   "id": "263b92c0",
   "metadata": {},
   "outputs": [],
   "source": [
    "# Accuracy increased slightly. Try batch size 100 again"
   ]
  },
  {
   "cell_type": "markdown",
   "id": "d441b00d",
   "metadata": {},
   "source": [
    "#### Batch Size = 100, Validation Split = 0.5"
   ]
  },
  {
   "cell_type": "code",
   "execution_count": 25,
   "id": "236c7992",
   "metadata": {
    "scrolled": false
   },
   "outputs": [
    {
     "name": "stdout",
     "output_type": "stream",
     "text": [
      "Epoch 1/5\n",
      "32/32 [==============================] - 5s 81ms/step - loss: 0.6483 - binary_accuracy: 0.7174 - val_loss: 0.5646 - val_binary_accuracy: 0.8524\n",
      "Epoch 2/5\n",
      "32/32 [==============================] - 3s 97ms/step - loss: 0.4085 - binary_accuracy: 0.8844 - val_loss: 0.2532 - val_binary_accuracy: 0.9173\n",
      "Epoch 3/5\n",
      "32/32 [==============================] - 2s 58ms/step - loss: 0.1806 - binary_accuracy: 0.9330 - val_loss: 0.1469 - val_binary_accuracy: 0.9320\n",
      "Epoch 4/5\n",
      "32/32 [==============================] - 2s 55ms/step - loss: 0.1234 - binary_accuracy: 0.9352 - val_loss: 0.1140 - val_binary_accuracy: 0.9305\n",
      "Epoch 5/5\n",
      "32/32 [==============================] - 2s 56ms/step - loss: 0.1075 - binary_accuracy: 0.9339 - val_loss: 0.1067 - val_binary_accuracy: 0.9298\n",
      "\n",
      "Test accuracy: 0.9327\n"
     ]
    }
   ],
   "source": [
    "reset_weights(cnn0, cnn0_weights)\n",
    "\n",
    "cnn0.compile(optimizer='adam', loss='binary_crossentropy', metrics=[BinaryAccuracy()])\n",
    "cnn0.fit(x=X_train, y=y_train, epochs=5, batch_size=100, validation_split=0.5)\n",
    "\n",
    "metrics = cnn0.evaluate(X_test,  y_test, verbose=0)\n",
    "metrics = np.asarray(metrics).round(4)\n",
    "print('\\nTest accuracy:', metrics[1])"
   ]
  },
  {
   "cell_type": "code",
   "execution_count": 26,
   "id": "bd9c126f",
   "metadata": {},
   "outputs": [],
   "source": [
    "# Accuracy remains the same. Since the loss is slighly lower in the previous configuration and smaller batch sizes tend to\n",
    "# be less computationally expensive, the previous configuration is chosen as the optimal one."
   ]
  },
  {
   "cell_type": "markdown",
   "id": "ed1203d9",
   "metadata": {},
   "source": [
    "---"
   ]
  },
  {
   "cell_type": "markdown",
   "id": "1affe088",
   "metadata": {},
   "source": [
    "### CNN C - Learning Rate and Momentum"
   ]
  },
  {
   "cell_type": "markdown",
   "id": "bad5344a",
   "metadata": {},
   "source": [
    "#### Optimiser = SGD, Learning Rate = 0.001"
   ]
  },
  {
   "cell_type": "code",
   "execution_count": 27,
   "id": "7da1473b",
   "metadata": {
    "scrolled": false
   },
   "outputs": [
    {
     "name": "stdout",
     "output_type": "stream",
     "text": [
      "Epoch 1/5\n",
      "200/200 [==============================] - 7s 28ms/step - loss: 0.6946 - binary_accuracy: 0.4547\n",
      "Epoch 2/5\n",
      "200/200 [==============================] - 9s 43ms/step - loss: 0.6938 - binary_accuracy: 0.4673\n",
      "Epoch 3/5\n",
      "200/200 [==============================] - 10s 48ms/step - loss: 0.6930 - binary_accuracy: 0.4742\n",
      "Epoch 4/5\n",
      "200/200 [==============================] - 10s 48ms/step - loss: 0.6923 - binary_accuracy: 0.4984\n",
      "Epoch 5/5\n",
      "200/200 [==============================] - 9s 47ms/step - loss: 0.6916 - binary_accuracy: 0.5384\n",
      "\n",
      "Test accuracy: 0.5632\n"
     ]
    }
   ],
   "source": [
    "reset_weights(cnn0, cnn0_weights)\n",
    "\n",
    "cnn0.compile(optimizer=tf.keras.optimizers.SGD(learning_rate=0.001), \n",
    "             loss=\"binary_crossentropy\", \n",
    "             metrics=[BinaryAccuracy()])\n",
    "\n",
    "cnn0.fit(X_train, y_train, epochs=5)\n",
    "\n",
    "metrics = cnn0.evaluate(X_test, y_test, verbose=0)\n",
    "metrics = np.asarray(metrics).round(4)\n",
    "print('\\nTest accuracy:', metrics[1])"
   ]
  },
  {
   "cell_type": "code",
   "execution_count": 28,
   "id": "e1e8129a",
   "metadata": {},
   "outputs": [],
   "source": [
    "# Accuracy is quite low. Since the loss is decreasing very slowly, try higher learning rate and use momentum"
   ]
  },
  {
   "cell_type": "markdown",
   "id": "0313f153",
   "metadata": {},
   "source": [
    "#### Optimiser = SGD, Learning Rate = 0.01, Momentum = 0.9"
   ]
  },
  {
   "cell_type": "code",
   "execution_count": 29,
   "id": "c6fa7c38",
   "metadata": {},
   "outputs": [
    {
     "name": "stdout",
     "output_type": "stream",
     "text": [
      "Epoch 1/5\n",
      "200/200 [==============================] - 11s 44ms/step - loss: 0.6345 - binary_accuracy: 0.7126\n",
      "Epoch 2/5\n",
      "200/200 [==============================] - 9s 47ms/step - loss: 0.2027 - binary_accuracy: 0.9182\n",
      "Epoch 3/5\n",
      "200/200 [==============================] - 10s 48ms/step - loss: 0.1108 - binary_accuracy: 0.9339\n",
      "Epoch 4/5\n",
      "200/200 [==============================] - 9s 47ms/step - loss: 0.1028 - binary_accuracy: 0.9336\n",
      "Epoch 5/5\n",
      "200/200 [==============================] - 9s 47ms/step - loss: 0.1012 - binary_accuracy: 0.9334\n",
      "\n",
      "Test accuracy: 0.9327\n"
     ]
    }
   ],
   "source": [
    "reset_weights(cnn0, cnn0_weights)\n",
    "\n",
    "cnn0.compile(optimizer=tf.keras.optimizers.SGD(learning_rate=0.01, momentum=0.9), \n",
    "             loss=\"binary_crossentropy\", \n",
    "             metrics=[BinaryAccuracy()])\n",
    "cnn0.fit(X_train, y_train, epochs=5)\n",
    "\n",
    "metrics = cnn0.evaluate(X_test, y_test, verbose=0)\n",
    "metrics = np.asarray(metrics).round(4)\n",
    "print('\\nTest accuracy:', metrics[1])"
   ]
  },
  {
   "cell_type": "code",
   "execution_count": 30,
   "id": "c55558a8",
   "metadata": {},
   "outputs": [],
   "source": [
    "# Accuracy increased significantly. Try even higher learning rate"
   ]
  },
  {
   "cell_type": "markdown",
   "id": "98a4f67f",
   "metadata": {},
   "source": [
    "#### <span style=\"color:green\">*Optimiser = SGD, Learning Rate = 0.1, Momentum = 0.9 - Optimal*</span>"
   ]
  },
  {
   "cell_type": "code",
   "execution_count": 31,
   "id": "70cfcdfe",
   "metadata": {},
   "outputs": [
    {
     "name": "stdout",
     "output_type": "stream",
     "text": [
      "Epoch 1/5\n",
      "200/200 [==============================] - 16s 45ms/step - loss: 0.2276 - binary_accuracy: 0.8876 - true_positives: 4203.0000 - false_positives: 668.0000 - true_negatives: 3892.0000 - false_negatives: 357.0000 - precision: 0.8629 - recall: 0.9217 - auc: 0.9719\n",
      "Epoch 2/5\n",
      "200/200 [==============================] - 9s 47ms/step - loss: 0.0932 - binary_accuracy: 0.9380 - true_positives: 2931.0000 - false_positives: 159.0000 - true_negatives: 3057.0000 - false_negatives: 237.0000 - precision: 0.9485 - recall: 0.9252 - auc: 0.9919\n",
      "Epoch 3/5\n",
      "200/200 [==============================] - 9s 47ms/step - loss: 0.0925 - binary_accuracy: 0.9359 - true_positives: 3012.0000 - false_positives: 253.0000 - true_negatives: 2963.0000 - false_negatives: 156.0000 - precision: 0.9225 - recall: 0.9508 - auc: 0.9912\n",
      "Epoch 4/5\n",
      "200/200 [==============================] - 10s 48ms/step - loss: 0.0928 - binary_accuracy: 0.9345 - true_positives: 2935.0000 - false_positives: 185.0000 - true_negatives: 3031.0000 - false_negatives: 233.0000 - precision: 0.9407 - recall: 0.9265 - auc: 0.9908\n",
      "Epoch 5/5\n",
      "200/200 [==============================] - 10s 48ms/step - loss: 0.0929 - binary_accuracy: 0.9314 - true_positives: 2923.0000 - false_positives: 193.0000 - true_negatives: 3023.0000 - false_negatives: 245.0000 - precision: 0.9381 - recall: 0.9227 - auc: 0.9906\n",
      "\n",
      "Test accuracy: 0.9353\n"
     ]
    }
   ],
   "source": [
    "reset_weights(cnn0, cnn0_weights)\n",
    "\n",
    "cnn0.compile(optimizer=tf.keras.optimizers.SGD(learning_rate=0.1, momentum=0.9), \n",
    "             loss=\"binary_crossentropy\", \n",
    "             metrics=metrics_at_compile)\n",
    "cnn0.fit(X_train, y_train, epochs=5)\n",
    "\n",
    "metrics = cnn0.evaluate(X_test,  y_test, verbose=0)\n",
    "metrics = set_sensitivity_specificity(metrics)\n",
    "metrics = np.asarray(metrics).round(4)\n",
    "metric_list.append(metrics)\n",
    "print('\\nTest accuracy:', metrics[1])"
   ]
  },
  {
   "cell_type": "code",
   "execution_count": 32,
   "id": "15c5e25c",
   "metadata": {},
   "outputs": [],
   "source": [
    "# Accuracy increased again. Try lower momentum"
   ]
  },
  {
   "cell_type": "markdown",
   "id": "c21a1d89",
   "metadata": {},
   "source": [
    "#### Optimiser = SGD, Learning Rate = 0.1, Momentum = 0.5"
   ]
  },
  {
   "cell_type": "code",
   "execution_count": 33,
   "id": "407f5196",
   "metadata": {
    "scrolled": true
   },
   "outputs": [
    {
     "name": "stdout",
     "output_type": "stream",
     "text": [
      "Epoch 1/5\n",
      "200/200 [==============================] - 11s 45ms/step - loss: 0.4053 - binary_accuracy: 0.8080\n",
      "Epoch 2/5\n",
      "200/200 [==============================] - 9s 47ms/step - loss: 0.1051 - binary_accuracy: 0.9373\n",
      "Epoch 3/5\n",
      "200/200 [==============================] - 9s 47ms/step - loss: 0.0974 - binary_accuracy: 0.9325\n",
      "Epoch 4/5\n",
      "200/200 [==============================] - 10s 48ms/step - loss: 0.0954 - binary_accuracy: 0.9297\n",
      "Epoch 5/5\n",
      "200/200 [==============================] - 9s 47ms/step - loss: 0.0940 - binary_accuracy: 0.9339\n",
      "\n",
      "Test accuracy: 0.9353\n"
     ]
    }
   ],
   "source": [
    "reset_weights(cnn0, cnn0_weights)\n",
    "\n",
    "cnn0.compile(optimizer=tf.keras.optimizers.SGD(learning_rate=0.1, momentum=0.5), \n",
    "             loss=\"binary_crossentropy\", \n",
    "             metrics=[BinaryAccuracy()])\n",
    "cnn0.fit(X_train, y_train, epochs=5)\n",
    "\n",
    "metrics = cnn0.evaluate(X_test, y_test, verbose=0)\n",
    "metrics = np.asarray(metrics).round(4)\n",
    "print('\\nTest accuracy:', metrics[1])"
   ]
  },
  {
   "cell_type": "code",
   "execution_count": 34,
   "id": "63d15ea3",
   "metadata": {},
   "outputs": [],
   "source": [
    "# Accuracy is the same but the loss is slightly higher. Since higher momentum values helps the neural network converge \n",
    "# faster, the previous configuration is chosen as the optimal one."
   ]
  },
  {
   "cell_type": "markdown",
   "id": "8f941679",
   "metadata": {},
   "source": [
    "---"
   ]
  },
  {
   "cell_type": "markdown",
   "id": "40ce02bf",
   "metadata": {},
   "source": [
    "### CNN D - No. of Layers"
   ]
  },
  {
   "cell_type": "markdown",
   "id": "0e7ef3c3",
   "metadata": {},
   "source": [
    "#### 1 Convolutional Layer, 1 Pooling Layer"
   ]
  },
  {
   "cell_type": "code",
   "execution_count": 35,
   "id": "d7679d42",
   "metadata": {},
   "outputs": [
    {
     "name": "stdout",
     "output_type": "stream",
     "text": [
      "Model: \"sequential_1\"\n",
      "_________________________________________________________________\n",
      " Layer (type)                Output Shape              Param #   \n",
      "=================================================================\n",
      " conv2d_2 (Conv2D)           (None, 8, 8, 64)          320       \n",
      "                                                                 \n",
      " max_pooling2d_2 (MaxPooling  (None, 4, 4, 64)         0         \n",
      " 2D)                                                             \n",
      "                                                                 \n",
      " flatten_1 (Flatten)         (None, 1024)              0         \n",
      "                                                                 \n",
      " dense_2 (Dense)             (None, 128)               131200    \n",
      "                                                                 \n",
      " dense_3 (Dense)             (None, 1)                 129       \n",
      "                                                                 \n",
      "=================================================================\n",
      "Total params: 131,649\n",
      "Trainable params: 131,649\n",
      "Non-trainable params: 0\n",
      "_________________________________________________________________\n"
     ]
    }
   ],
   "source": [
    "cnn1 = tf.keras.models.Sequential([\n",
    "  tf.keras.layers.Conv2D(64, (2,2), activation='relu', input_shape=(9, 9, 1)),\n",
    "  tf.keras.layers.MaxPooling2D(2, 2),\n",
    "  tf.keras.layers.Flatten(),\n",
    "  tf.keras.layers.Dense(128, activation='relu'),\n",
    "  tf.keras.layers.Dense(1, activation='sigmoid')\n",
    "])\n",
    "cnn1_weights = cnn1.get_weights()\n",
    "\n",
    "cnn1.compile(optimizer='adam', loss='binary_crossentropy', metrics=metrics_at_compile)\n",
    "cnn1.summary()"
   ]
  },
  {
   "cell_type": "code",
   "execution_count": 36,
   "id": "090dce19",
   "metadata": {},
   "outputs": [
    {
     "name": "stdout",
     "output_type": "stream",
     "text": [
      "Epoch 1/5\n",
      "200/200 [==============================] - 11s 19ms/step - loss: 0.1736 - binary_accuracy: 0.9390 - true_positives: 4410.0000 - false_positives: 406.0000 - true_negatives: 4154.0000 - false_negatives: 150.0000 - precision: 0.9157 - recall: 0.9671 - auc: 0.9920\n",
      "Epoch 2/5\n",
      "200/200 [==============================] - 5s 26ms/step - loss: 0.0067 - binary_accuracy: 1.0000 - true_positives: 3168.0000 - false_positives: 0.0000e+00 - true_negatives: 3216.0000 - false_negatives: 0.0000e+00 - precision: 1.0000 - recall: 1.0000 - auc: 1.0000\n",
      "Epoch 3/5\n",
      "200/200 [==============================] - 5s 27ms/step - loss: 0.0017 - binary_accuracy: 1.0000 - true_positives: 3168.0000 - false_positives: 0.0000e+00 - true_negatives: 3216.0000 - false_negatives: 0.0000e+00 - precision: 1.0000 - recall: 1.0000 - auc: 1.0000\n",
      "Epoch 4/5\n",
      "200/200 [==============================] - 5s 26ms/step - loss: 7.6046e-04 - binary_accuracy: 1.0000 - true_positives: 3168.0000 - false_positives: 0.0000e+00 - true_negatives: 3216.0000 - false_negatives: 0.0000e+00 - precision: 1.0000 - recall: 1.0000 - auc: 1.0000\n",
      "Epoch 5/5\n",
      "200/200 [==============================] - 6s 28ms/step - loss: 4.2733e-04 - binary_accuracy: 1.0000 - true_positives: 3168.0000 - false_positives: 0.0000e+00 - true_negatives: 3216.0000 - false_negatives: 0.0000e+00 - precision: 1.0000 - recall: 1.0000 - auc: 1.0000\n",
      "\n",
      "Test accuracy: 1.0\n"
     ]
    }
   ],
   "source": [
    "cnn1.fit(X_train, y_train, epochs=5)\n",
    "\n",
    "metrics = cnn1.evaluate(X_test,  y_test, verbose=0)\n",
    "metrics = set_sensitivity_specificity(metrics)\n",
    "metrics = np.asarray(metrics).round(4)\n",
    "metric_list.append(metrics)\n",
    "print('\\nTest accuracy:', metrics[1])"
   ]
  },
  {
   "cell_type": "markdown",
   "id": "92f35271",
   "metadata": {},
   "source": [
    "---"
   ]
  },
  {
   "cell_type": "markdown",
   "id": "7a9e04b9",
   "metadata": {},
   "source": [
    "### CNN E - Kernel Size"
   ]
  },
  {
   "cell_type": "markdown",
   "id": "d37e8e45",
   "metadata": {},
   "source": [
    "#### Kernel Size = (3, 3), 2 Convolutional Layer, 1 Pooling Layer"
   ]
  },
  {
   "cell_type": "code",
   "execution_count": 37,
   "id": "1d900c78",
   "metadata": {},
   "outputs": [
    {
     "name": "stdout",
     "output_type": "stream",
     "text": [
      "Model: \"sequential_2\"\n",
      "_________________________________________________________________\n",
      " Layer (type)                Output Shape              Param #   \n",
      "=================================================================\n",
      " conv2d_3 (Conv2D)           (None, 7, 7, 64)          640       \n",
      "                                                                 \n",
      " max_pooling2d_3 (MaxPooling  (None, 3, 3, 64)         0         \n",
      " 2D)                                                             \n",
      "                                                                 \n",
      " conv2d_4 (Conv2D)           (None, 1, 1, 64)          36928     \n",
      "                                                                 \n",
      " flatten_2 (Flatten)         (None, 64)                0         \n",
      "                                                                 \n",
      " dense_4 (Dense)             (None, 64)                4160      \n",
      "                                                                 \n",
      " dense_5 (Dense)             (None, 1)                 65        \n",
      "                                                                 \n",
      "=================================================================\n",
      "Total params: 41,793\n",
      "Trainable params: 41,793\n",
      "Non-trainable params: 0\n",
      "_________________________________________________________________\n"
     ]
    }
   ],
   "source": [
    "cnn2 = tf.keras.models.Sequential([\n",
    "  tf.keras.layers.Conv2D(64, (3,3), activation='relu', input_shape=(9, 9, 1)),\n",
    "  tf.keras.layers.MaxPooling2D(2, 2),\n",
    "  tf.keras.layers.Conv2D(64, (3,3), activation='relu', input_shape=(9, 9, 1)),\n",
    "  tf.keras.layers.Flatten(),\n",
    "  tf.keras.layers.Dense(64, activation='relu'),\n",
    "  tf.keras.layers.Dense(1, activation='sigmoid')\n",
    "])\n",
    "cnn2_weights = cnn0.get_weights()\n",
    "\n",
    "cnn2.compile(optimizer='adam', loss='binary_crossentropy', metrics=metrics_at_compile)\n",
    "cnn2.summary()"
   ]
  },
  {
   "cell_type": "code",
   "execution_count": 38,
   "id": "055831f0",
   "metadata": {},
   "outputs": [
    {
     "name": "stdout",
     "output_type": "stream",
     "text": [
      "Epoch 1/5\n",
      "200/200 [==============================] - 17s 50ms/step - loss: 0.2510 - binary_accuracy: 0.9195 - true_positives: 4223.0000 - false_positives: 397.0000 - true_negatives: 4163.0000 - false_negatives: 337.0000 - precision: 0.9141 - recall: 0.9261 - auc: 0.9844\n",
      "Epoch 2/5\n",
      "200/200 [==============================] - 10s 50ms/step - loss: 0.0049 - binary_accuracy: 1.0000 - true_positives: 3168.0000 - false_positives: 0.0000e+00 - true_negatives: 3216.0000 - false_negatives: 0.0000e+00 - precision: 1.0000 - recall: 1.0000 - auc: 1.0000\n",
      "Epoch 3/5\n",
      "200/200 [==============================] - 10s 49ms/step - loss: 7.3234e-04 - binary_accuracy: 1.0000 - true_positives: 3168.0000 - false_positives: 0.0000e+00 - true_negatives: 3216.0000 - false_negatives: 0.0000e+00 - precision: 1.0000 - recall: 1.0000 - auc: 1.0000\n",
      "Epoch 4/5\n",
      "200/200 [==============================] - 10s 48ms/step - loss: 2.8730e-04 - binary_accuracy: 1.0000 - true_positives: 3168.0000 - false_positives: 0.0000e+00 - true_negatives: 3216.0000 - false_negatives: 0.0000e+00 - precision: 1.0000 - recall: 1.0000 - auc: 1.0000\n",
      "Epoch 5/5\n",
      "200/200 [==============================] - 9s 46ms/step - loss: 1.5226e-04 - binary_accuracy: 1.0000 - true_positives: 3168.0000 - false_positives: 0.0000e+00 - true_negatives: 3216.0000 - false_negatives: 0.0000e+00 - precision: 1.0000 - recall: 1.0000 - auc: 1.0000\n",
      "\n",
      "Test accuracy: 1.0\n"
     ]
    }
   ],
   "source": [
    "cnn2.fit(X_train, y_train, epochs=5)\n",
    "\n",
    "metrics = cnn2.evaluate(X_test,  y_test, verbose=0)\n",
    "metrics = set_sensitivity_specificity(metrics)\n",
    "metrics = np.asarray(metrics).round(4)\n",
    "metric_list.append(metrics)\n",
    "print('\\nTest accuracy:', metrics[1])"
   ]
  },
  {
   "cell_type": "markdown",
   "id": "1b189c8a",
   "metadata": {},
   "source": [
    "---"
   ]
  },
  {
   "cell_type": "markdown",
   "id": "03ef22aa",
   "metadata": {},
   "source": [
    "### CNN F - Stride Length"
   ]
  },
  {
   "cell_type": "markdown",
   "id": "182edb3e",
   "metadata": {},
   "source": [
    "#### Stride Length = (2, 2), 2 Convolutional Layer, 1 Pooling Layer"
   ]
  },
  {
   "cell_type": "code",
   "execution_count": 39,
   "id": "ee45aa44",
   "metadata": {},
   "outputs": [
    {
     "name": "stdout",
     "output_type": "stream",
     "text": [
      "Model: \"sequential_3\"\n",
      "_________________________________________________________________\n",
      " Layer (type)                Output Shape              Param #   \n",
      "=================================================================\n",
      " conv2d_5 (Conv2D)           (None, 4, 4, 64)          320       \n",
      "                                                                 \n",
      " max_pooling2d_4 (MaxPooling  (None, 2, 2, 64)         0         \n",
      " 2D)                                                             \n",
      "                                                                 \n",
      " conv2d_6 (Conv2D)           (None, 1, 1, 64)          16448     \n",
      "                                                                 \n",
      " flatten_3 (Flatten)         (None, 64)                0         \n",
      "                                                                 \n",
      " dense_6 (Dense)             (None, 64)                4160      \n",
      "                                                                 \n",
      " dense_7 (Dense)             (None, 1)                 65        \n",
      "                                                                 \n",
      "=================================================================\n",
      "Total params: 20,993\n",
      "Trainable params: 20,993\n",
      "Non-trainable params: 0\n",
      "_________________________________________________________________\n"
     ]
    }
   ],
   "source": [
    "cnn3 = tf.keras.models.Sequential([\n",
    "  tf.keras.layers.Conv2D(64, (2,2), strides=(2,2), activation='relu', input_shape=(9, 9, 1)),\n",
    "  tf.keras.layers.MaxPooling2D(2, 2),\n",
    "  tf.keras.layers.Conv2D(64, (2,2), strides=(2,2), activation='relu', input_shape=(9, 9, 1)),\n",
    "  tf.keras.layers.Flatten(),\n",
    "  tf.keras.layers.Dense(64, activation='relu'),\n",
    "  tf.keras.layers.Dense(1, activation='sigmoid')\n",
    "])\n",
    "cnn3_weights = cnn0.get_weights()\n",
    "\n",
    "cnn3.compile(optimizer='adam', loss='binary_crossentropy', metrics=metrics_at_compile)\n",
    "cnn3.summary()"
   ]
  },
  {
   "cell_type": "code",
   "execution_count": 40,
   "id": "f6d3dcb1",
   "metadata": {},
   "outputs": [
    {
     "name": "stdout",
     "output_type": "stream",
     "text": [
      "Epoch 1/5\n",
      "200/200 [==============================] - 13s 27ms/step - loss: 0.3582 - binary_accuracy: 0.8826 - true_positives: 4137.0000 - false_positives: 648.0000 - true_negatives: 3912.0000 - false_negatives: 423.0000 - precision: 0.8646 - recall: 0.9072 - auc: 0.9649\n",
      "Epoch 2/5\n",
      "200/200 [==============================] - 5s 27ms/step - loss: 0.0526 - binary_accuracy: 0.9881 - true_positives: 3131.0000 - false_positives: 39.0000 - true_negatives: 3177.0000 - false_negatives: 37.0000 - precision: 0.9877 - recall: 0.9883 - auc: 0.9993\n",
      "Epoch 3/5\n",
      "200/200 [==============================] - 5s 27ms/step - loss: 0.0046 - binary_accuracy: 1.0000 - true_positives: 3168.0000 - false_positives: 0.0000e+00 - true_negatives: 3216.0000 - false_negatives: 0.0000e+00 - precision: 1.0000 - recall: 1.0000 - auc: 1.0000\n",
      "Epoch 4/5\n",
      "200/200 [==============================] - 6s 29ms/step - loss: 0.0012 - binary_accuracy: 1.0000 - true_positives: 3168.0000 - false_positives: 0.0000e+00 - true_negatives: 3216.0000 - false_negatives: 0.0000e+00 - precision: 1.0000 - recall: 1.0000 - auc: 1.0000\n",
      "Epoch 5/5\n",
      "200/200 [==============================] - 6s 29ms/step - loss: 5.9214e-04 - binary_accuracy: 1.0000 - true_positives: 3168.0000 - false_positives: 0.0000e+00 - true_negatives: 3216.0000 - false_negatives: 0.0000e+00 - precision: 1.0000 - recall: 1.0000 - auc: 1.0000\n",
      "\n",
      "Test accuracy: 1.0\n"
     ]
    }
   ],
   "source": [
    "cnn3.fit(X_train, y_train, epochs=5)\n",
    "\n",
    "metrics = cnn3.evaluate(X_test,  y_test, verbose=0)\n",
    "metrics = set_sensitivity_specificity(metrics)\n",
    "metrics = np.asarray(metrics).round(4)\n",
    "metric_list.append(metrics)\n",
    "print('\\nTest accuracy:', metrics[1])"
   ]
  },
  {
   "cell_type": "markdown",
   "id": "2b53f6fd",
   "metadata": {},
   "source": [
    "---"
   ]
  },
  {
   "cell_type": "markdown",
   "id": "7ab8e6bc",
   "metadata": {},
   "source": [
    "### CNN G - No. of Receptive Filters"
   ]
  },
  {
   "cell_type": "markdown",
   "id": "c5d2c0eb",
   "metadata": {},
   "source": [
    "#### 8 Receptive Filters"
   ]
  },
  {
   "cell_type": "code",
   "execution_count": 41,
   "id": "9adbd9a3",
   "metadata": {
    "scrolled": true
   },
   "outputs": [
    {
     "name": "stdout",
     "output_type": "stream",
     "text": [
      "Model: \"sequential_4\"\n",
      "_________________________________________________________________\n",
      " Layer (type)                Output Shape              Param #   \n",
      "=================================================================\n",
      " conv2d_7 (Conv2D)           (None, 8, 8, 8)           40        \n",
      "                                                                 \n",
      " max_pooling2d_5 (MaxPooling  (None, 4, 4, 8)          0         \n",
      " 2D)                                                             \n",
      "                                                                 \n",
      " conv2d_8 (Conv2D)           (None, 3, 3, 8)           264       \n",
      "                                                                 \n",
      " max_pooling2d_6 (MaxPooling  (None, 1, 1, 8)          0         \n",
      " 2D)                                                             \n",
      "                                                                 \n",
      " flatten_4 (Flatten)         (None, 8)                 0         \n",
      "                                                                 \n",
      " dense_8 (Dense)             (None, 8)                 72        \n",
      "                                                                 \n",
      " dense_9 (Dense)             (None, 1)                 9         \n",
      "                                                                 \n",
      "=================================================================\n",
      "Total params: 385\n",
      "Trainable params: 385\n",
      "Non-trainable params: 0\n",
      "_________________________________________________________________\n"
     ]
    }
   ],
   "source": [
    "cnn4 = tf.keras.models.Sequential([\n",
    "  tf.keras.layers.Conv2D(8, (2,2), activation='relu', input_shape=(9, 9, 1)),\n",
    "  tf.keras.layers.MaxPooling2D(2, 2),\n",
    "  tf.keras.layers.Conv2D(8, (2,2), activation='relu', input_shape=(9, 9, 1)),\n",
    "  tf.keras.layers.MaxPooling2D(2, 2),\n",
    "  tf.keras.layers.Flatten(),\n",
    "  tf.keras.layers.Dense(8, activation='relu'),\n",
    "  tf.keras.layers.Dense(1, activation='sigmoid')\n",
    "])\n",
    "cnn4_weights = cnn0.get_weights()\n",
    "\n",
    "cnn4.compile(optimizer='adam', loss='binary_crossentropy', metrics=metrics_at_compile)\n",
    "cnn4.summary()"
   ]
  },
  {
   "cell_type": "code",
   "execution_count": 42,
   "id": "a2f9b674",
   "metadata": {},
   "outputs": [
    {
     "name": "stdout",
     "output_type": "stream",
     "text": [
      "Epoch 1/5\n",
      "200/200 [==============================] - 31s 120ms/step - loss: 0.6292 - binary_accuracy: 0.7998 - true_positives: 3973.0000 - false_positives: 1239.0000 - true_negatives: 3321.0000 - false_negatives: 587.0000 - precision: 0.7623 - recall: 0.8713 - auc: 0.9082\n",
      "Epoch 2/5\n",
      "200/200 [==============================] - 21s 104ms/step - loss: 0.3564 - binary_accuracy: 0.8659 - true_positives: 2603.0000 - false_positives: 291.0000 - true_negatives: 2925.0000 - false_negatives: 565.0000 - precision: 0.8994 - recall: 0.8217 - auc: 0.9515\n",
      "Epoch 3/5\n",
      "200/200 [==============================] - 21s 107ms/step - loss: 0.2179 - binary_accuracy: 0.8988 - true_positives: 2716.0000 - false_positives: 194.0000 - true_negatives: 3022.0000 - false_negatives: 452.0000 - precision: 0.9333 - recall: 0.8573 - auc: 0.9727\n",
      "Epoch 4/5\n",
      "200/200 [==============================] - 17s 85ms/step - loss: 0.1758 - binary_accuracy: 0.9065 - true_positives: 2673.0000 - false_positives: 102.0000 - true_negatives: 3114.0000 - false_negatives: 495.0000 - precision: 0.9632 - recall: 0.8438 - auc: 0.9777\n",
      "Epoch 5/5\n",
      "200/200 [==============================] - 17s 86ms/step - loss: 0.1524 - binary_accuracy: 0.9099 - true_positives: 2681.0000 - false_positives: 88.0000 - true_negatives: 3128.0000 - false_negatives: 487.0000 - precision: 0.9682 - recall: 0.8463 - auc: 0.9822\n",
      "\n",
      "Test accuracy: 0.9174\n"
     ]
    }
   ],
   "source": [
    "cnn4.fit(X_train, y_train, epochs=5)\n",
    "\n",
    "metrics = cnn4.evaluate(X_test,  y_test, verbose=0)\n",
    "metrics = set_sensitivity_specificity(metrics)\n",
    "metrics = np.asarray(metrics).round(4)\n",
    "metric_list.append(metrics)\n",
    "print('\\nTest accuracy:', metrics[1])"
   ]
  },
  {
   "cell_type": "markdown",
   "id": "0e1325b8",
   "metadata": {},
   "source": [
    "## Summary"
   ]
  },
  {
   "cell_type": "code",
   "execution_count": 43,
   "id": "3ede6fc1",
   "metadata": {},
   "outputs": [
    {
     "data": {
      "image/png": "[encoded data removed]",
      "text/plain": [
       "<Figure size 1100x200 with 1 Axes>"
      ]
     },
     "metadata": {},
     "output_type": "display_data"
    },
    {
     "name": "stdout",
     "output_type": "stream",
     "text": [
      "\n",
      "CNN A:- Tutorial CNN\n",
      "CNN B:- Batch Size = 64, Validation Split = 0.5\n",
      "CNN C:- Learning Rate = 0.1, Momentum = 0.9\n",
      "CNN D:- 1 Convolutional Layer, 1 Pooling Layer\n",
      "CNN E:- Kernel Size = (3, 3), 2 Convolutional Layers, 1 Pooling Layer\n",
      "CNN F:- Stride Length = (2, 2), 2 Convolutional Layers, 1 Pooling Layer\n",
      "CNN G:- 8 Receptive Filters\n",
      "\n"
     ]
    }
   ],
   "source": [
    "metric_list = np.asarray(metric_list)\n",
    "\n",
    "fig, ax = plt.subplots(figsize=(11, 2))\n",
    "\n",
    "# hide axes\n",
    "fig.patch.set_visible(False)\n",
    "ax.axis('off')\n",
    "ax.axis('tight')\n",
    "\n",
    "row_labels = [\"CNN A\", \"CNN B\", \"CNN C\", \"CNN D\", \"CNN E\", \"CNN F\", \"CNN G\"]\n",
    "col_colors = [\"#E0E0E0\"] * len(metric_labels)\n",
    "row_colors = [\"#E0E0E0\"] * len(row_labels)\n",
    "\n",
    "table = ax.table(metric_list, \n",
    "                 colLabels=metric_labels, \n",
    "                 rowLabels=row_labels, \n",
    "                 colColours=col_colors, \n",
    "                 rowColours=row_colors, \n",
    "                 loc=\"center\")\n",
    "\n",
    "highlight_color = \"#6DD670\"\n",
    "highlight_best_vals(metric_list, table, highlight_color)\n",
    "\n",
    "table.auto_set_font_size(False)\n",
    "\n",
    "fig.tight_layout()\n",
    "\n",
    "plt.show()\n",
    "\n",
    "\n",
    "print(\"\"\"\n",
    "CNN A:- Tutorial CNN\n",
    "CNN B:- Batch Size = 64, Validation Split = 0.5\n",
    "CNN C:- Learning Rate = 0.1, Momentum = 0.9\n",
    "CNN D:- 1 Convolutional Layer, 1 Pooling Layer\n",
    "CNN E:- Kernel Size = (3, 3), 2 Convolutional Layers, 1 Pooling Layer\n",
    "CNN F:- Stride Length = (2, 2), 2 Convolutional Layers, 1 Pooling Layer\n",
    "CNN G:- 8 Receptive Filters\n",
    "\"\"\")"
   ]
  },
  {
   "cell_type": "code",
   "execution_count": 44,
   "id": "d2d95b96",
   "metadata": {},
   "outputs": [],
   "source": [
    "# CNN E is the best performing architecture (of those tested) as it has the best values for all metrics. "
   ]
  },
  {
   "cell_type": "code",
   "execution_count": null,
   "id": "b27c3070",
   "metadata": {},
   "outputs": [],
   "source": []
  }
 ],
 "metadata": {
  "kernelspec": {
   "display_name": "Python 3 (ipykernel)",
   "language": "python",
   "name": "python3"
  },
  "language_info": {
   "codemirror_mode": {
    "name": "ipython",
    "version": 3
   },
   "file_extension": ".py",
   "mimetype": "text/x-python",
   "name": "python",
   "nbconvert_exporter": "python",
   "pygments_lexer": "ipython3",
   "version": "3.10.4"
  }
 },
 "nbformat": 4,
 "nbformat_minor": 5
}
