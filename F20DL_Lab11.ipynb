{
 "cells": [
  {
   "cell_type": "markdown",
   "id": "852f21cc",
   "metadata": {},
   "source": [
    "# F20DL Lab 11"
   ]
  },
  {
   "cell_type": "markdown",
   "id": "f7a99bb9",
   "metadata": {},
   "source": [
    "## Setup"
   ]
  },
  {
   "cell_type": "code",
   "execution_count": 1,
   "id": "44a13a5f",
   "metadata": {},
   "outputs": [],
   "source": [
    "# Python ≥3.5 is required\n",
    "import sys\n",
    "assert sys.version_info >= (3, 5)\n",
    "\n",
    "# Scikit-Learn ≥0.20 is required\n",
    "import sklearn\n",
    "assert sklearn.__version__ >= \"0.20\"\n",
    "\n",
    "# Common imports\n",
    "import numpy as np\n",
    "import pandas as pd\n",
    "import tensorflow as tf\n",
    "\n",
    "# to make this notebook's output stable across runs\n",
    "np.random.seed(42)\n",
    "\n",
    "# To plot pretty figures\n",
    "%matplotlib inline\n",
    "import matplotlib as mpl\n",
    "import matplotlib.pyplot as plt\n",
    "mpl.rc('axes', labelsize=10)\n",
    "mpl.rc('xtick', labelsize=10)\n",
    "mpl.rc('ytick', labelsize=10)"
   ]
  },
  {
   "cell_type": "code",
   "execution_count": 2,
   "id": "95950573",
   "metadata": {},
   "outputs": [],
   "source": [
    "# Load the dataset into numpy arrays\n",
    "X = np.load(\"./datasets/smiley_X_new.npy\")\n",
    "y = np.load(\"./datasets/smiley_Y_new.npy\")"
   ]
  },
  {
   "cell_type": "code",
   "execution_count": 3,
   "id": "3d8f45f0",
   "metadata": {},
   "outputs": [],
   "source": [
    "# X is a list of all images. Images are represented as columns of pixel values.\n",
    "# To get pixel (r, c) of image i, use X[i][r-1][c-1][0]\n",
    "\n",
    "# X[0] returns columns of pixel values representing the 1st image.\n",
    "# X[0][2][6][0] returns the value of the pixel in the 3rd row and 7th column of the 1st image (r=3, c=7).\n",
    "# y[0] returns the label for the 1st image. (0 = happy, 1 = sad)"
   ]
  },
  {
   "cell_type": "code",
   "execution_count": 4,
   "id": "2e3a90b9",
   "metadata": {},
   "outputs": [],
   "source": [
    "# Shows smiley as an image. 'smiley' should be an element in 'X'\n",
    "def show_smiley(smiley):\n",
    "    plt.figure(figsize=(1,1))\n",
    "    plt.xticks([])\n",
    "    plt.yticks([])\n",
    "    plt.imshow(smiley, cmap=\"Greys\")"
   ]
  },
  {
   "cell_type": "code",
   "execution_count": 5,
   "id": "53b156af",
   "metadata": {},
   "outputs": [],
   "source": [
    "class_names = [\"happy\", \"sad\"]"
   ]
  },
  {
   "cell_type": "markdown",
   "id": "f9ff71d7",
   "metadata": {},
   "source": [
    "## Convolutional Neural Networks"
   ]
  },
  {
   "cell_type": "markdown",
   "id": "4fb59e1b",
   "metadata": {},
   "source": [
    "### CNN 0"
   ]
  },
  {
   "cell_type": "code",
   "execution_count": 6,
   "id": "9de5175e",
   "metadata": {},
   "outputs": [
    {
     "name": "stdout",
     "output_type": "stream",
     "text": [
      "Training samples: 6384, Testing samples: 2736\n"
     ]
    }
   ],
   "source": [
    "from sklearn.model_selection import train_test_split\n",
    "X_train, X_test, y_train, y_test = train_test_split(X, y, test_size=0.3, random_state=1) # 70% training and 30% test\n",
    "print(\"Training samples: %i, Testing samples: %i\" % (X_train.shape[0], X_test.shape[0]))"
   ]
  },
  {
   "cell_type": "code",
   "execution_count": 7,
   "id": "c26e429d",
   "metadata": {},
   "outputs": [
    {
     "name": "stdout",
     "output_type": "stream",
     "text": [
      "Model: \"sequential\"\n",
      "_________________________________________________________________\n",
      " Layer (type)                Output Shape              Param #   \n",
      "=================================================================\n",
      " conv2d (Conv2D)             (None, 8, 8, 64)          320       \n",
      "                                                                 \n",
      " max_pooling2d (MaxPooling2D  (None, 4, 4, 64)         0         \n",
      " )                                                               \n",
      "                                                                 \n",
      " conv2d_1 (Conv2D)           (None, 3, 3, 64)          16448     \n",
      "                                                                 \n",
      " max_pooling2d_1 (MaxPooling  (None, 1, 1, 64)         0         \n",
      " 2D)                                                             \n",
      "                                                                 \n",
      " flatten (Flatten)           (None, 64)                0         \n",
      "                                                                 \n",
      " dense (Dense)               (None, 128)               8320      \n",
      "                                                                 \n",
      " dense_1 (Dense)             (None, 2)                 258       \n",
      "                                                                 \n",
      "=================================================================\n",
      "Total params: 25,346\n",
      "Trainable params: 25,346\n",
      "Non-trainable params: 0\n",
      "_________________________________________________________________\n"
     ]
    }
   ],
   "source": [
    "cnn0 = tf.keras.models.Sequential([\n",
    "  tf.keras.layers.Conv2D(64, (2,2), activation='relu', input_shape=(9, 9, 1)),\n",
    "  tf.keras.layers.MaxPooling2D(2, 2),\n",
    "  tf.keras.layers.Conv2D(64, (2,2), activation='relu'),\n",
    "  tf.keras.layers.MaxPooling2D(2,2),\n",
    "  tf.keras.layers.Flatten(),\n",
    "  tf.keras.layers.Dense(128, activation='relu'),\n",
    "  tf.keras.layers.Dense(2, activation='softmax')\n",
    "])\n",
    "cnn0_weights = cnn0.get_weights()\n",
    "\n",
    "cnn0.compile(optimizer='adam', loss='sparse_categorical_crossentropy', metrics=['accuracy'])\n",
    "cnn0.summary()"
   ]
  },
  {
   "cell_type": "code",
   "execution_count": 8,
   "id": "ef369056",
   "metadata": {},
   "outputs": [
    {
     "name": "stdout",
     "output_type": "stream",
     "text": [
      "Epoch 1/5\n",
      "200/200 [==============================] - 9s 33ms/step - loss: 0.2791 - accuracy: 0.8737\n",
      "Epoch 2/5\n",
      "200/200 [==============================] - 6s 30ms/step - loss: 0.1039 - accuracy: 0.9319\n",
      "Epoch 3/5\n",
      "200/200 [==============================] - 5s 26ms/step - loss: 0.0967 - accuracy: 0.9341\n",
      "Epoch 4/5\n",
      "200/200 [==============================] - 6s 31ms/step - loss: 0.0956 - accuracy: 0.9323\n",
      "Epoch 5/5\n",
      "200/200 [==============================] - 6s 30ms/step - loss: 0.0943 - accuracy: 0.9342\n"
     ]
    },
    {
     "data": {
      "text/plain": [
       "<keras.callbacks.History at 0x23f4d9ef7f0>"
      ]
     },
     "execution_count": 8,
     "metadata": {},
     "output_type": "execute_result"
    }
   ],
   "source": [
    "cnn0.fit(X_train, y_train, epochs=5)"
   ]
  },
  {
   "cell_type": "code",
   "execution_count": 9,
   "id": "b04a8bcf",
   "metadata": {},
   "outputs": [
    {
     "name": "stdout",
     "output_type": "stream",
     "text": [
      "\n",
      "Test accuracy: 0.932748556137085\n"
     ]
    }
   ],
   "source": [
    "test_loss, test_acc = cnn0.evaluate(X_test,  y_test, verbose=0)\n",
    "print('\\nTest accuracy:', test_acc)"
   ]
  },
  {
   "cell_type": "code",
   "execution_count": 10,
   "id": "7c719fc3",
   "metadata": {},
   "outputs": [
    {
     "name": "stdout",
     "output_type": "stream",
     "text": [
      "86/86 [==============================] - 1s 5ms/step\n"
     ]
    }
   ],
   "source": [
    "y_pred0 = cnn0.predict(X_test)"
   ]
  },
  {
   "cell_type": "code",
   "execution_count": 11,
   "id": "37179539",
   "metadata": {
    "scrolled": true
   },
   "outputs": [
    {
     "name": "stdout",
     "output_type": "stream",
     "text": [
      "Prediction:  happy\n"
     ]
    },
    {
     "data": {
      "image/png": "[encoded data removed]",
      "text/plain": [
       "<Figure size 100x100 with 1 Axes>"
      ]
     },
     "metadata": {},
     "output_type": "display_data"
    }
   ],
   "source": [
    "# Prediction for first testing image\n",
    "print(\"Prediction: \", class_names[np.argmax(y_pred0[0])])\n",
    "show_smiley(X_test[0])"
   ]
  },
  {
   "cell_type": "code",
   "execution_count": 12,
   "id": "b60e5144",
   "metadata": {},
   "outputs": [],
   "source": [
    "# Reference: https://stackoverflow.com/a/43957826\n",
    "def reset_weights(model, weights):\n",
    "    model.set_weights(weights)"
   ]
  },
  {
   "cell_type": "markdown",
   "id": "8be4a086",
   "metadata": {},
   "source": [
    "## Experimenting with Different Architectures"
   ]
  },
  {
   "cell_type": "code",
   "execution_count": 13,
   "id": "fb1e2dce",
   "metadata": {},
   "outputs": [
    {
     "name": "stdout",
     "output_type": "stream",
     "text": [
      "Epoch 1/5\n",
      "45/45 [==============================] - 2s 45ms/step - loss: 0.0928 - accuracy: 0.9364 - val_loss: 0.0891 - val_accuracy: 0.9353\n",
      "Epoch 2/5\n",
      "45/45 [==============================] - 1s 31ms/step - loss: 0.0926 - accuracy: 0.9355 - val_loss: 0.0899 - val_accuracy: 0.9306\n",
      "Epoch 3/5\n",
      "45/45 [==============================] - 3s 76ms/step - loss: 0.0931 - accuracy: 0.9362 - val_loss: 0.0900 - val_accuracy: 0.9311\n",
      "Epoch 4/5\n",
      "45/45 [==============================] - 4s 89ms/step - loss: 0.0923 - accuracy: 0.9373 - val_loss: 0.0901 - val_accuracy: 0.9395\n",
      "Epoch 5/5\n",
      "45/45 [==============================] - 3s 55ms/step - loss: 0.0931 - accuracy: 0.9344 - val_loss: 0.0904 - val_accuracy: 0.9290\n"
     ]
    },
    {
     "data": {
      "text/plain": [
       "<keras.callbacks.History at 0x23f514de9b0>"
      ]
     },
     "execution_count": 13,
     "metadata": {},
     "output_type": "execute_result"
    }
   ],
   "source": [
    "cnn0.fit(x=X_train, y=y_train, batch_size=100, epochs=5, validation_split=0.3)"
   ]
  },
  {
   "cell_type": "code",
   "execution_count": 14,
   "id": "c18de0a8",
   "metadata": {},
   "outputs": [
    {
     "name": "stdout",
     "output_type": "stream",
     "text": [
      "Epoch 1/5\n",
      "70/70 [==============================] - 3s 36ms/step - loss: 0.0925 - accuracy: 0.9373 - val_loss: 0.0900 - val_accuracy: 0.9342\n",
      "Epoch 2/5\n",
      "70/70 [==============================] - 3s 36ms/step - loss: 0.0916 - accuracy: 0.9389 - val_loss: 0.0931 - val_accuracy: 0.9295\n",
      "Epoch 3/5\n",
      "70/70 [==============================] - 2s 28ms/step - loss: 0.0933 - accuracy: 0.9362 - val_loss: 0.0899 - val_accuracy: 0.9342\n",
      "Epoch 4/5\n",
      "70/70 [==============================] - 3s 37ms/step - loss: 0.0934 - accuracy: 0.9378 - val_loss: 0.0934 - val_accuracy: 0.9327\n",
      "Epoch 5/5\n",
      "70/70 [==============================] - 2s 34ms/step - loss: 0.0927 - accuracy: 0.9367 - val_loss: 0.0903 - val_accuracy: 0.9327\n"
     ]
    },
    {
     "data": {
      "text/plain": [
       "<keras.callbacks.History at 0x23f513b0df0>"
      ]
     },
     "execution_count": 14,
     "metadata": {},
     "output_type": "execute_result"
    }
   ],
   "source": [
    "cnn0.fit(x=X_train, y=y_train, batch_size=64, epochs=5, validation_split=0.3)"
   ]
  },
  {
   "cell_type": "code",
   "execution_count": 15,
   "id": "51151a73",
   "metadata": {},
   "outputs": [
    {
     "name": "stdout",
     "output_type": "stream",
     "text": [
      "Epoch 1/5\n",
      "32/32 [==============================] - 2s 65ms/step - loss: 0.0889 - accuracy: 0.9361 - val_loss: 0.0936 - val_accuracy: 0.9301\n",
      "Epoch 2/5\n",
      "32/32 [==============================] - 3s 94ms/step - loss: 0.0890 - accuracy: 0.9395 - val_loss: 0.0941 - val_accuracy: 0.9283\n",
      "Epoch 3/5\n",
      "32/32 [==============================] - 2s 63ms/step - loss: 0.0889 - accuracy: 0.9398 - val_loss: 0.0946 - val_accuracy: 0.9320\n",
      "Epoch 4/5\n",
      "32/32 [==============================] - 1s 41ms/step - loss: 0.0890 - accuracy: 0.9395 - val_loss: 0.0943 - val_accuracy: 0.9320\n",
      "Epoch 5/5\n",
      "32/32 [==============================] - 2s 64ms/step - loss: 0.0892 - accuracy: 0.9405 - val_loss: 0.0945 - val_accuracy: 0.9289\n"
     ]
    },
    {
     "data": {
      "text/plain": [
       "<keras.callbacks.History at 0x23f5150af50>"
      ]
     },
     "execution_count": 15,
     "metadata": {},
     "output_type": "execute_result"
    }
   ],
   "source": [
    "cnn0.fit(x=X_train, y=y_train, batch_size=100, epochs=5, validation_split=0.5)"
   ]
  },
  {
   "cell_type": "code",
   "execution_count": 16,
   "id": "236c7992",
   "metadata": {},
   "outputs": [
    {
     "name": "stdout",
     "output_type": "stream",
     "text": [
      "Epoch 1/5\n",
      "52/52 [==============================] - 3s 60ms/step - loss: 0.0909 - accuracy: 0.9375 - val_loss: 0.0937 - val_accuracy: 0.9319\n",
      "Epoch 2/5\n",
      "52/52 [==============================] - 2s 31ms/step - loss: 0.0915 - accuracy: 0.9369 - val_loss: 0.0947 - val_accuracy: 0.9256\n",
      "Epoch 3/5\n",
      "52/52 [==============================] - 2s 43ms/step - loss: 0.0922 - accuracy: 0.9379 - val_loss: 0.0941 - val_accuracy: 0.9295\n",
      "Epoch 4/5\n",
      "52/52 [==============================] - 3s 52ms/step - loss: 0.0908 - accuracy: 0.9369 - val_loss: 0.0927 - val_accuracy: 0.9342\n",
      "Epoch 5/5\n",
      "52/52 [==============================] - 3s 62ms/step - loss: 0.0912 - accuracy: 0.9366 - val_loss: 0.0932 - val_accuracy: 0.9280\n"
     ]
    },
    {
     "data": {
      "text/plain": [
       "<keras.callbacks.History at 0x23f53404d90>"
      ]
     },
     "execution_count": 16,
     "metadata": {},
     "output_type": "execute_result"
    }
   ],
   "source": [
    "cnn0.fit(x=X_train, y=y_train, batch_size=100, epochs=5, validation_split=0.2)"
   ]
  },
  {
   "cell_type": "markdown",
   "id": "bad5344a",
   "metadata": {},
   "source": [
    "### Optimiser = SGD (Defaults: Learning Rate = 0.001, Momentum = 0)"
   ]
  },
  {
   "cell_type": "code",
   "execution_count": 17,
   "id": "7da1473b",
   "metadata": {
    "scrolled": false
   },
   "outputs": [
    {
     "name": "stdout",
     "output_type": "stream",
     "text": [
      "Epoch 1/5\n",
      "200/200 [==============================] - 9s 36ms/step - loss: 0.6884 - accuracy: 0.5866\n",
      "Epoch 2/5\n",
      "200/200 [==============================] - 6s 31ms/step - loss: 0.6730 - accuracy: 0.7669\n",
      "Epoch 3/5\n",
      "200/200 [==============================] - 6s 29ms/step - loss: 0.6508 - accuracy: 0.8371\n",
      "Epoch 4/5\n",
      "200/200 [==============================] - 5s 27ms/step - loss: 0.6143 - accuracy: 0.8852\n",
      "Epoch 5/5\n",
      "200/200 [==============================] - 6s 28ms/step - loss: 0.5491 - accuracy: 0.9001\n",
      "\n",
      "Test accuracy: 0.8983917832374573\n"
     ]
    }
   ],
   "source": [
    "reset_weights(cnn0, cnn0_weights)\n",
    "\n",
    "cnn0.compile(optimizer=tf.keras.optimizers.SGD(), \n",
    "             loss=\"sparse_categorical_crossentropy\", \n",
    "             metrics=[\"accuracy\"])\n",
    "cnn0.fit(X_train, y_train, epochs=5)\n",
    "\n",
    "test_loss, test_acc = cnn0.evaluate(X_test,  y_test, verbose=0)\n",
    "print('\\nTest accuracy:', test_acc)"
   ]
  },
  {
   "cell_type": "markdown",
   "id": "0313f153",
   "metadata": {},
   "source": [
    "### Optimiser = SGD, Learning Rate = 0.01, Momentum = 0.9"
   ]
  },
  {
   "cell_type": "code",
   "execution_count": 18,
   "id": "c6fa7c38",
   "metadata": {},
   "outputs": [
    {
     "name": "stdout",
     "output_type": "stream",
     "text": [
      "Epoch 1/5\n",
      "200/200 [==============================] - 7s 27ms/step - loss: 0.5394 - accuracy: 0.7688\n",
      "Epoch 2/5\n",
      "200/200 [==============================] - 6s 28ms/step - loss: 0.1383 - accuracy: 0.9300\n",
      "Epoch 3/5\n",
      "200/200 [==============================] - 6s 29ms/step - loss: 0.1057 - accuracy: 0.9323\n",
      "Epoch 4/5\n",
      "200/200 [==============================] - 6s 30ms/step - loss: 0.0974 - accuracy: 0.9339\n",
      "Epoch 5/5\n",
      "200/200 [==============================] - 5s 25ms/step - loss: 0.0976 - accuracy: 0.9330\n",
      "\n",
      "Test accuracy: 0.9290935397148132\n"
     ]
    }
   ],
   "source": [
    "reset_weights(cnn0, cnn0_weights)\n",
    "\n",
    "cnn0.compile(optimizer=tf.keras.optimizers.SGD(learning_rate=0.01, momentum=0.9), \n",
    "             loss=\"sparse_categorical_crossentropy\", \n",
    "             metrics=[\"accuracy\"])\n",
    "cnn0.fit(X_train, y_train, epochs=5)\n",
    "\n",
    "test_loss, test_acc = cnn0.evaluate(X_test,  y_test, verbose=0)\n",
    "print('\\nTest accuracy:', test_acc)"
   ]
  },
  {
   "cell_type": "markdown",
   "id": "98a4f67f",
   "metadata": {},
   "source": [
    "### Optimiser = SGD, Learning Rate = 0.1, Momentum = 0.9"
   ]
  },
  {
   "cell_type": "code",
   "execution_count": 19,
   "id": "70cfcdfe",
   "metadata": {},
   "outputs": [
    {
     "name": "stdout",
     "output_type": "stream",
     "text": [
      "Epoch 1/5\n",
      "200/200 [==============================] - 9s 39ms/step - loss: 0.2273 - accuracy: 0.8553\n",
      "Epoch 2/5\n",
      "200/200 [==============================] - 2s 12ms/step - loss: 0.0933 - accuracy: 0.9339\n",
      "Epoch 3/5\n",
      "200/200 [==============================] - 2s 9ms/step - loss: 0.0941 - accuracy: 0.9330\n",
      "Epoch 4/5\n",
      "200/200 [==============================] - 3s 16ms/step - loss: 0.0929 - accuracy: 0.9323\n",
      "Epoch 5/5\n",
      "200/200 [==============================] - 6s 29ms/step - loss: 0.0927 - accuracy: 0.9355\n",
      "\n",
      "Test accuracy: 0.932748556137085\n"
     ]
    }
   ],
   "source": [
    "reset_weights(cnn0, cnn0_weights)\n",
    "\n",
    "cnn0.compile(optimizer=tf.keras.optimizers.SGD(learning_rate=0.1, momentum=0.9), \n",
    "             loss=\"sparse_categorical_crossentropy\", \n",
    "             metrics=[\"accuracy\"])\n",
    "cnn0.fit(X_train, y_train, epochs=5)\n",
    "\n",
    "test_loss, test_acc = cnn0.evaluate(X_test,  y_test, verbose=0)\n",
    "print('\\nTest accuracy:', test_acc)"
   ]
  },
  {
   "cell_type": "markdown",
   "id": "c21a1d89",
   "metadata": {},
   "source": [
    "### Optimiser = SGD, Learning Rate = 0.1, Momentum = 0.5"
   ]
  },
  {
   "cell_type": "code",
   "execution_count": 20,
   "id": "407f5196",
   "metadata": {
    "scrolled": true
   },
   "outputs": [
    {
     "name": "stdout",
     "output_type": "stream",
     "text": [
      "Epoch 1/5\n",
      "200/200 [==============================] - 5s 17ms/step - loss: 0.3403 - accuracy: 0.8285\n",
      "Epoch 2/5\n",
      "200/200 [==============================] - 6s 28ms/step - loss: 0.1024 - accuracy: 0.9311\n",
      "Epoch 3/5\n",
      "200/200 [==============================] - 6s 29ms/step - loss: 0.0960 - accuracy: 0.9319\n",
      "Epoch 4/5\n",
      "200/200 [==============================] - 6s 29ms/step - loss: 0.0940 - accuracy: 0.9361\n",
      "Epoch 5/5\n",
      "200/200 [==============================] - 6s 29ms/step - loss: 0.0935 - accuracy: 0.9322\n",
      "\n",
      "Test accuracy: 0.932748556137085\n"
     ]
    }
   ],
   "source": [
    "reset_weights(cnn0, cnn0_weights)\n",
    "\n",
    "cnn0.compile(optimizer=tf.keras.optimizers.SGD(learning_rate=0.1, momentum=0.5), \n",
    "             loss=\"sparse_categorical_crossentropy\", \n",
    "             metrics=[\"accuracy\"])\n",
    "cnn0.fit(X_train, y_train, epochs=5)\n",
    "\n",
    "test_loss, test_acc = cnn0.evaluate(X_test,  y_test, verbose=0)\n",
    "print('\\nTest accuracy:', test_acc)"
   ]
  },
  {
   "cell_type": "code",
   "execution_count": null,
   "id": "d4d68906",
   "metadata": {},
   "outputs": [],
   "source": []
  }
 ],
 "metadata": {
  "kernelspec": {
   "display_name": "Python 3 (ipykernel)",
   "language": "python",
   "name": "python3"
  },
  "language_info": {
   "codemirror_mode": {
    "name": "ipython",
    "version": 3
   },
   "file_extension": ".py",
   "mimetype": "text/x-python",
   "name": "python",
   "nbconvert_exporter": "python",
   "pygments_lexer": "ipython3",
   "version": "3.10.4"
  }
 },
 "nbformat": 4,
 "nbformat_minor": 5
}
