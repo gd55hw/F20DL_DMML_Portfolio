{
 "cells": [
  {
   "cell_type": "markdown",
   "id": "852f21cc",
   "metadata": {},
   "source": [
    "# F20DL Lab 11"
   ]
  },
  {
   "cell_type": "markdown",
   "id": "f7a99bb9",
   "metadata": {},
   "source": [
    "## Setup"
   ]
  },
  {
   "cell_type": "code",
   "execution_count": 1,
   "id": "44a13a5f",
   "metadata": {},
   "outputs": [],
   "source": [
    "# Python ≥3.5 is required\n",
    "import sys\n",
    "assert sys.version_info >= (3, 5)\n",
    "\n",
    "# Scikit-Learn ≥0.20 is required\n",
    "import sklearn\n",
    "assert sklearn.__version__ >= \"0.20\"\n",
    "\n",
    "# Common imports\n",
    "import numpy as np\n",
    "import pandas as pd\n",
    "import tensorflow as tf\n",
    "\n",
    "# to make this notebook's output stable across runs\n",
    "np.random.seed(42)\n",
    "\n",
    "# To plot pretty figures\n",
    "%matplotlib inline\n",
    "import matplotlib as mpl\n",
    "import matplotlib.pyplot as plt\n",
    "mpl.rc('axes', labelsize=10)\n",
    "mpl.rc('xtick', labelsize=10)\n",
    "mpl.rc('ytick', labelsize=10)"
   ]
  },
  {
   "cell_type": "code",
   "execution_count": 2,
   "id": "95950573",
   "metadata": {},
   "outputs": [],
   "source": [
    "# Load the dataset into numpy arrays\n",
    "X = np.load(\"./datasets/smiley_X_new.npy\")\n",
    "y = np.load(\"./datasets/smiley_Y_new.npy\")"
   ]
  },
  {
   "cell_type": "code",
   "execution_count": 3,
   "id": "3d8f45f0",
   "metadata": {},
   "outputs": [],
   "source": [
    "# X is a list of all images. Images are represented as columns of pixel values.\n",
    "# To get pixel (r, c) of image i, use X[i][r-1][c-1][0]\n",
    "\n",
    "# X[0] returns columns of pixel values representing the 1st image.\n",
    "# X[0][2][6][0] returns the value of the pixel in the 3rd row and 7th column of the 1st image (r=3, c=7).\n",
    "# y[0] returns the label for the 1st image. (0 = happy, 1 = sad)"
   ]
  },
  {
   "cell_type": "code",
   "execution_count": 4,
   "id": "2e3a90b9",
   "metadata": {},
   "outputs": [],
   "source": [
    "# Shows smiley as an image. 'smiley' should be an element in 'X'\n",
    "def show_smiley(smiley):\n",
    "    plt.figure(figsize=(1,1))\n",
    "    plt.xticks([])\n",
    "    plt.yticks([])\n",
    "    plt.imshow(smiley, cmap=\"Greys\")"
   ]
  },
  {
   "cell_type": "code",
   "execution_count": 5,
   "id": "53b156af",
   "metadata": {},
   "outputs": [],
   "source": [
    "class_names = [\"happy\", \"sad\"]"
   ]
  },
  {
   "cell_type": "markdown",
   "id": "f9ff71d7",
   "metadata": {},
   "source": [
    "## Convolutional Neural Networks"
   ]
  },
  {
   "cell_type": "markdown",
   "id": "4fb59e1b",
   "metadata": {},
   "source": [
    "### CNN 0"
   ]
  },
  {
   "cell_type": "code",
   "execution_count": 6,
   "id": "9de5175e",
   "metadata": {},
   "outputs": [
    {
     "name": "stdout",
     "output_type": "stream",
     "text": [
      "Training samples: 6384, Testing samples: 2736\n"
     ]
    }
   ],
   "source": [
    "from sklearn.model_selection import train_test_split\n",
    "X_train, X_test, y_train, y_test = train_test_split(X, y, test_size=0.3, random_state=1) # 70% training and 30% test\n",
    "print(\"Training samples: %i, Testing samples: %i\" % (X_train.shape[0], X_test.shape[0]))"
   ]
  },
  {
   "cell_type": "code",
   "execution_count": 7,
   "id": "c26e429d",
   "metadata": {},
   "outputs": [
    {
     "name": "stdout",
     "output_type": "stream",
     "text": [
      "Model: \"sequential\"\n",
      "_________________________________________________________________\n",
      " Layer (type)                Output Shape              Param #   \n",
      "=================================================================\n",
      " conv2d (Conv2D)             (None, 8, 8, 64)          320       \n",
      "                                                                 \n",
      " max_pooling2d (MaxPooling2D  (None, 4, 4, 64)         0         \n",
      " )                                                               \n",
      "                                                                 \n",
      " conv2d_1 (Conv2D)           (None, 3, 3, 64)          16448     \n",
      "                                                                 \n",
      " max_pooling2d_1 (MaxPooling  (None, 1, 1, 64)         0         \n",
      " 2D)                                                             \n",
      "                                                                 \n",
      " flatten (Flatten)           (None, 64)                0         \n",
      "                                                                 \n",
      " dense (Dense)               (None, 128)               8320      \n",
      "                                                                 \n",
      " dense_1 (Dense)             (None, 2)                 258       \n",
      "                                                                 \n",
      "=================================================================\n",
      "Total params: 25,346\n",
      "Trainable params: 25,346\n",
      "Non-trainable params: 0\n",
      "_________________________________________________________________\n"
     ]
    }
   ],
   "source": [
    "cnn0 = tf.keras.models.Sequential([\n",
    "  tf.keras.layers.Conv2D(64, (2,2), activation='relu', input_shape=(9, 9, 1)),\n",
    "  tf.keras.layers.MaxPooling2D(2, 2),\n",
    "  tf.keras.layers.Conv2D(64, (2,2), activation='relu'),\n",
    "  tf.keras.layers.MaxPooling2D(2,2),\n",
    "  tf.keras.layers.Flatten(),\n",
    "  tf.keras.layers.Dense(128, activation='relu'),\n",
    "  tf.keras.layers.Dense(2, activation='softmax')\n",
    "])\n",
    "cnn0.compile(optimizer='adam', loss='sparse_categorical_crossentropy', metrics=['accuracy'])\n",
    "cnn0.summary()"
   ]
  },
  {
   "cell_type": "code",
   "execution_count": 8,
   "id": "ef369056",
   "metadata": {},
   "outputs": [
    {
     "name": "stdout",
     "output_type": "stream",
     "text": [
      "Epoch 1/5\n",
      "200/200 [==============================] - 11s 44ms/step - loss: 0.2753 - accuracy: 0.8747\n",
      "Epoch 2/5\n",
      "200/200 [==============================] - 6s 29ms/step - loss: 0.1023 - accuracy: 0.9389\n",
      "Epoch 3/5\n",
      "200/200 [==============================] - 7s 34ms/step - loss: 0.0995 - accuracy: 0.9322\n",
      "Epoch 4/5\n",
      "200/200 [==============================] - 6s 30ms/step - loss: 0.0955 - accuracy: 0.9369\n",
      "Epoch 5/5\n",
      "200/200 [==============================] - 6s 29ms/step - loss: 0.0946 - accuracy: 0.9337\n"
     ]
    },
    {
     "data": {
      "text/plain": [
       "<keras.callbacks.History at 0x1b3595fb580>"
      ]
     },
     "execution_count": 8,
     "metadata": {},
     "output_type": "execute_result"
    }
   ],
   "source": [
    "cnn0.fit(X_train, y_train, epochs=5)"
   ]
  },
  {
   "cell_type": "code",
   "execution_count": 9,
   "id": "b04a8bcf",
   "metadata": {},
   "outputs": [
    {
     "name": "stdout",
     "output_type": "stream",
     "text": [
      "\n",
      "Test accuracy: 0.9345760345458984\n"
     ]
    }
   ],
   "source": [
    "test_loss, test_acc = cnn0.evaluate(X_test,  y_test, verbose=0)\n",
    "print('\\nTest accuracy:', test_acc)"
   ]
  },
  {
   "cell_type": "code",
   "execution_count": 10,
   "id": "7c719fc3",
   "metadata": {},
   "outputs": [
    {
     "name": "stdout",
     "output_type": "stream",
     "text": [
      "86/86 [==============================] - 1s 4ms/step\n"
     ]
    }
   ],
   "source": [
    "y_pred0 = cnn0.predict(X_test)"
   ]
  },
  {
   "cell_type": "code",
   "execution_count": 11,
   "id": "37179539",
   "metadata": {
    "scrolled": true
   },
   "outputs": [
    {
     "name": "stdout",
     "output_type": "stream",
     "text": [
      "Prediction:  happy\n"
     ]
    },
    {
     "data": {
      "image/png": "[encoded data removed]",
      "text/plain": [
       "<Figure size 100x100 with 1 Axes>"
      ]
     },
     "metadata": {},
     "output_type": "display_data"
    }
   ],
   "source": [
    "# Prediction for first testing image\n",
    "print(\"Prediction: \", class_names[np.argmax(y_pred0[0])])\n",
    "show_smiley(X_test[0])"
   ]
  },
  {
   "cell_type": "code",
   "execution_count": null,
   "id": "fb1e2dce",
   "metadata": {},
   "outputs": [],
   "source": []
  }
 ],
 "metadata": {
  "kernelspec": {
   "display_name": "Python 3 (ipykernel)",
   "language": "python",
   "name": "python3"
  },
  "language_info": {
   "codemirror_mode": {
    "name": "ipython",
    "version": 3
   },
   "file_extension": ".py",
   "mimetype": "text/x-python",
   "name": "python",
   "nbconvert_exporter": "python",
   "pygments_lexer": "ipython3",
   "version": "3.10.4"
  }
 },
 "nbformat": 4,
 "nbformat_minor": 5
}
