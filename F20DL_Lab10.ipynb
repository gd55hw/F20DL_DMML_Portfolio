{
 "cells": [
  {
   "cell_type": "markdown",
   "id": "ccb76784",
   "metadata": {},
   "source": [
    "# F20DL Lab 10"
   ]
  },
  {
   "cell_type": "markdown",
   "id": "cdc436e0",
   "metadata": {},
   "source": [
    "## Setup "
   ]
  },
  {
   "cell_type": "code",
   "execution_count": 1,
   "id": "c387d1ae",
   "metadata": {},
   "outputs": [],
   "source": [
    "# Python ≥3.5 is required\n",
    "import sys\n",
    "assert sys.version_info >= (3, 5)\n",
    "\n",
    "# Scikit-Learn ≥0.20 is required\n",
    "import sklearn\n",
    "assert sklearn.__version__ >= \"0.20\"\n",
    "\n",
    "# Common imports\n",
    "import numpy as np\n",
    "import os\n",
    "import pandas as pd\n",
    "import math\n",
    "from sklearn.neural_network import MLPClassifier\n",
    "from sklearn.model_selection import train_test_split, cross_val_score\n",
    "from sklearn.metrics import accuracy_score, confusion_matrix, ConfusionMatrixDisplay\n",
    "\n",
    "# to make this notebook's output stable across runs\n",
    "np.random.seed(42)\n",
    "\n",
    "# To plot pretty figures\n",
    "%matplotlib inline\n",
    "import matplotlib as mpl\n",
    "import matplotlib.pyplot as plt\n",
    "mpl.rc('axes', labelsize=10)\n",
    "mpl.rc('xtick', labelsize=10)\n",
    "mpl.rc('ytick', labelsize=10)\n",
    "\n",
    "# Ignore useless warnings (see SciPy issue #5998)\n",
    "import warnings\n",
    "warnings.filterwarnings(action=\"ignore\", message=\"^internal gelsd\")"
   ]
  },
  {
   "cell_type": "code",
   "execution_count": 2,
   "id": "cd4d6aa6",
   "metadata": {},
   "outputs": [],
   "source": [
    "# Load the dataset into numpy arrays\n",
    "images = np.load(\"./datasets/smiley_X.npy\")\n",
    "labels = np.load(\"./datasets/smiley_Y.npy\")"
   ]
  },
  {
   "cell_type": "code",
   "execution_count": 3,
   "id": "c268876e",
   "metadata": {},
   "outputs": [],
   "source": [
    "# Flatten image data and convert values to int\n",
    "X = np.asarray([x.flatten() for x in images]).astype(int)\n",
    "y = labels.astype(int)"
   ]
  },
  {
   "cell_type": "code",
   "execution_count": 4,
   "id": "79cdb638",
   "metadata": {},
   "outputs": [
    {
     "data": {
      "text/plain": [
       "0.0"
      ]
     },
     "execution_count": 4,
     "metadata": {},
     "output_type": "execute_result"
    }
   ],
   "source": [
    "# data is a list of all images. Images are represented as a flattened row of pixel values.\n",
    "# To get pixel (r, c) of image i, use X[i-1][9*(r-1) + (c-1)] \n",
    "# Or use images[i][r-1][c-1][0]\n",
    "\n",
    "# X[0] returns a row of pixel values representing the 1st image.\n",
    "# X[0][24] and images[0][2][6][0] return the value of the pixel in the 3rd row and 7th column of the 1st image \n",
    "# (r=3, c=7).\n",
    "# y[0] returns the label for the 1st image.\n",
    "images[0][0][0][0]"
   ]
  },
  {
   "cell_type": "code",
   "execution_count": 5,
   "id": "decc6671",
   "metadata": {},
   "outputs": [],
   "source": [
    "# Shows smiley as an image. 'smiley' should be an element in 'images'\n",
    "def show_smiley(smiley):\n",
    "    plt.figure(figsize=(2,2))\n",
    "    plt.imshow(smiley, cmap=\"Greys\")"
   ]
  },
  {
   "cell_type": "code",
   "execution_count": 6,
   "id": "b8f67217",
   "metadata": {},
   "outputs": [],
   "source": [
    "# Shifts a percentage of instances from the training set to the test set and returns the new training and test sets\n",
    "def shift_instances(d_train, d_test, t_train, t_test, percent):    \n",
    "    shift_count = math.ceil(percent * d_train.shape[0])    # No. of instances to shift\n",
    "\n",
    "    # Shift first x% of samples to test set\n",
    "    new_d_train = d_train[shift_count:]\n",
    "    new_d_test = np.concatenate((d_test, d_train[:shift_count]))\n",
    "    new_t_train = t_train[shift_count:]\n",
    "    new_t_test = np.concatenate((t_test, t_train[:shift_count]))\n",
    "    return (new_d_train, new_d_test, new_t_train, new_t_test)"
   ]
  },
  {
   "cell_type": "code",
   "execution_count": 7,
   "id": "786f9412",
   "metadata": {},
   "outputs": [],
   "source": [
    "# Displays confusion matrix and prints common evaluation metrics\n",
    "def show_metrics(clf, y_test, y_pred):\n",
    "    cm = confusion_matrix(y_test, y_pred, labels=clf.classes_)\n",
    "    \n",
    "    acc = round(accuracy_score(y_test, y_pred), 3)\n",
    "    tn, fp, fn, tp = cm.ravel()\n",
    "    tpr = round(tp/(tp+fn), 3)\n",
    "    fpr = round(fp/(fp+tn), 3)\n",
    "    precision = round(tp/(tp+fp), 3)\n",
    "    recall = round(tp/(tp+fn), 3)\n",
    "    f_measure = (2 * recall * precision) / (recall + precision)\n",
    "    f_measure = round(f_measure, 3)\n",
    "    \n",
    "    text = f'''\n",
    "    Metrics for Class 1:\n",
    "    Accuracy =   {acc}\n",
    "    TP rate =    {tpr}\n",
    "    FP rate =    {fpr}\n",
    "    Precision =  {precision}\n",
    "    Recall =     {recall}\n",
    "    F measure =  {f_measure}\n",
    "    '''\n",
    "    \n",
    "    fig, axes = plt.subplots(figsize=(4,4))\n",
    "    ConfusionMatrixDisplay(confusion_matrix=cm, display_labels=clf.classes_).plot(ax=axes)\n",
    "    plt.show()\n",
    "    \n",
    "    print(text)\n",
    "    \n",
    "    return [acc, tpr, fpr, precision, recall, f_measure]"
   ]
  },
  {
   "cell_type": "markdown",
   "id": "87a6097f",
   "metadata": {},
   "source": [
    "## Multilayer Perceptron"
   ]
  },
  {
   "cell_type": "markdown",
   "id": "b8c6d9e4",
   "metadata": {},
   "source": [
    "### MLP 0"
   ]
  },
  {
   "cell_type": "code",
   "execution_count": 8,
   "id": "80c7c8f9",
   "metadata": {},
   "outputs": [
    {
     "name": "stdout",
     "output_type": "stream",
     "text": [
      "Training samples: 14, Testing samples: 130\n"
     ]
    }
   ],
   "source": [
    "X_train, X_test, y_train, y_test = train_test_split(X, y, test_size=0.9, random_state=1) # 10% training and 90% test\n",
    "print(\"Training samples: %i, Testing samples: %i\" % (X_train.shape[0], X_test.shape[0]))"
   ]
  },
  {
   "cell_type": "markdown",
   "id": "3550ad09",
   "metadata": {},
   "source": [
    "## Tuned Multilayer Perceptrons"
   ]
  },
  {
   "cell_type": "markdown",
   "id": "86450d16",
   "metadata": {},
   "source": [
    "### MLP 1"
   ]
  },
  {
   "cell_type": "code",
   "execution_count": 9,
   "id": "ea343a07",
   "metadata": {},
   "outputs": [
    {
     "name": "stdout",
     "output_type": "stream",
     "text": [
      "Training samples: 14, Testing samples: 130\n"
     ]
    }
   ],
   "source": [
    "print(\"Training samples: %i, Testing samples: %i\" % (X_train.shape[0], X_test.shape[0]))"
   ]
  },
  {
   "cell_type": "code",
   "execution_count": 10,
   "id": "0573068b",
   "metadata": {},
   "outputs": [],
   "source": [
    "# Create MLP object\n",
    "classifier1 = MLPClassifier(random_state=1, max_iter=300)\n",
    "\n",
    "# Train MLP Classifer\n",
    "classifier1 = classifier1.fit(X_train,y_train)\n",
    "\n",
    "#Predict the response for test dataset\n",
    "y1_pred = classifier1.predict(X_test)"
   ]
  },
  {
   "cell_type": "code",
   "execution_count": 11,
   "id": "b059bb3f",
   "metadata": {},
   "outputs": [
    {
     "data": {
      "image/png": "[encoded data removed]",
      "text/plain": [
       "<Figure size 400x400 with 2 Axes>"
      ]
     },
     "metadata": {},
     "output_type": "display_data"
    },
    {
     "name": "stdout",
     "output_type": "stream",
     "text": [
      "\n",
      "    Metrics for Class 1:\n",
      "    Accuracy =   0.954\n",
      "    TP rate =    0.909\n",
      "    FP rate =    0.0\n",
      "    Precision =  1.0\n",
      "    Recall =     0.909\n",
      "    F measure =  0.952\n",
      "    \n"
     ]
    }
   ],
   "source": [
    "t1_acc = accuracy_score(y_test, y1_pred)\n",
    "metrics1 = show_metrics(classifier1, y_test, y1_pred)"
   ]
  },
  {
   "cell_type": "markdown",
   "id": "aab08030",
   "metadata": {},
   "source": [
    "### MLP 2"
   ]
  },
  {
   "cell_type": "code",
   "execution_count": 12,
   "id": "e1d9abbb",
   "metadata": {},
   "outputs": [
    {
     "name": "stdout",
     "output_type": "stream",
     "text": [
      "Training samples: 9, Testing samples: 135\n"
     ]
    }
   ],
   "source": [
    "# Shift 30% of original training data to test set\n",
    "X2_train, X2_test, y2_train, y2_test = shift_instances(X_train, X_test, y_train, y_test, 0.3)\n",
    "print(\"Training samples: %i, Testing samples: %i\" % (X2_train.shape[0], X2_test.shape[0]))"
   ]
  },
  {
   "cell_type": "code",
   "execution_count": 13,
   "id": "3e2aff3e",
   "metadata": {},
   "outputs": [],
   "source": [
    "# Create MLP object\n",
    "classifier2 = MLPClassifier(random_state=1, max_iter=300)\n",
    "\n",
    "# Train MLP Classifer\n",
    "classifier2 = classifier2.fit(X2_train,y2_train)\n",
    "\n",
    "#Predict the response for test dataset\n",
    "y2_pred = classifier2.predict(X2_test)"
   ]
  },
  {
   "cell_type": "code",
   "execution_count": 14,
   "id": "a831ca1e",
   "metadata": {},
   "outputs": [
    {
     "data": {
      "image/png": "[encoded data removed]",
      "text/plain": [
       "<Figure size 400x400 with 2 Axes>"
      ]
     },
     "metadata": {},
     "output_type": "display_data"
    },
    {
     "name": "stdout",
     "output_type": "stream",
     "text": [
      "\n",
      "    Metrics for Class 1:\n",
      "    Accuracy =   0.993\n",
      "    TP rate =    1.0\n",
      "    FP rate =    0.015\n",
      "    Precision =  0.986\n",
      "    Recall =     1.0\n",
      "    F measure =  0.993\n",
      "    \n"
     ]
    }
   ],
   "source": [
    "t2_acc = accuracy_score(y2_test, y2_pred)\n",
    "metrics2 = show_metrics(classifier2, y2_test, y2_pred)"
   ]
  },
  {
   "cell_type": "markdown",
   "id": "d1b8500f",
   "metadata": {},
   "source": [
    "### MLP 3"
   ]
  },
  {
   "cell_type": "code",
   "execution_count": 15,
   "id": "02af8d7c",
   "metadata": {},
   "outputs": [
    {
     "name": "stdout",
     "output_type": "stream",
     "text": [
      "Training samples: 5, Testing samples: 139\n"
     ]
    }
   ],
   "source": [
    "# Shift 60% of original training data to test set\n",
    "X3_train, X3_test, y3_train, y3_test = shift_instances(X_train, X_test, y_train, y_test, 0.6)\n",
    "print(\"Training samples: %i, Testing samples: %i\" % (X3_train.shape[0], X3_test.shape[0]))"
   ]
  },
  {
   "cell_type": "code",
   "execution_count": 16,
   "id": "ebaa3e17",
   "metadata": {},
   "outputs": [],
   "source": [
    "# Create MLP object\n",
    "classifier3 = MLPClassifier(random_state=1, max_iter=300)\n",
    "\n",
    "# Train MLP Classifer\n",
    "classifier3 = classifier3.fit(X3_train,y3_train)\n",
    "\n",
    "#Predict the response for test dataset\n",
    "y3_pred = classifier3.predict(X3_test)"
   ]
  },
  {
   "cell_type": "code",
   "execution_count": 17,
   "id": "827f4614",
   "metadata": {},
   "outputs": [
    {
     "data": {
      "image/png": "[encoded data removed]",
      "text/plain": [
       "<Figure size 400x400 with 2 Axes>"
      ]
     },
     "metadata": {},
     "output_type": "display_data"
    },
    {
     "name": "stdout",
     "output_type": "stream",
     "text": [
      "\n",
      "    Metrics for Class 1:\n",
      "    Accuracy =   0.784\n",
      "    TP rate =    0.577\n",
      "    FP rate =    0.0\n",
      "    Precision =  1.0\n",
      "    Recall =     0.577\n",
      "    F measure =  0.732\n",
      "    \n"
     ]
    }
   ],
   "source": [
    "t3_acc = accuracy_score(y3_test, y3_pred)\n",
    "metrics3 = show_metrics(classifier3, y3_test, y3_pred)"
   ]
  },
  {
   "cell_type": "code",
   "execution_count": null,
   "id": "99d4c20b",
   "metadata": {},
   "outputs": [],
   "source": []
  }
 ],
 "metadata": {
  "kernelspec": {
   "display_name": "Python 3 (ipykernel)",
   "language": "python",
   "name": "python3"
  },
  "language_info": {
   "codemirror_mode": {
    "name": "ipython",
    "version": 3
   },
   "file_extension": ".py",
   "mimetype": "text/x-python",
   "name": "python",
   "nbconvert_exporter": "python",
   "pygments_lexer": "ipython3",
   "version": "3.10.4"
  }
 },
 "nbformat": 4,
 "nbformat_minor": 5
}
