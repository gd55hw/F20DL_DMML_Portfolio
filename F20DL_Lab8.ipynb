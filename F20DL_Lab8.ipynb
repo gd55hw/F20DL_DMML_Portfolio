{
 "cells": [
  {
   "cell_type": "markdown",
   "id": "074de8a6",
   "metadata": {},
   "source": [
    "# F20DL Lab 8"
   ]
  },
  {
   "cell_type": "markdown",
   "id": "737d3b70",
   "metadata": {},
   "source": [
    "## Setup"
   ]
  },
  {
   "cell_type": "code",
   "execution_count": 1,
   "id": "14c2d24e",
   "metadata": {},
   "outputs": [],
   "source": [
    "# Python ≥3.5 is required\n",
    "import sys\n",
    "assert sys.version_info >= (3, 5)\n",
    "\n",
    "# Scikit-Learn ≥0.20 is required\n",
    "import sklearn\n",
    "assert sklearn.__version__ >= \"0.20\"\n",
    "\n",
    "# Common imports\n",
    "import numpy as np\n",
    "import os\n",
    "import pandas as pd\n",
    "from sklearn.tree import DecisionTreeClassifier\n",
    "from sklearn.model_selection import train_test_split\n",
    "from sklearn import metrics\n",
    "\n",
    "# to make this notebook's output stable across runs\n",
    "np.random.seed(42)\n",
    "\n",
    "# To plot pretty figures\n",
    "%matplotlib inline\n",
    "import matplotlib as mpl\n",
    "import matplotlib.pyplot as plt\n",
    "mpl.rc('axes', labelsize=8)\n",
    "mpl.rc('xtick', labelsize=8)\n",
    "mpl.rc('ytick', labelsize=8)\n",
    "\n",
    "# Ignore useless warnings (see SciPy issue #5998)\n",
    "import warnings\n",
    "warnings.filterwarnings(action=\"ignore\", message=\"^internal gelsd\")"
   ]
  },
  {
   "cell_type": "code",
   "execution_count": 2,
   "id": "36ca6875",
   "metadata": {},
   "outputs": [
    {
     "ename": "FileNotFoundError",
     "evalue": "[Errno 2] No such file or directory: './datasets/smiley_X.npy'",
     "output_type": "error",
     "traceback": [
      "\u001b[1;31m---------------------------------------------------------------------------\u001b[0m",
      "\u001b[1;31mFileNotFoundError\u001b[0m                         Traceback (most recent call last)",
      "Input \u001b[1;32mIn [2]\u001b[0m, in \u001b[0;36m<cell line: 2>\u001b[1;34m()\u001b[0m\n\u001b[0;32m      1\u001b[0m \u001b[38;5;66;03m# Load the dataset into numpy arrays\u001b[39;00m\n\u001b[1;32m----> 2\u001b[0m images \u001b[38;5;241m=\u001b[39m \u001b[43mnp\u001b[49m\u001b[38;5;241;43m.\u001b[39;49m\u001b[43mload\u001b[49m\u001b[43m(\u001b[49m\u001b[38;5;124;43m\"\u001b[39;49m\u001b[38;5;124;43m./datasets/smiley_X.npy\u001b[39;49m\u001b[38;5;124;43m\"\u001b[39;49m\u001b[43m)\u001b[49m\n\u001b[0;32m      3\u001b[0m labels \u001b[38;5;241m=\u001b[39m np\u001b[38;5;241m.\u001b[39mload(\u001b[38;5;124m\"\u001b[39m\u001b[38;5;124m./datasets/smiley_Y.npy\u001b[39m\u001b[38;5;124m\"\u001b[39m)\n",
      "File \u001b[1;32m~\\anaconda3\\lib\\site-packages\\numpy\\lib\\npyio.py:417\u001b[0m, in \u001b[0;36mload\u001b[1;34m(file, mmap_mode, allow_pickle, fix_imports, encoding)\u001b[0m\n\u001b[0;32m    415\u001b[0m     own_fid \u001b[38;5;241m=\u001b[39m \u001b[38;5;28;01mFalse\u001b[39;00m\n\u001b[0;32m    416\u001b[0m \u001b[38;5;28;01melse\u001b[39;00m:\n\u001b[1;32m--> 417\u001b[0m     fid \u001b[38;5;241m=\u001b[39m stack\u001b[38;5;241m.\u001b[39menter_context(\u001b[38;5;28;43mopen\u001b[39;49m\u001b[43m(\u001b[49m\u001b[43mos_fspath\u001b[49m\u001b[43m(\u001b[49m\u001b[43mfile\u001b[49m\u001b[43m)\u001b[49m\u001b[43m,\u001b[49m\u001b[43m \u001b[49m\u001b[38;5;124;43m\"\u001b[39;49m\u001b[38;5;124;43mrb\u001b[39;49m\u001b[38;5;124;43m\"\u001b[39;49m\u001b[43m)\u001b[49m)\n\u001b[0;32m    418\u001b[0m     own_fid \u001b[38;5;241m=\u001b[39m \u001b[38;5;28;01mTrue\u001b[39;00m\n\u001b[0;32m    420\u001b[0m \u001b[38;5;66;03m# Code to distinguish from NumPy binary files and pickles.\u001b[39;00m\n",
      "\u001b[1;31mFileNotFoundError\u001b[0m: [Errno 2] No such file or directory: './datasets/smiley_X.npy'"
     ]
    }
   ],
   "source": [
    "# Load the dataset into numpy arrays\n",
    "images = np.load(\"./datasets/smiley_X.npy\")\n",
    "labels = np.load(\"./datasets/smiley_Y.npy\")"
   ]
  },
  {
   "cell_type": "code",
   "execution_count": null,
   "id": "a7590bfa",
   "metadata": {},
   "outputs": [],
   "source": [
    "# Shows smiley as an image. 'smiley' should be an element in 'images'\n",
    "def show_smiley(smiley):\n",
    "    plt.figure(figsize=(2,2))\n",
    "    plt.imshow(smiley, cmap=\"Greys\")"
   ]
  },
  {
   "cell_type": "code",
   "execution_count": null,
   "id": "53ae9ed5",
   "metadata": {},
   "outputs": [],
   "source": [
    "# Flatten image data and convert values to int\n",
    "X = np.asarray([x.flatten() for x in images]).astype(int)\n",
    "y = labels.astype(int)"
   ]
  },
  {
   "cell_type": "code",
   "execution_count": null,
   "id": "c3d575d4",
   "metadata": {},
   "outputs": [],
   "source": [
    "#Duplicate int Datasets\n",
    "X2 = X.copy()\n",
    "y2 = y.copy()\n",
    "X3 = X.copy()\n",
    "y3 = y.copy()"
   ]
  },
  {
   "cell_type": "code",
   "execution_count": null,
   "id": "37ce736d",
   "metadata": {},
   "outputs": [],
   "source": [
    "# data is a list of all images. Images are represented as a flattened row of pixel values.\n",
    "# To get pixel (r, c) of image i, use X[i-1][9*(r-1) + (c-1)] \n",
    "# Or use images[i][r-1][c-1][0]\n",
    "\n",
    "# X[0] returns a row of pixel values representing the 1st image.\n",
    "# X[0][24] and images[0][2][6][0] return the value of the pixel in the 3rd row and 7th column of the 1st image \n",
    "# (r=3, c=7).\n",
    "# y[0] returns the label for the 1st image.\n",
    "images[0][0][0][0]"
   ]
  },
  {
   "cell_type": "markdown",
   "id": "d307df3c",
   "metadata": {},
   "source": [
    "## Decision Trees"
   ]
  },
  {
   "cell_type": "code",
   "execution_count": null,
   "id": "3b3384ce",
   "metadata": {},
   "outputs": [],
   "source": [
    "X_train, X_test, y_train, y_test = train_test_split(X, y, test_size=0.3, random_state=1) # 70% training and 30% test"
   ]
  },
  {
   "cell_type": "markdown",
   "id": "f8ddb175",
   "metadata": {},
   "source": [
    "# Tree 1"
   ]
  },
  {
   "cell_type": "code",
   "execution_count": null,
   "id": "60969e74",
   "metadata": {},
   "outputs": [],
   "source": [
    "# Create Decision Tree classifer object\n",
    "classifier = DecisionTreeClassifier()\n",
    "\n",
    "# Train Decision Tree Classifer\n",
    "classifier = classifier.fit(X_train,y_train)\n",
    "\n",
    "#Predict the response for test dataset\n",
    "y_pred = classifier.predict(X_test)"
   ]
  },
  {
   "cell_type": "code",
   "execution_count": null,
   "id": "611b61a8",
   "metadata": {},
   "outputs": [],
   "source": [
    "metrics.accuracy_score(y_test, y_pred)"
   ]
  },
  {
   "cell_type": "markdown",
   "id": "7d3b72b9",
   "metadata": {},
   "source": [
    "# Tree 2"
   ]
  },
  {
   "cell_type": "code",
   "execution_count": null,
   "id": "c18a4bde",
   "metadata": {},
   "outputs": [],
   "source": [
    "X2_train, X2_test, y2_train, y2_test = train_test_split(X2, y2, test_size=0.6, random_state=1) # 40% training and 60% test"
   ]
  },
  {
   "cell_type": "code",
   "execution_count": null,
   "id": "e2ed1ccf",
   "metadata": {},
   "outputs": [],
   "source": [
    "# Create Decision Tree classifer object\n",
    "classifier2 = DecisionTreeClassifier()\n",
    "\n",
    "# Train Decision Tree Classifer\n",
    "classifier2 = classifier2.fit(X2_train,y2_train)\n",
    "\n",
    "#Predict the response for test dataset\n",
    "y2_pred = classifier2.predict(X2_test)"
   ]
  },
  {
   "cell_type": "code",
   "execution_count": null,
   "id": "c52b5d43",
   "metadata": {},
   "outputs": [],
   "source": [
    "metrics.accuracy_score(y2_test, y2_pred)"
   ]
  },
  {
   "cell_type": "markdown",
   "id": "45bec5a4",
   "metadata": {},
   "source": [
    "# Tree 3"
   ]
  },
  {
   "cell_type": "code",
   "execution_count": null,
   "id": "48b6a4c0",
   "metadata": {},
   "outputs": [],
   "source": [
    "X3_train, X3_test, y3_train, y3_test = train_test_split(X3, y3, test_size=0.9, random_state=1) # 10% training and 90% test"
   ]
  },
  {
   "cell_type": "code",
   "execution_count": null,
   "id": "7ac03e14",
   "metadata": {},
   "outputs": [],
   "source": [
    "# Create Decision Tree classifer object\n",
    "classifier3 = DecisionTreeClassifier()\n",
    "\n",
    "# Train Decision Tree Classifer\n",
    "classifier3 = classifier3.fit(X3_train,y3_train)\n",
    "\n",
    "#Predict the response for test dataset\n",
    "y3_pred = classifier3.predict(X3_test)"
   ]
  },
  {
   "cell_type": "markdown",
   "id": "5a2936bb",
   "metadata": {},
   "source": [
    "## Random Forest Trees"
   ]
  },
  {
   "cell_type": "code",
   "execution_count": null,
   "id": "85ca0ede",
   "metadata": {
    "scrolled": true
   },
   "outputs": [],
   "source": [
    "metrics.accuracy_score(y3_test, y3_pred)"
   ]
  },
  {
   "cell_type": "markdown",
   "id": "d15be46d",
   "metadata": {},
   "source": [
    "# Tree 1"
   ]
  },
  {
   "cell_type": "code",
   "execution_count": null,
   "id": "2f168972",
   "metadata": {},
   "outputs": [],
   "source": [
    "from sklearn.ensemble import RandomForestClassifier\n",
    "\n",
    "RFClassifier = RandomForestClassifier()\n",
    "\n",
    "RFClassifier = RFClassifier.fit(X_train,y_train)\n",
    "\n",
    "RFy_pred = RFClassifier.predict(X_test)"
   ]
  },
  {
   "cell_type": "code",
   "execution_count": null,
   "id": "b153fe48",
   "metadata": {},
   "outputs": [],
   "source": [
    "metrics.accuracy_score(y_test, RFy_pred)"
   ]
  },
  {
   "cell_type": "markdown",
   "id": "f670d751",
   "metadata": {},
   "source": [
    "# Tree 2"
   ]
  },
  {
   "cell_type": "code",
   "execution_count": null,
   "id": "93476033",
   "metadata": {},
   "outputs": [],
   "source": [
    "RFClassifier2 = RandomForestClassifier()\n",
    "\n",
    "RFClassifier2 = RFClassifier2.fit(X2_train,y2_train)\n",
    "\n",
    "RFy2_pred = RFClassifier2.predict(X2_test)"
   ]
  },
  {
   "cell_type": "code",
   "execution_count": null,
   "id": "98b6bdd0",
   "metadata": {},
   "outputs": [],
   "source": [
    "metrics.accuracy_score(y2_test, RFy2_pred)"
   ]
  },
  {
   "cell_type": "markdown",
   "id": "6dd6661b",
   "metadata": {},
   "source": [
    "# Tree 3"
   ]
  },
  {
   "cell_type": "code",
   "execution_count": null,
   "id": "78d359a5",
   "metadata": {},
   "outputs": [],
   "source": [
    "RFClassifier3 = RandomForestClassifier()\n",
    "\n",
    "RFClassifier3 = RFClassifier3.fit(X3_train,y3_train)\n",
    "\n",
    "RFy3_pred = RFClassifier3.predict(X3_test)"
   ]
  },
  {
   "cell_type": "code",
   "execution_count": null,
   "id": "8c96987a",
   "metadata": {},
   "outputs": [],
   "source": [
    "metrics.accuracy_score(y3_test, RFy3_pred)"
   ]
  }
 ],
 "metadata": {
  "kernelspec": {
   "display_name": "Python 3 (ipykernel)",
   "language": "python",
   "name": "python3"
  },
  "language_info": {
   "codemirror_mode": {
    "name": "ipython",
    "version": 3
   },
   "file_extension": ".py",
   "mimetype": "text/x-python",
   "name": "python",
   "nbconvert_exporter": "python",
   "pygments_lexer": "ipython3",
   "version": "3.9.12"
  }
 },
 "nbformat": 4,
 "nbformat_minor": 5
}
