{
 "cells": [
  {
   "cell_type": "markdown",
   "id": "074de8a6",
   "metadata": {},
   "source": [
    "# F20DL Lab 8"
   ]
  },
  {
   "cell_type": "markdown",
   "id": "737d3b70",
   "metadata": {},
   "source": [
    "## Setup"
   ]
  },
  {
   "cell_type": "code",
   "execution_count": 1,
   "id": "14c2d24e",
   "metadata": {},
   "outputs": [],
   "source": [
    "# Python ≥3.5 is required\n",
    "import sys\n",
    "assert sys.version_info >= (3, 5)\n",
    "\n",
    "# Scikit-Learn ≥0.20 is required\n",
    "import sklearn\n",
    "assert sklearn.__version__ >= \"0.20\"\n",
    "\n",
    "# Common imports\n",
    "import numpy as np\n",
    "import os\n",
    "import pandas as pd\n",
    "import math\n",
    "from sklearn.tree import DecisionTreeClassifier, plot_tree\n",
    "from sklearn.model_selection import train_test_split, cross_val_score, cross_val_predict\n",
    "from sklearn.metrics import accuracy_score, confusion_matrix, ConfusionMatrixDisplay, roc_auc_score\n",
    "\n",
    "# to make this notebook's output stable across runs\n",
    "np.random.seed(42)\n",
    "\n",
    "# To plot pretty figures\n",
    "%matplotlib inline\n",
    "import matplotlib as mpl\n",
    "import matplotlib.pyplot as plt\n",
    "mpl.rc('axes', labelsize=10)\n",
    "mpl.rc('xtick', labelsize=10)\n",
    "mpl.rc('ytick', labelsize=10)\n",
    "\n",
    "# Ignore useless warnings (see SciPy issue #5998)\n",
    "import warnings\n",
    "warnings.filterwarnings(action=\"ignore\", message=\"^internal gelsd\")"
   ]
  },
  {
   "cell_type": "code",
   "execution_count": 2,
   "id": "36ca6875",
   "metadata": {},
   "outputs": [],
   "source": [
    "# Load the dataset into numpy arrays\n",
    "images = np.load(\"./datasets/smiley_X.npy\")\n",
    "labels = np.load(\"./datasets/smiley_Y.npy\")"
   ]
  },
  {
   "cell_type": "code",
   "execution_count": 3,
   "id": "53ae9ed5",
   "metadata": {},
   "outputs": [],
   "source": [
    "# Flatten image data and convert values to int\n",
    "X = np.asarray([x.flatten() for x in images]).astype(int)\n",
    "y = labels.astype(int)"
   ]
  },
  {
   "cell_type": "code",
   "execution_count": 4,
   "id": "37ce736d",
   "metadata": {},
   "outputs": [
    {
     "data": {
      "text/plain": [
       "0.0"
      ]
     },
     "execution_count": 4,
     "metadata": {},
     "output_type": "execute_result"
    }
   ],
   "source": [
    "# data is a list of all images. Images are represented as a flattened row of pixel values.\n",
    "# To get pixel (r, c) of image i, use X[i-1][9*(r-1) + (c-1)] \n",
    "# Or use images[i][r-1][c-1][0]\n",
    "\n",
    "# X[0] returns a row of pixel values representing the 1st image.\n",
    "# X[0][24] and images[0][2][6][0] return the value of the pixel in the 3rd row and 7th column of the 1st image \n",
    "# (r=3, c=7).\n",
    "# y[0] returns the label for the 1st image.\n",
    "images[0][0][0][0]"
   ]
  },
  {
   "cell_type": "code",
   "execution_count": 5,
   "id": "a7590bfa",
   "metadata": {},
   "outputs": [],
   "source": [
    "# Shows smiley as an image. 'smiley' should be an element in 'images'\n",
    "def show_smiley(smiley):\n",
    "    plt.figure(figsize=(2,2))\n",
    "    plt.imshow(smiley, cmap=\"Greys\")"
   ]
  },
  {
   "cell_type": "code",
   "execution_count": 6,
   "id": "ddd3e412",
   "metadata": {},
   "outputs": [],
   "source": [
    "# Shifts a percentage of instances from the training set to the test set and returns the new training and test sets\n",
    "def shift_instances(d_train, d_test, t_train, t_test, percent):    \n",
    "    shift_count = math.ceil(percent * d_train.shape[0])    # No. of instances to shift\n",
    "\n",
    "    # Shift first x% of samples to test set\n",
    "    new_d_train = d_train[shift_count:]\n",
    "    new_d_test = np.concatenate((d_test, d_train[:shift_count]))\n",
    "    new_t_train = t_train[shift_count:]\n",
    "    new_t_test = np.concatenate((t_test, t_train[:shift_count]))\n",
    "    return (new_d_train, new_d_test, new_t_train, new_t_test)"
   ]
  },
  {
   "cell_type": "code",
   "execution_count": 7,
   "id": "5c4e27bf",
   "metadata": {},
   "outputs": [],
   "source": [
    "# Displays confusion matrix and prints common evaluation metrics\n",
    "def show_metrics(clf, y_test, y_pred):\n",
    "    cm = confusion_matrix(y_test, y_pred, labels=clf.classes_)\n",
    "    \n",
    "    acc = round(accuracy_score(y_test, y_pred), 3)\n",
    "    tn, fp, fn, tp = cm.ravel()\n",
    "    tpr = round(tp/(tp+fn), 3)\n",
    "    fpr = round(fp/(fp+tn), 3)\n",
    "    precision = round(tp/(tp+fp), 3)\n",
    "    recall = round(tp/(tp+fn), 3)\n",
    "    f_measure = (2 * recall * precision) / (recall + precision)\n",
    "    f_measure = round(f_measure, 3)\n",
    "    \n",
    "    text = f'''\n",
    "    Metrics for Class 1:\n",
    "    Accuracy =   {acc}\n",
    "    TP rate =    {tpr}\n",
    "    FP rate =    {fpr}\n",
    "    Precision =  {precision}\n",
    "    Recall =     {recall}\n",
    "    F measure =  {f_measure}\n",
    "    '''\n",
    "    \n",
    "    fig, axes = plt.subplots(figsize=(4,4))\n",
    "    ConfusionMatrixDisplay(confusion_matrix=cm, display_labels=clf.classes_).plot(ax=axes)\n",
    "    plt.show()\n",
    "    \n",
    "    print(text)\n",
    "    \n",
    "    return [acc, tpr, fpr, precision, recall, f_measure]"
   ]
  },
  {
   "cell_type": "markdown",
   "id": "d307df3c",
   "metadata": {},
   "source": [
    "## Decision Trees"
   ]
  },
  {
   "cell_type": "markdown",
   "id": "eee0cc75",
   "metadata": {},
   "source": [
    "### Tree 0"
   ]
  },
  {
   "cell_type": "code",
   "execution_count": 8,
   "id": "3b3384ce",
   "metadata": {},
   "outputs": [
    {
     "name": "stdout",
     "output_type": "stream",
     "text": [
      "Training samples: 14, Testing samples: 130\n"
     ]
    }
   ],
   "source": [
    "X_train, X_test, y_train, y_test = train_test_split(X, y, test_size=0.9, random_state=1) # 10% training and 90% test\n",
    "print(\"Training samples: %i, Testing samples: %i\" % (X_train.shape[0], X_test.shape[0]))"
   ]
  },
  {
   "cell_type": "code",
   "execution_count": 9,
   "id": "de360407",
   "metadata": {},
   "outputs": [],
   "source": [
    "# Create Decision Tree classifer object\n",
    "classifier = DecisionTreeClassifier()\n",
    "\n",
    "# Train Decision Tree Classifer\n",
    "classifier = classifier.fit(X_train,y_train)\n",
    "\n",
    "#Predict the response for test dataset\n",
    "y_pred = classifier.predict(X_train)"
   ]
  },
  {
   "cell_type": "code",
   "execution_count": 10,
   "id": "9b35b2c1",
   "metadata": {},
   "outputs": [],
   "source": [
    "t0_acc = accuracy_score(y_train, y_pred)"
   ]
  },
  {
   "cell_type": "code",
   "execution_count": 11,
   "id": "40392ea9",
   "metadata": {},
   "outputs": [
    {
     "data": {
      "text/plain": [
       "array([1. , 1. , 0.5, 1. , 1. , 0.5])"
      ]
     },
     "execution_count": 11,
     "metadata": {},
     "output_type": "execute_result"
    }
   ],
   "source": [
    "cross_val_score(classifier, X_train, y_train, cv=6)"
   ]
  },
  {
   "cell_type": "code",
   "execution_count": 12,
   "id": "95eb0079",
   "metadata": {},
   "outputs": [
    {
     "data": {
      "image/png": "[encoded data removed]",
      "text/plain": [
       "<Figure size 900x600 with 1 Axes>"
      ]
     },
     "metadata": {},
     "output_type": "display_data"
    },
    {
     "data": {
      "image/png": "[encoded data removed]",
      "text/plain": [
       "<Figure size 400x400 with 2 Axes>"
      ]
     },
     "metadata": {},
     "output_type": "display_data"
    },
    {
     "name": "stdout",
     "output_type": "stream",
     "text": [
      "\n",
      "    Metrics for Class 1:\n",
      "    Accuracy =   1.0\n",
      "    TP rate =    1.0\n",
      "    FP rate =    0.0\n",
      "    Precision =  1.0\n",
      "    Recall =     1.0\n",
      "    F measure =  1.0\n",
      "    \n"
     ]
    }
   ],
   "source": [
    "plt.figure(figsize=(9,6))\n",
    "plot_tree(classifier, fontsize=10)\n",
    "plt.show()\n",
    "\n",
    "metrics0 = show_metrics(classifier, y_train, y_pred)"
   ]
  },
  {
   "cell_type": "markdown",
   "id": "804f8fdb",
   "metadata": {},
   "source": [
    "## Hyperparameter Regularisation"
   ]
  },
  {
   "cell_type": "markdown",
   "id": "a444e0f8",
   "metadata": {},
   "source": [
    "We want to create a number of trees using different parameters to evaluate each parameters effect on the resulting model. This is to increase or reduce overfitting where necessary to give a model that extends well to testing data. We'll compare the resulting scores of each model and evaluate the trees themselves."
   ]
  },
  {
   "cell_type": "code",
   "execution_count": 13,
   "id": "3851a461",
   "metadata": {},
   "outputs": [],
   "source": [
    "def hyperparameter_regularisation(X_train, X_test, y_train, y_test, max_depth = None, min_samples_leaf = 1):\n",
    "    tree = DecisionTreeClassifier(max_depth = max_depth, min_samples_leaf = min_samples_leaf, random_state = 1)\n",
    "    tree.fit(X_train, y_train)\n",
    "    y_pred = tree.predict(X_test)\n",
    "\n",
    "    score = accuracy_score(y_test, y_pred)\n",
    "    \n",
    "    return tree, score"
   ]
  },
  {
   "cell_type": "markdown",
   "id": "70f0ad5f",
   "metadata": {},
   "source": [
    "## Test 1"
   ]
  },
  {
   "cell_type": "code",
   "execution_count": null,
   "id": "aef69194",
   "metadata": {},
   "outputs": [],
   "source": [
    "tree_1, score_1 = hyperparameter_regularisation(X_train, X_test, y_train, y_test)\n",
    "\n",
    "plt.figure(figsize=(9,6))\n",
    "plot_tree(tree_1, fontsize=10)\n",
    "plt.show()\n",
    "print(\"Score: {:.2f}\".format(score_1))"
   ]
  },
  {
   "cell_type": "markdown",
   "id": "e9414053",
   "metadata": {},
   "source": [
    "This tree has a score of 69%. Due to the high dispersal of the samples it appears that the tree may be slightly overfitting the training data. One way of reducing the overfitting is to set a limit on the tree depth. This is done with the `max_depth` parameter in Test 2."
   ]
  },
  {
   "cell_type": "markdown",
   "id": "3cc02c9f",
   "metadata": {},
   "source": [
    "## Test 2"
   ]
  },
  {
   "cell_type": "code",
   "execution_count": null,
   "id": "0946444b",
   "metadata": {},
   "outputs": [],
   "source": [
    "tree_2, score_2 = hyperparameter_regularisation(X_train, X_test, y_train, y_test, max_depth = 2)\n",
    "\n",
    "plt.figure(figsize=(9,6))\n",
    "plot_tree(tree_2, fontsize=10)\n",
    "plt.show()\n",
    "print(\"Score: {:.2f}\".format(score_2))"
   ]
  },
  {
   "cell_type": "markdown",
   "id": "a8e93b44",
   "metadata": {},
   "source": [
    "This tree was produced with the maximum depth set to 2. Any model produced, therefore, cannot exceed two levels beyond the root node. This constraint slightly improves our score compared to the previous model by reducing the overfitting, as demonstrated by the higher value counts in each leaf node."
   ]
  },
  {
   "cell_type": "markdown",
   "id": "b57894cd",
   "metadata": {},
   "source": [
    "## Test 3"
   ]
  },
  {
   "cell_type": "code",
   "execution_count": null,
   "id": "510e40d6",
   "metadata": {},
   "outputs": [],
   "source": [
    "tree_3, score_3 = hyperparameter_regularisation(X_train, X_test, y_train, y_test, min_samples_leaf = 2)\n",
    "\n",
    "plt.figure(figsize=(9,6))\n",
    "plot_tree(tree_3, fontsize=10)\n",
    "plt.show()\n",
    "print(\"Score: {:.2f}\".format(score_3))"
   ]
  },
  {
   "cell_type": "markdown",
   "id": "ada14108",
   "metadata": {},
   "source": [
    "Another way to recude overfitting is to set the minimum number of samples that each leaf node can capture. As demonstrated in the above chart this does reduce the dispersal of the values when compared to Test 1.\n",
    "\n",
    "However, it does reduce the accuracy of the model and thus results in a lower score.\n",
    "\n",
    "### Conclusion\n",
    "\n",
    "It appears that, in this case, reducing the depth of the decision tree is the best way to reduce the overfitting and increase the score. The simpler tree is a better model of the data found in the test set."
   ]
  },
  {
   "cell_type": "markdown",
   "id": "20db7f54",
   "metadata": {},
   "source": [
    "## Tuned Decision Trees"
   ]
  },
  {
   "cell_type": "code",
   "execution_count": null,
   "id": "82c7accc",
   "metadata": {},
   "outputs": [],
   "source": [
    "# Tuned hyperparameters\n",
    "t_max_depth = 2"
   ]
  },
  {
   "cell_type": "markdown",
   "id": "f8ddb175",
   "metadata": {},
   "source": [
    "### Tree 1"
   ]
  },
  {
   "cell_type": "code",
   "execution_count": null,
   "id": "990c9732",
   "metadata": {},
   "outputs": [],
   "source": [
    "print(\"Training samples: %i, Testing samples: %i\" % (X_train.shape[0], X_test.shape[0]))"
   ]
  },
  {
   "cell_type": "code",
   "execution_count": null,
   "id": "60969e74",
   "metadata": {},
   "outputs": [],
   "source": [
    "# Create Decision Tree classifer object\n",
    "classifier1 = DecisionTreeClassifier(max_depth=t_max_depth)\n",
    "\n",
    "# Train Decision Tree Classifer\n",
    "classifier1 = classifier1.fit(X_train,y_train)\n",
    "\n",
    "#Predict the response for test dataset\n",
    "y1_pred = classifier1.predict(X_test)"
   ]
  },
  {
   "cell_type": "code",
   "execution_count": null,
   "id": "611b61a8",
   "metadata": {},
   "outputs": [],
   "source": [
    "t1_acc = accuracy_score(y_test, y1_pred)"
   ]
  },
  {
   "cell_type": "code",
   "execution_count": null,
   "id": "a730c54d",
   "metadata": {},
   "outputs": [],
   "source": [
    "plt.figure(figsize=(9,6))\n",
    "plot_tree(classifier1, fontsize=10)\n",
    "plt.show()\n",
    "\n",
    "metrics1 = show_metrics(classifier1, y_test, y1_pred)"
   ]
  },
  {
   "cell_type": "markdown",
   "id": "7d3b72b9",
   "metadata": {},
   "source": [
    "### Tree 2"
   ]
  },
  {
   "cell_type": "code",
   "execution_count": null,
   "id": "c18a4bde",
   "metadata": {},
   "outputs": [],
   "source": [
    "# Shift 30% of original training data to test set\n",
    "X2_train, X2_test, y2_train, y2_test = shift_instances(X_train, X_test, y_train, y_test, 0.3)\n",
    "print(\"Training samples: %i, Testing samples: %i\" % (X2_train.shape[0], X2_test.shape[0]))"
   ]
  },
  {
   "cell_type": "code",
   "execution_count": null,
   "id": "e2ed1ccf",
   "metadata": {},
   "outputs": [],
   "source": [
    "# Create Decision Tree classifer object\n",
    "classifier2 = DecisionTreeClassifier(max_depth=t_max_depth)\n",
    "\n",
    "# Train Decision Tree Classifer\n",
    "classifier2 = classifier2.fit(X2_train,y2_train)\n",
    "\n",
    "#Predict the response for test dataset\n",
    "y2_pred = classifier2.predict(X2_test)"
   ]
  },
  {
   "cell_type": "code",
   "execution_count": null,
   "id": "c52b5d43",
   "metadata": {},
   "outputs": [],
   "source": [
    "t2_acc = accuracy_score(y2_test, y2_pred)"
   ]
  },
  {
   "cell_type": "code",
   "execution_count": null,
   "id": "2655a48f",
   "metadata": {},
   "outputs": [],
   "source": [
    "plt.figure(figsize=(9,6))\n",
    "plot_tree(classifier2, fontsize=10)\n",
    "plt.show()\n",
    "\n",
    "metrics2 = show_metrics(classifier2, y2_test, y2_pred)"
   ]
  },
  {
   "cell_type": "markdown",
   "id": "45bec5a4",
   "metadata": {},
   "source": [
    "### Tree 3"
   ]
  },
  {
   "cell_type": "code",
   "execution_count": null,
   "id": "48b6a4c0",
   "metadata": {},
   "outputs": [],
   "source": [
    "# Shift 60% of original training data to test set\n",
    "X3_train, X3_test, y3_train, y3_test = shift_instances(X_train, X_test, y_train, y_test, 0.6)\n",
    "print(\"Training samples: %i, Testing samples: %i\" % (X3_train.shape[0], X3_test.shape[0]))"
   ]
  },
  {
   "cell_type": "code",
   "execution_count": null,
   "id": "7ac03e14",
   "metadata": {},
   "outputs": [],
   "source": [
    "# Create Decision Tree classifer object\n",
    "classifier3 = DecisionTreeClassifier(max_depth=t_max_depth)\n",
    "\n",
    "# Train Decision Tree Classifer\n",
    "classifier3 = classifier3.fit(X3_train,y3_train)\n",
    "\n",
    "#Predict the response for test dataset\n",
    "y3_pred = classifier3.predict(X3_test)"
   ]
  },
  {
   "cell_type": "code",
   "execution_count": null,
   "id": "7f5efce7",
   "metadata": {},
   "outputs": [],
   "source": [
    "t3_acc = accuracy_score(y3_test, y3_pred)"
   ]
  },
  {
   "cell_type": "code",
   "execution_count": null,
   "id": "cf4d4d08",
   "metadata": {},
   "outputs": [],
   "source": [
    "plt.figure(figsize=(9,6))\n",
    "plot_tree(classifier3, fontsize=10)\n",
    "plt.show()\n",
    "\n",
    "metrics3 = show_metrics(classifier3, y3_test, y3_pred)"
   ]
  },
  {
   "cell_type": "markdown",
   "id": "bd392f6a",
   "metadata": {},
   "source": [
    "### Summary"
   ]
  },
  {
   "cell_type": "code",
   "execution_count": null,
   "id": "30212892",
   "metadata": {},
   "outputs": [],
   "source": [
    "metrics = [metrics0, metrics1, metrics2, metrics3]\n",
    "metrics = np.asarray(metrics).reshape(4, 6)\n",
    "metrics = metrics.T\n",
    "\n",
    "fig, ax = plt.subplots(figsize=(5, 2))\n",
    "\n",
    "# hide axes\n",
    "fig.patch.set_visible(False)\n",
    "ax.axis('off')\n",
    "ax.axis('tight')\n",
    "\n",
    "columns = [\"Tree 0\", \"Tree 1\", \"Tree 2\", \"Tree 3\"]\n",
    "metric_labels = [\"Accuracy\", \"TP Rate\", \"FP Rate\", \"Precision\", \"Recall\", \"F measure\"]\n",
    "colors = [[\"w\", \"w\", \"#6DD670\", \"w\"], \n",
    "          [\"w\", \"w\", \"#6DD670\", \"w\"], \n",
    "          [\"w\", \"#6DD670\", \"w\", \"#6DD670\"], \n",
    "          [\"w\", \"#6DD670\", \"w\", \"#6DD670\"], \n",
    "          [\"w\", \"w\", \"#6DD670\", \"w\"], \n",
    "          [\"w\", \"w\", \"#6DD670\", \"w\"]]\n",
    "ax.table(metrics, colLabels=columns, rowLabels=metric_labels, loc='center', cellColours=colors)\n",
    "\n",
    "fig.tight_layout()\n",
    "\n",
    "plt.show()\n",
    "\n",
    "print(\"Tree 0:- Training Samples: %i\" % X_train.shape[0])\n",
    "print(\"Tree 1:- Training samples: %i, Testing samples: %i\" % (X_train.shape[0], X_test.shape[0]))\n",
    "print(\"Tree 2:- Training samples: %i, Testing samples: %i\" % (X2_train.shape[0], X2_test.shape[0]))\n",
    "print(\"Tree 3:- Training samples: %i, Testing samples: %i\" % (X3_train.shape[0], X3_test.shape[0]))\n",
    "print()\n",
    "print(\"Tuned Parameters:-\")\n",
    "print(\"max_depth = %i\" % t_max_depth)"
   ]
  },
  {
   "cell_type": "markdown",
   "id": "5a2936bb",
   "metadata": {},
   "source": [
    "## Random Forest Trees"
   ]
  },
  {
   "cell_type": "markdown",
   "id": "0fa57f06",
   "metadata": {},
   "source": [
    "### Tree 0"
   ]
  },
  {
   "cell_type": "code",
   "execution_count": null,
   "id": "aff8979b",
   "metadata": {},
   "outputs": [],
   "source": [
    "from sklearn.ensemble import RandomForestClassifier\n",
    "\n",
    "RFClassifier = RandomForestClassifier()\n",
    "\n",
    "RFClassifier = RFClassifier.fit(X_train,y_train)\n",
    "\n",
    "RFy_pred = RFClassifier.predict(X_train)"
   ]
  },
  {
   "cell_type": "code",
   "execution_count": null,
   "id": "ba7e7a8a",
   "metadata": {},
   "outputs": [],
   "source": [
    "accuracy_score(y_train, RFy_pred)"
   ]
  },
  {
   "cell_type": "code",
   "execution_count": null,
   "id": "daa5a4d1",
   "metadata": {},
   "outputs": [],
   "source": [
    "cross_val_score(RFClassifier, X_train, y_train, cv=6)"
   ]
  },
  {
   "cell_type": "code",
   "execution_count": null,
   "id": "4d7d3e44",
   "metadata": {},
   "outputs": [],
   "source": [
    "show_metrics(RFClassifier, y_train, RFy_pred)"
   ]
  },
  {
   "cell_type": "markdown",
   "id": "d15be46d",
   "metadata": {},
   "source": [
    "### Tree 1"
   ]
  },
  {
   "cell_type": "code",
   "execution_count": null,
   "id": "2f168972",
   "metadata": {},
   "outputs": [],
   "source": [
    "RFClassifier1 = RandomForestClassifier()\n",
    "\n",
    "RFClassifier1 = RFClassifier1.fit(X_train,y_train)\n",
    "\n",
    "RFy1_pred = RFClassifier1.predict(X_test)"
   ]
  },
  {
   "cell_type": "code",
   "execution_count": null,
   "id": "b153fe48",
   "metadata": {},
   "outputs": [],
   "source": [
    "accuracy_score(y_test, RFy1_pred)"
   ]
  },
  {
   "cell_type": "code",
   "execution_count": null,
   "id": "0232158e",
   "metadata": {},
   "outputs": [],
   "source": [
    "show_metrics(RFClassifier1, y_test, RFy1_pred)"
   ]
  },
  {
   "cell_type": "markdown",
   "id": "f670d751",
   "metadata": {},
   "source": [
    "### Tree 2"
   ]
  },
  {
   "cell_type": "code",
   "execution_count": null,
   "id": "93476033",
   "metadata": {},
   "outputs": [],
   "source": [
    "RFClassifier2 = RandomForestClassifier()\n",
    "\n",
    "RFClassifier2 = RFClassifier2.fit(X2_train,y2_train)\n",
    "\n",
    "RFy2_pred = RFClassifier2.predict(X2_test)"
   ]
  },
  {
   "cell_type": "code",
   "execution_count": null,
   "id": "98b6bdd0",
   "metadata": {},
   "outputs": [],
   "source": [
    "accuracy_score(y2_test, RFy2_pred)"
   ]
  },
  {
   "cell_type": "code",
   "execution_count": null,
   "id": "16141d20",
   "metadata": {},
   "outputs": [],
   "source": [
    "show_metrics(RFClassifier2, y2_test, RFy2_pred)"
   ]
  },
  {
   "cell_type": "markdown",
   "id": "6dd6661b",
   "metadata": {},
   "source": [
    "### Tree 3"
   ]
  },
  {
   "cell_type": "code",
   "execution_count": null,
   "id": "78d359a5",
   "metadata": {},
   "outputs": [],
   "source": [
    "RFClassifier3 = RandomForestClassifier()\n",
    "\n",
    "RFClassifier3 = RFClassifier3.fit(X3_train,y3_train)\n",
    "\n",
    "RFy3_pred = RFClassifier3.predict(X3_test)"
   ]
  },
  {
   "cell_type": "code",
   "execution_count": null,
   "id": "8c96987a",
   "metadata": {},
   "outputs": [],
   "source": [
    "accuracy_score(y3_test, RFy3_pred)"
   ]
  },
  {
   "cell_type": "code",
   "execution_count": null,
   "id": "33d22186",
   "metadata": {},
   "outputs": [],
   "source": [
    "show_metrics(RFClassifier3, y3_test, RFy3_pred)"
   ]
  },
  {
   "cell_type": "code",
   "execution_count": null,
   "id": "87a4aa76",
   "metadata": {},
   "outputs": [],
   "source": []
  }
 ],
 "metadata": {
  "kernelspec": {
   "display_name": "Python 3 (ipykernel)",
   "language": "python",
   "name": "python3"
  },
  "language_info": {
   "codemirror_mode": {
    "name": "ipython",
    "version": 3
   },
   "file_extension": ".py",
   "mimetype": "text/x-python",
   "name": "python",
   "nbconvert_exporter": "python",
   "pygments_lexer": "ipython3",
   "version": "3.10.4"
  }
 },
 "nbformat": 4,
 "nbformat_minor": 5
}
