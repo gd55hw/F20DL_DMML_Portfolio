{
 "cells": [
  {
   "cell_type": "markdown",
   "id": "074de8a6",
   "metadata": {},
   "source": [
    "# F20DL Lab 8"
   ]
  },
  {
   "cell_type": "markdown",
   "id": "737d3b70",
   "metadata": {},
   "source": [
    "## Setup"
   ]
  },
  {
   "cell_type": "code",
   "execution_count": 1,
   "id": "14c2d24e",
   "metadata": {},
   "outputs": [],
   "source": [
    "# Python ≥3.5 is required\n",
    "import sys\n",
    "assert sys.version_info >= (3, 5)\n",
    "\n",
    "# Scikit-Learn ≥0.20 is required\n",
    "import sklearn\n",
    "assert sklearn.__version__ >= \"0.20\"\n",
    "\n",
    "# Common imports\n",
    "import numpy as np\n",
    "import os\n",
    "import pandas as pd\n",
    "import math\n",
    "from sklearn.tree import DecisionTreeClassifier\n",
    "from sklearn.model_selection import train_test_split, cross_val_score\n",
    "from sklearn.metrics import accuracy_score\n",
    "\n",
    "# to make this notebook's output stable across runs\n",
    "np.random.seed(42)\n",
    "\n",
    "# To plot pretty figures\n",
    "%matplotlib inline\n",
    "import matplotlib as mpl\n",
    "import matplotlib.pyplot as plt\n",
    "mpl.rc('axes', labelsize=8)\n",
    "mpl.rc('xtick', labelsize=8)\n",
    "mpl.rc('ytick', labelsize=8)\n",
    "\n",
    "# Ignore useless warnings (see SciPy issue #5998)\n",
    "import warnings\n",
    "warnings.filterwarnings(action=\"ignore\", message=\"^internal gelsd\")"
   ]
  },
  {
   "cell_type": "code",
   "execution_count": 2,
   "id": "36ca6875",
   "metadata": {},
   "outputs": [],
   "source": [
    "# Load the dataset into numpy arrays\n",
    "images = np.load(\"./datasets/smiley_X.npy\")\n",
    "labels = np.load(\"./datasets/smiley_Y.npy\")"
   ]
  },
  {
   "cell_type": "code",
   "execution_count": 3,
   "id": "53ae9ed5",
   "metadata": {},
   "outputs": [],
   "source": [
    "# Flatten image data and convert values to int\n",
    "X = np.asarray([x.flatten() for x in images]).astype(int)\n",
    "y = labels.astype(int)"
   ]
  },
  {
   "cell_type": "code",
   "execution_count": 4,
   "id": "37ce736d",
   "metadata": {},
   "outputs": [
    {
     "data": {
      "text/plain": [
       "0.0"
      ]
     },
     "execution_count": 4,
     "metadata": {},
     "output_type": "execute_result"
    }
   ],
   "source": [
    "# data is a list of all images. Images are represented as a flattened row of pixel values.\n",
    "# To get pixel (r, c) of image i, use X[i-1][9*(r-1) + (c-1)] \n",
    "# Or use images[i][r-1][c-1][0]\n",
    "\n",
    "# X[0] returns a row of pixel values representing the 1st image.\n",
    "# X[0][24] and images[0][2][6][0] return the value of the pixel in the 3rd row and 7th column of the 1st image \n",
    "# (r=3, c=7).\n",
    "# y[0] returns the label for the 1st image.\n",
    "images[0][0][0][0]"
   ]
  },
  {
   "cell_type": "code",
   "execution_count": 5,
   "id": "a7590bfa",
   "metadata": {},
   "outputs": [],
   "source": [
    "# Shows smiley as an image. 'smiley' should be an element in 'images'\n",
    "def show_smiley(smiley):\n",
    "    plt.figure(figsize=(2,2))\n",
    "    plt.imshow(smiley, cmap=\"Greys\")"
   ]
  },
  {
   "cell_type": "code",
   "execution_count": 6,
   "id": "ddd3e412",
   "metadata": {},
   "outputs": [],
   "source": [
    "# Shifts a percentage of instances from the training set to the test set and returns the new training and test sets\n",
    "def shift_instances(d_train, d_test, t_train, t_test, percent):    \n",
    "    shift_count = math.ceil(percent * d_train.shape[0])    # No. of instances to shift\n",
    "\n",
    "    # Shift first x% of samples to test set\n",
    "    new_d_train = d_train[shift_count:]\n",
    "    new_d_test = np.concatenate((d_test, d_train[:shift_count]))\n",
    "    new_t_train = t_train[shift_count:]\n",
    "    new_t_test = np.concatenate((t_test, t_train[:shift_count]))\n",
    "    return (new_d_train, new_d_test, new_t_train, new_t_test)"
   ]
  },
  {
   "cell_type": "markdown",
   "id": "d307df3c",
   "metadata": {},
   "source": [
    "## Decision Trees"
   ]
  },
  {
   "cell_type": "code",
   "execution_count": 7,
   "id": "1065f92f",
   "metadata": {},
   "outputs": [],
   "source": [
    "### Tree 0"
   ]
  },
  {
   "cell_type": "code",
   "execution_count": 8,
   "id": "3b3384ce",
   "metadata": {},
   "outputs": [
    {
     "name": "stdout",
     "output_type": "stream",
     "text": [
      "Training samples: 100, Testing samples: 44\n"
     ]
    }
   ],
   "source": [
    "X_train, X_test, y_train, y_test = train_test_split(X, y, test_size=0.3, random_state=1) # 70% training and 30% test\n",
    "print(\"Training samples: %i, Testing samples: %i\" % (X_train.shape[0], X_test.shape[0]))"
   ]
  },
  {
   "cell_type": "code",
   "execution_count": 9,
   "id": "de360407",
   "metadata": {},
   "outputs": [],
   "source": [
    "# Create Decision Tree classifer object\n",
    "classifier = DecisionTreeClassifier()\n",
    "\n",
    "# Train Decision Tree Classifer\n",
    "classifier = classifier.fit(X_train,y_train)\n",
    "\n",
    "#Predict the response for test dataset\n",
    "y_pred = classifier.predict(X_train)"
   ]
  },
  {
   "cell_type": "code",
   "execution_count": 10,
   "id": "9b35b2c1",
   "metadata": {},
   "outputs": [
    {
     "data": {
      "text/plain": [
       "1.0"
      ]
     },
     "execution_count": 10,
     "metadata": {},
     "output_type": "execute_result"
    }
   ],
   "source": [
    "accuracy_score(y_train, y_pred)"
   ]
  },
  {
   "cell_type": "code",
   "execution_count": 11,
   "id": "40392ea9",
   "metadata": {},
   "outputs": [
    {
     "data": {
      "text/plain": [
       "array([1., 1., 1., 1., 1., 1., 1., 1., 1., 1.])"
      ]
     },
     "execution_count": 11,
     "metadata": {},
     "output_type": "execute_result"
    }
   ],
   "source": [
    "cross_val_score(classifier, X_train, y_train, cv=10)"
   ]
  },
  {
   "cell_type": "markdown",
   "id": "f8ddb175",
   "metadata": {},
   "source": [
    "### Tree 1"
   ]
  },
  {
   "cell_type": "code",
   "execution_count": 12,
   "id": "60969e74",
   "metadata": {},
   "outputs": [],
   "source": [
    "# Create Decision Tree classifer object\n",
    "classifier1 = DecisionTreeClassifier()\n",
    "\n",
    "# Train Decision Tree Classifer\n",
    "classifier1 = classifier1.fit(X_train,y_train)\n",
    "\n",
    "#Predict the response for test dataset\n",
    "y1_pred = classifier1.predict(X_test)"
   ]
  },
  {
   "cell_type": "code",
   "execution_count": 13,
   "id": "611b61a8",
   "metadata": {},
   "outputs": [
    {
     "data": {
      "text/plain": [
       "1.0"
      ]
     },
     "execution_count": 13,
     "metadata": {},
     "output_type": "execute_result"
    }
   ],
   "source": [
    "accuracy_score(y_test, y1_pred)"
   ]
  },
  {
   "cell_type": "markdown",
   "id": "7d3b72b9",
   "metadata": {},
   "source": [
    "### Tree 2"
   ]
  },
  {
   "cell_type": "code",
   "execution_count": 14,
   "id": "c18a4bde",
   "metadata": {},
   "outputs": [
    {
     "name": "stdout",
     "output_type": "stream",
     "text": [
      "Training samples: 70, Testing samples: 74\n"
     ]
    }
   ],
   "source": [
    "# Shift 30% of original training data to test set\n",
    "X2_train, X2_test, y2_train, y2_test = shift_instances(X_train, X_test, y_train, y_test, 0.3)\n",
    "print(\"Training samples: %i, Testing samples: %i\" % (X2_train.shape[0], X2_test.shape[0]))"
   ]
  },
  {
   "cell_type": "code",
   "execution_count": 15,
   "id": "e2ed1ccf",
   "metadata": {},
   "outputs": [],
   "source": [
    "# Create Decision Tree classifer object\n",
    "classifier2 = DecisionTreeClassifier()\n",
    "\n",
    "# Train Decision Tree Classifer\n",
    "classifier2 = classifier2.fit(X2_train,y2_train)\n",
    "\n",
    "#Predict the response for test dataset\n",
    "y2_pred = classifier2.predict(X2_test)"
   ]
  },
  {
   "cell_type": "code",
   "execution_count": 16,
   "id": "c52b5d43",
   "metadata": {},
   "outputs": [
    {
     "data": {
      "text/plain": [
       "1.0"
      ]
     },
     "execution_count": 16,
     "metadata": {},
     "output_type": "execute_result"
    }
   ],
   "source": [
    "accuracy_score(y2_test, y2_pred)"
   ]
  },
  {
   "cell_type": "markdown",
   "id": "45bec5a4",
   "metadata": {},
   "source": [
    "### Tree 3"
   ]
  },
  {
   "cell_type": "code",
   "execution_count": 17,
   "id": "48b6a4c0",
   "metadata": {},
   "outputs": [
    {
     "name": "stdout",
     "output_type": "stream",
     "text": [
      "Training samples: 40, Testing samples: 104\n"
     ]
    }
   ],
   "source": [
    "# Shift 60% of original training data to test set\n",
    "X3_train, X3_test, y3_train, y3_test = shift_instances(X_train, X_test, y_train, y_test, 0.6)\n",
    "print(\"Training samples: %i, Testing samples: %i\" % (X3_train.shape[0], X3_test.shape[0]))"
   ]
  },
  {
   "cell_type": "code",
   "execution_count": 18,
   "id": "7ac03e14",
   "metadata": {},
   "outputs": [],
   "source": [
    "# Create Decision Tree classifer object\n",
    "classifier3 = DecisionTreeClassifier()\n",
    "\n",
    "# Train Decision Tree Classifer\n",
    "classifier3 = classifier3.fit(X3_train,y3_train)\n",
    "\n",
    "#Predict the response for test dataset\n",
    "y3_pred = classifier3.predict(X3_test)"
   ]
  },
  {
   "cell_type": "code",
   "execution_count": 19,
   "id": "7f5efce7",
   "metadata": {},
   "outputs": [
    {
     "data": {
      "text/plain": [
       "1.0"
      ]
     },
     "execution_count": 19,
     "metadata": {},
     "output_type": "execute_result"
    }
   ],
   "source": [
    "accuracy_score(y3_test, y3_pred)"
   ]
  },
  {
   "cell_type": "markdown",
   "id": "5a2936bb",
   "metadata": {},
   "source": [
    "## Random Forest Trees"
   ]
  },
  {
   "cell_type": "markdown",
   "id": "d15be46d",
   "metadata": {},
   "source": [
    "# Tree 1"
   ]
  },
  {
   "cell_type": "code",
   "execution_count": 20,
   "id": "2f168972",
   "metadata": {},
   "outputs": [],
   "source": [
    "from sklearn.ensemble import RandomForestClassifier\n",
    "\n",
    "RFClassifier = RandomForestClassifier()\n",
    "\n",
    "RFClassifier = RFClassifier.fit(X_train,y_train)\n",
    "\n",
    "RFy_pred = RFClassifier.predict(X_test)"
   ]
  },
  {
   "cell_type": "code",
   "execution_count": 21,
   "id": "b153fe48",
   "metadata": {},
   "outputs": [
    {
     "data": {
      "text/plain": [
       "1.0"
      ]
     },
     "execution_count": 21,
     "metadata": {},
     "output_type": "execute_result"
    }
   ],
   "source": [
    "accuracy_score(y_test, RFy_pred)"
   ]
  },
  {
   "cell_type": "markdown",
   "id": "f670d751",
   "metadata": {},
   "source": [
    "# Tree 2"
   ]
  },
  {
   "cell_type": "code",
   "execution_count": 22,
   "id": "93476033",
   "metadata": {},
   "outputs": [],
   "source": [
    "RFClassifier2 = RandomForestClassifier()\n",
    "\n",
    "RFClassifier2 = RFClassifier2.fit(X2_train,y2_train)\n",
    "\n",
    "RFy2_pred = RFClassifier2.predict(X2_test)"
   ]
  },
  {
   "cell_type": "code",
   "execution_count": 23,
   "id": "98b6bdd0",
   "metadata": {},
   "outputs": [
    {
     "data": {
      "text/plain": [
       "1.0"
      ]
     },
     "execution_count": 23,
     "metadata": {},
     "output_type": "execute_result"
    }
   ],
   "source": [
    "accuracy_score(y2_test, RFy2_pred)"
   ]
  },
  {
   "cell_type": "markdown",
   "id": "6dd6661b",
   "metadata": {},
   "source": [
    "# Tree 3"
   ]
  },
  {
   "cell_type": "code",
   "execution_count": 24,
   "id": "78d359a5",
   "metadata": {},
   "outputs": [],
   "source": [
    "RFClassifier3 = RandomForestClassifier()\n",
    "\n",
    "RFClassifier3 = RFClassifier3.fit(X3_train,y3_train)\n",
    "\n",
    "RFy3_pred = RFClassifier3.predict(X3_test)"
   ]
  },
  {
   "cell_type": "code",
   "execution_count": 25,
   "id": "8c96987a",
   "metadata": {},
   "outputs": [
    {
     "data": {
      "text/plain": [
       "1.0"
      ]
     },
     "execution_count": 25,
     "metadata": {},
     "output_type": "execute_result"
    }
   ],
   "source": [
    "accuracy_score(y3_test, RFy3_pred)"
   ]
  }
 ],
 "metadata": {
  "kernelspec": {
   "display_name": "Python 3 (ipykernel)",
   "language": "python",
   "name": "python3"
  },
  "language_info": {
   "codemirror_mode": {
    "name": "ipython",
    "version": 3
   },
   "file_extension": ".py",
   "mimetype": "text/x-python",
   "name": "python",
   "nbconvert_exporter": "python",
   "pygments_lexer": "ipython3",
   "version": "3.10.4"
  }
 },
 "nbformat": 4,
 "nbformat_minor": 5
}
