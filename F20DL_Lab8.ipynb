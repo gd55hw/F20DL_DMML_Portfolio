{
 "cells": [
  {
   "cell_type": "markdown",
   "id": "074de8a6",
   "metadata": {},
   "source": [
    "# F20DL Lab 8"
   ]
  },
  {
   "cell_type": "markdown",
   "id": "737d3b70",
   "metadata": {},
   "source": [
    "## Setup"
   ]
  },
  {
   "cell_type": "code",
   "execution_count": 1,
   "id": "14c2d24e",
   "metadata": {},
   "outputs": [],
   "source": [
    "# Python ≥3.5 is required\n",
    "import sys\n",
    "assert sys.version_info >= (3, 5)\n",
    "\n",
    "# Scikit-Learn ≥0.20 is required\n",
    "import sklearn\n",
    "assert sklearn.__version__ >= \"0.20\"\n",
    "\n",
    "# Common imports\n",
    "import numpy as np\n",
    "import os\n",
    "import pandas as pd\n",
    "\n",
    "# to make this notebook's output stable across runs\n",
    "np.random.seed(42)\n",
    "\n",
    "# To plot pretty figures\n",
    "%matplotlib inline\n",
    "import matplotlib as mpl\n",
    "import matplotlib.pyplot as plt\n",
    "mpl.rc('axes', labelsize=8)\n",
    "mpl.rc('xtick', labelsize=8)\n",
    "mpl.rc('ytick', labelsize=8)\n",
    "\n",
    "# Ignore useless warnings (see SciPy issue #5998)\n",
    "import warnings\n",
    "warnings.filterwarnings(action=\"ignore\", message=\"^internal gelsd\")"
   ]
  },
  {
   "cell_type": "code",
   "execution_count": 2,
   "id": "36ca6875",
   "metadata": {},
   "outputs": [],
   "source": [
    "# Load the dataset into numpy arrays\n",
    "images = np.load(\"./datasets/smiley_X.npy\")\n",
    "labels = np.load(\"./datasets/smiley_Y.npy\")"
   ]
  },
  {
   "cell_type": "code",
   "execution_count": 3,
   "id": "a7590bfa",
   "metadata": {},
   "outputs": [],
   "source": [
    "# Shows smiley as an image. 'smiley' should be an element in 'images'\n",
    "def show_smiley(smiley):\n",
    "    plt.figure(figsize=(2,2))\n",
    "    plt.imshow(smiley, cmap=\"Greys\")"
   ]
  },
  {
   "cell_type": "code",
   "execution_count": 4,
   "id": "1b09467d",
   "metadata": {},
   "outputs": [],
   "source": [
    "# Flatten image data and convert values to int\n",
    "data = np.asarray([x.flatten() for x in images]).astype(int)\n",
    "target = labels.astype(int)"
   ]
  },
  {
   "cell_type": "code",
   "execution_count": 5,
   "id": "37ce736d",
   "metadata": {},
   "outputs": [],
   "source": [
    "# data is a list of all images. Images are represented as a flattened row of pixel values.\n",
    "# To get pixel (r, c) of image i, use data[i-1][9*(r-1) + (c-1)] \n",
    "# Or use images[i][r-1][c-1][0]\n",
    "\n",
    "# data[0] returns a row of pixel values representing the 1st image.\n",
    "# data[0][24] and images[0][2][6][0] return the value of the pixel in the 3rd row and 7th column of the 1st image \n",
    "# (r=3, c=7).\n",
    "# target[0] returns the label for the 1st image."
   ]
  },
  {
   "cell_type": "markdown",
   "id": "d307df3c",
   "metadata": {},
   "source": [
    "## Decision Trees"
   ]
  },
  {
   "cell_type": "code",
   "execution_count": null,
   "id": "3b3384ce",
   "metadata": {},
   "outputs": [],
   "source": []
  }
 ],
 "metadata": {
  "kernelspec": {
   "display_name": "Python 3 (ipykernel)",
   "language": "python",
   "name": "python3"
  },
  "language_info": {
   "codemirror_mode": {
    "name": "ipython",
    "version": 3
   },
   "file_extension": ".py",
   "mimetype": "text/x-python",
   "name": "python",
   "nbconvert_exporter": "python",
   "pygments_lexer": "ipython3",
   "version": "3.10.4"
  }
 },
 "nbformat": 4,
 "nbformat_minor": 5
}
